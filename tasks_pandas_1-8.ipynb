{
 "cells": [
  {
   "cell_type": "code",
   "execution_count": 184,
   "id": "7da1116b",
   "metadata": {},
   "outputs": [],
   "source": [
    "import numpy as np\n",
    "import pandas as pd\n",
    "import matplotlib.pyplot as plt"
   ]
  },
  {
   "cell_type": "markdown",
   "id": "1e452cec",
   "metadata": {},
   "source": [
    "# 1. Загружаем данные из файла works"
   ]
  },
  {
   "cell_type": "code",
   "execution_count": 185,
   "id": "ada21dce",
   "metadata": {},
   "outputs": [
    {
     "data": {
      "text/html": [
       "<div>\n",
       "<style scoped>\n",
       "    .dataframe tbody tr th:only-of-type {\n",
       "        vertical-align: middle;\n",
       "    }\n",
       "\n",
       "    .dataframe tbody tr th {\n",
       "        vertical-align: top;\n",
       "    }\n",
       "\n",
       "    .dataframe thead th {\n",
       "        text-align: right;\n",
       "    }\n",
       "</style>\n",
       "<table border=\"1\" class=\"dataframe\">\n",
       "  <thead>\n",
       "    <tr style=\"text-align: right;\">\n",
       "      <th></th>\n",
       "      <th>salary</th>\n",
       "      <th>educationType</th>\n",
       "      <th>jobTitle</th>\n",
       "      <th>qualification</th>\n",
       "      <th>gender</th>\n",
       "      <th>dateModify</th>\n",
       "      <th>skills</th>\n",
       "      <th>otherInfo</th>\n",
       "    </tr>\n",
       "  </thead>\n",
       "  <tbody>\n",
       "    <tr>\n",
       "      <th>0</th>\n",
       "      <td>60000</td>\n",
       "      <td>Высшее</td>\n",
       "      <td>Специалист пресс-службы</td>\n",
       "      <td>Магистр</td>\n",
       "      <td>Мужской</td>\n",
       "      <td>2021-04-01</td>\n",
       "      <td>&lt;p&gt;Аналитическое&amp;nbsp;мышление,&amp;nbsp;&lt;span cla...</td>\n",
       "      <td>NaN</td>\n",
       "    </tr>\n",
       "    <tr>\n",
       "      <th>1</th>\n",
       "      <td>85000</td>\n",
       "      <td>Высшее</td>\n",
       "      <td>менеджер проектов</td>\n",
       "      <td>NaN</td>\n",
       "      <td>Мужской</td>\n",
       "      <td>2021-04-01</td>\n",
       "      <td>NaN</td>\n",
       "      <td>NaN</td>\n",
       "    </tr>\n",
       "    <tr>\n",
       "      <th>2</th>\n",
       "      <td>15000</td>\n",
       "      <td>Среднее профессиональное</td>\n",
       "      <td>....</td>\n",
       "      <td>NaN</td>\n",
       "      <td>Женский</td>\n",
       "      <td>2021-06-01</td>\n",
       "      <td>NaN</td>\n",
       "      <td>NaN</td>\n",
       "    </tr>\n",
       "    <tr>\n",
       "      <th>3</th>\n",
       "      <td>30000</td>\n",
       "      <td>NaN</td>\n",
       "      <td>NaN</td>\n",
       "      <td>NaN</td>\n",
       "      <td>Женский</td>\n",
       "      <td>2021-04-03</td>\n",
       "      <td>NaN</td>\n",
       "      <td>NaN</td>\n",
       "    </tr>\n",
       "    <tr>\n",
       "      <th>4</th>\n",
       "      <td>45000</td>\n",
       "      <td>NaN</td>\n",
       "      <td>NaN</td>\n",
       "      <td>NaN</td>\n",
       "      <td>Мужской</td>\n",
       "      <td>2021-06-28</td>\n",
       "      <td>NaN</td>\n",
       "      <td>NaN</td>\n",
       "    </tr>\n",
       "    <tr>\n",
       "      <th>...</th>\n",
       "      <td>...</td>\n",
       "      <td>...</td>\n",
       "      <td>...</td>\n",
       "      <td>...</td>\n",
       "      <td>...</td>\n",
       "      <td>...</td>\n",
       "      <td>...</td>\n",
       "      <td>...</td>\n",
       "    </tr>\n",
       "    <tr>\n",
       "      <th>32678</th>\n",
       "      <td>15000</td>\n",
       "      <td>NaN</td>\n",
       "      <td>NaN</td>\n",
       "      <td>NaN</td>\n",
       "      <td>Женский</td>\n",
       "      <td>2021-06-23</td>\n",
       "      <td>NaN</td>\n",
       "      <td>NaN</td>\n",
       "    </tr>\n",
       "    <tr>\n",
       "      <th>32679</th>\n",
       "      <td>13000</td>\n",
       "      <td>Среднее</td>\n",
       "      <td>уборщица</td>\n",
       "      <td>NaN</td>\n",
       "      <td>Женский</td>\n",
       "      <td>2021-07-29</td>\n",
       "      <td>NaN</td>\n",
       "      <td>NaN</td>\n",
       "    </tr>\n",
       "    <tr>\n",
       "      <th>32680</th>\n",
       "      <td>16000</td>\n",
       "      <td>Среднее профессиональное</td>\n",
       "      <td>кочегар машинист котельной</td>\n",
       "      <td>NaN</td>\n",
       "      <td>Мужской</td>\n",
       "      <td>2021-11-11</td>\n",
       "      <td>NaN</td>\n",
       "      <td>NaN</td>\n",
       "    </tr>\n",
       "    <tr>\n",
       "      <th>32681</th>\n",
       "      <td>35000</td>\n",
       "      <td>Высшее</td>\n",
       "      <td>NaN</td>\n",
       "      <td>NaN</td>\n",
       "      <td>Мужской</td>\n",
       "      <td>2020-04-21</td>\n",
       "      <td>NaN</td>\n",
       "      <td>NaN</td>\n",
       "    </tr>\n",
       "    <tr>\n",
       "      <th>32682</th>\n",
       "      <td>30000</td>\n",
       "      <td>NaN</td>\n",
       "      <td>NaN</td>\n",
       "      <td>NaN</td>\n",
       "      <td>Мужской</td>\n",
       "      <td>2021-06-20</td>\n",
       "      <td>NaN</td>\n",
       "      <td>NaN</td>\n",
       "    </tr>\n",
       "  </tbody>\n",
       "</table>\n",
       "<p>32683 rows × 8 columns</p>\n",
       "</div>"
      ],
      "text/plain": [
       "       salary             educationType                    jobTitle  \\\n",
       "0       60000                    Высшее     Специалист пресс-службы   \n",
       "1       85000                    Высшее           менеджер проектов   \n",
       "2       15000  Среднее профессиональное                        ....   \n",
       "3       30000                       NaN                         NaN   \n",
       "4       45000                       NaN                         NaN   \n",
       "...       ...                       ...                         ...   \n",
       "32678   15000                       NaN                         NaN   \n",
       "32679   13000                   Среднее                    уборщица   \n",
       "32680   16000  Среднее профессиональное  кочегар машинист котельной   \n",
       "32681   35000                    Высшее                         NaN   \n",
       "32682   30000                       NaN                         NaN   \n",
       "\n",
       "      qualification   gender  dateModify  \\\n",
       "0           Магистр  Мужской  2021-04-01   \n",
       "1               NaN  Мужской  2021-04-01   \n",
       "2               NaN  Женский  2021-06-01   \n",
       "3               NaN  Женский  2021-04-03   \n",
       "4               NaN  Мужской  2021-06-28   \n",
       "...             ...      ...         ...   \n",
       "32678           NaN  Женский  2021-06-23   \n",
       "32679           NaN  Женский  2021-07-29   \n",
       "32680           NaN  Мужской  2021-11-11   \n",
       "32681           NaN  Мужской  2020-04-21   \n",
       "32682           NaN  Мужской  2021-06-20   \n",
       "\n",
       "                                                  skills otherInfo  \n",
       "0      <p>Аналитическое&nbsp;мышление,&nbsp;<span cla...       NaN  \n",
       "1                                                    NaN       NaN  \n",
       "2                                                    NaN       NaN  \n",
       "3                                                    NaN       NaN  \n",
       "4                                                    NaN       NaN  \n",
       "...                                                  ...       ...  \n",
       "32678                                                NaN       NaN  \n",
       "32679                                                NaN       NaN  \n",
       "32680                                                NaN       NaN  \n",
       "32681                                                NaN       NaN  \n",
       "32682                                                NaN       NaN  \n",
       "\n",
       "[32683 rows x 8 columns]"
      ]
     },
     "execution_count": 185,
     "metadata": {},
     "output_type": "execute_result"
    }
   ],
   "source": [
    "data = pd.read_csv(\"works.csv\")\n",
    "data"
   ]
  },
  {
   "cell_type": "markdown",
   "id": "4d528014",
   "metadata": {},
   "source": [
    "# 1. Узнать общее количество записей в датасете"
   ]
  },
  {
   "cell_type": "markdown",
   "id": "70b32d6d",
   "metadata": {},
   "source": [
    "Узнаем количество записей датафрейма можно несколькими способами"
   ]
  },
  {
   "cell_type": "code",
   "execution_count": 186,
   "id": "754ea3e8",
   "metadata": {},
   "outputs": [
    {
     "data": {
      "text/plain": [
       "32683"
      ]
     },
     "execution_count": 186,
     "metadata": {},
     "output_type": "execute_result"
    }
   ],
   "source": [
    "len(data)"
   ]
  },
  {
   "cell_type": "markdown",
   "id": "86b70f35",
   "metadata": {},
   "source": [
    "Общее количество элементов, проверяем через функцию size"
   ]
  },
  {
   "cell_type": "code",
   "execution_count": 187,
   "id": "5ca07e4e",
   "metadata": {},
   "outputs": [
    {
     "data": {
      "text/plain": [
       "261464"
      ]
     },
     "execution_count": 187,
     "metadata": {},
     "output_type": "execute_result"
    }
   ],
   "source": [
    "data.size"
   ]
  },
  {
   "cell_type": "markdown",
   "id": "5fd7333b",
   "metadata": {},
   "source": [
    "# 2. Узнать количество мужчин и женщин в датасете"
   ]
  },
  {
   "cell_type": "markdown",
   "id": "6c1a8ca8",
   "metadata": {},
   "source": [
    "Узнать количество мужчин и женщин в датасете можно применив функцию value_counts к столбцу \"gender\""
   ]
  },
  {
   "cell_type": "code",
   "execution_count": 188,
   "id": "c5fd4ce2",
   "metadata": {},
   "outputs": [
    {
     "data": {
      "text/plain": [
       "Женский    17910\n",
       "Мужской    13386\n",
       "Name: gender, dtype: int64"
      ]
     },
     "execution_count": 188,
     "metadata": {},
     "output_type": "execute_result"
    }
   ],
   "source": [
    "data['gender'].value_counts()"
   ]
  },
  {
   "cell_type": "markdown",
   "id": "ceffed9f",
   "metadata": {},
   "source": [
    "Применив аргумент normalize=True можем вычислить количество мужчин и женщин в процентом отношении"
   ]
  },
  {
   "cell_type": "code",
   "execution_count": 189,
   "id": "237859c3",
   "metadata": {},
   "outputs": [
    {
     "data": {
      "text/plain": [
       "Женский    0.572278\n",
       "Мужской    0.427722\n",
       "Name: gender, dtype: float64"
      ]
     },
     "execution_count": 189,
     "metadata": {},
     "output_type": "execute_result"
    }
   ],
   "source": [
    "data['gender'].value_counts(normalize=True)"
   ]
  },
  {
   "cell_type": "markdown",
   "id": "8c847b35",
   "metadata": {},
   "source": [
    "# 3. Узнать сколько значений в столбце skills не NAN"
   ]
  },
  {
   "cell_type": "markdown",
   "id": "ea69886b",
   "metadata": {},
   "source": [
    "Узнать сколько значений в столбце skills не NaN через функцию info"
   ]
  },
  {
   "cell_type": "code",
   "execution_count": 190,
   "id": "63f7f766",
   "metadata": {},
   "outputs": [
    {
     "name": "stdout",
     "output_type": "stream",
     "text": [
      "<class 'pandas.core.frame.DataFrame'>\n",
      "RangeIndex: 32683 entries, 0 to 32682\n",
      "Data columns (total 8 columns):\n",
      " #   Column         Non-Null Count  Dtype \n",
      "---  ------         --------------  ----- \n",
      " 0   salary         32683 non-null  int64 \n",
      " 1   educationType  24750 non-null  object\n",
      " 2   jobTitle       20259 non-null  object\n",
      " 3   qualification  12176 non-null  object\n",
      " 4   gender         31296 non-null  object\n",
      " 5   dateModify     32682 non-null  object\n",
      " 6   skills         8972 non-null   object\n",
      " 7   otherInfo      2316 non-null   object\n",
      "dtypes: int64(1), object(7)\n",
      "memory usage: 2.0+ MB\n"
     ]
    }
   ],
   "source": [
    "data.info()"
   ]
  },
  {
   "cell_type": "code",
   "execution_count": 191,
   "id": "9b63dae4",
   "metadata": {},
   "outputs": [
    {
     "data": {
      "text/plain": [
       "8972"
      ]
     },
     "execution_count": 191,
     "metadata": {},
     "output_type": "execute_result"
    }
   ],
   "source": [
    "data['skills'].notnull().sum()"
   ]
  },
  {
   "cell_type": "code",
   "execution_count": 192,
   "id": "815e62ec",
   "metadata": {},
   "outputs": [
    {
     "data": {
      "text/plain": [
       "8972"
      ]
     },
     "execution_count": 192,
     "metadata": {},
     "output_type": "execute_result"
    }
   ],
   "source": [
    "data['skills'].notnull().values.sum()"
   ]
  },
  {
   "cell_type": "markdown",
   "id": "79e1a2b9",
   "metadata": {},
   "source": [
    "# 4. Получить все заполненные скиллы"
   ]
  },
  {
   "cell_type": "markdown",
   "id": "6ba377d3",
   "metadata": {},
   "source": [
    "Получим все заполненные скилы с помощью фильтрации по столбцу"
   ]
  },
  {
   "cell_type": "code",
   "execution_count": 193,
   "id": "52a9828b",
   "metadata": {},
   "outputs": [
    {
     "data": {
      "text/plain": [
       "0        <p>Аналитическое&nbsp;мышление,&nbsp;<span cla...\n",
       "5        Ответственная,пунктуальная,дисциплинированная ...\n",
       "10                         <p>Коммуникабельность&nbsp;</p>\n",
       "13                         <p>Ответственность в работе</p>\n",
       "21       <p>Усидчивость, умение удерживать в памяти нуж...\n",
       "                               ...                        \n",
       "32665    <p>Отвественность</p><p>Исполнительность</p><p...\n",
       "32668    <p>Высокая работоспособность, нацеленность на ...\n",
       "32672                                <p>исполнительный</p>\n",
       "32674    <p>Нацелен на результат. Считаю себя командным...\n",
       "32675                                 <p>трудоспособен</p>\n",
       "Name: skills, Length: 8972, dtype: object"
      ]
     },
     "execution_count": 193,
     "metadata": {},
     "output_type": "execute_result"
    }
   ],
   "source": [
    "data[data['skills'].notna()]['skills']"
   ]
  },
  {
   "cell_type": "markdown",
   "id": "f21915af",
   "metadata": {},
   "source": [
    "# 5. Вывести зарплату только у тех, у которых в скиллах есть Python (Питон)"
   ]
  },
  {
   "cell_type": "markdown",
   "id": "ee181301",
   "metadata": {},
   "source": [
    "Получим все строки в которых присутствутет слово python или питон. Для этого при получении троки переведем все \n",
    "символы в нижний регистр"
   ]
  },
  {
   "cell_type": "code",
   "execution_count": 194,
   "id": "39d8095e",
   "metadata": {},
   "outputs": [],
   "source": [
    "df = data.skills.dropna().str.lower().str.contains('python|питон')"
   ]
  },
  {
   "cell_type": "code",
   "execution_count": 195,
   "id": "a30b9f50",
   "metadata": {},
   "outputs": [
    {
     "data": {
      "text/plain": [
       "230      35000\n",
       "334      20000\n",
       "2394     35000\n",
       "8096     15000\n",
       "9014     25000\n",
       "9667     90000\n",
       "20930    30000\n",
       "22530    50000\n",
       "28286    23000\n",
       "30430    23000\n",
       "Name: salary, dtype: int64"
      ]
     },
     "execution_count": 195,
     "metadata": {},
     "output_type": "execute_result"
    }
   ],
   "source": [
    "data[data.skills.notna()][df]['salary']"
   ]
  },
  {
   "cell_type": "markdown",
   "id": "454adfab",
   "metadata": {},
   "source": [
    "# 6. Построить перцентили по заработной плате у мужчин и женщин"
   ]
  },
  {
   "cell_type": "markdown",
   "id": "f88b7a85",
   "metadata": {},
   "source": [
    "Для вычисления перцентилей получим одномерный массив распределения от 0,1 до 1. "
   ]
  },
  {
   "cell_type": "code",
   "execution_count": 196,
   "id": "b180df5b",
   "metadata": {},
   "outputs": [
    {
     "data": {
      "text/plain": [
       "array([0.1, 0.2, 0.3, 0.4, 0.5, 0.6, 0.7, 0.8, 0.9, 1. ])"
      ]
     },
     "execution_count": 196,
     "metadata": {},
     "output_type": "execute_result"
    }
   ],
   "source": [
    "percent_linspace = np.linspace(.1, 1, 10)\n",
    "percent_linspace"
   ]
  },
  {
   "cell_type": "code",
   "execution_count": 197,
   "id": "e510cefd",
   "metadata": {},
   "outputs": [
    {
     "data": {
      "text/html": [
       "<div>\n",
       "<style scoped>\n",
       "    .dataframe tbody tr th:only-of-type {\n",
       "        vertical-align: middle;\n",
       "    }\n",
       "\n",
       "    .dataframe tbody tr th {\n",
       "        vertical-align: top;\n",
       "    }\n",
       "\n",
       "    .dataframe thead th {\n",
       "        text-align: right;\n",
       "    }\n",
       "</style>\n",
       "<table border=\"1\" class=\"dataframe\">\n",
       "  <thead>\n",
       "    <tr style=\"text-align: right;\">\n",
       "      <th></th>\n",
       "      <th>salary</th>\n",
       "    </tr>\n",
       "  </thead>\n",
       "  <tbody>\n",
       "    <tr>\n",
       "      <th>0.1</th>\n",
       "      <td>15000.0</td>\n",
       "    </tr>\n",
       "    <tr>\n",
       "      <th>0.2</th>\n",
       "      <td>20000.0</td>\n",
       "    </tr>\n",
       "    <tr>\n",
       "      <th>0.3</th>\n",
       "      <td>25000.0</td>\n",
       "    </tr>\n",
       "    <tr>\n",
       "      <th>0.4</th>\n",
       "      <td>30000.0</td>\n",
       "    </tr>\n",
       "    <tr>\n",
       "      <th>0.5</th>\n",
       "      <td>30000.0</td>\n",
       "    </tr>\n",
       "    <tr>\n",
       "      <th>0.6</th>\n",
       "      <td>35000.0</td>\n",
       "    </tr>\n",
       "    <tr>\n",
       "      <th>0.7</th>\n",
       "      <td>40000.0</td>\n",
       "    </tr>\n",
       "    <tr>\n",
       "      <th>0.8</th>\n",
       "      <td>50000.0</td>\n",
       "    </tr>\n",
       "    <tr>\n",
       "      <th>0.9</th>\n",
       "      <td>60000.0</td>\n",
       "    </tr>\n",
       "    <tr>\n",
       "      <th>1.0</th>\n",
       "      <td>1000000.0</td>\n",
       "    </tr>\n",
       "  </tbody>\n",
       "</table>\n",
       "</div>"
      ],
      "text/plain": [
       "        salary\n",
       "0.1    15000.0\n",
       "0.2    20000.0\n",
       "0.3    25000.0\n",
       "0.4    30000.0\n",
       "0.5    30000.0\n",
       "0.6    35000.0\n",
       "0.7    40000.0\n",
       "0.8    50000.0\n",
       "0.9    60000.0\n",
       "1.0  1000000.0"
      ]
     },
     "execution_count": 197,
     "metadata": {},
     "output_type": "execute_result"
    }
   ],
   "source": [
    "male_salary = data.query('gender == \"Мужской\"').quantile(percent_linspace)\n",
    "male_salary"
   ]
  },
  {
   "cell_type": "code",
   "execution_count": 198,
   "id": "fdf8f4ae",
   "metadata": {},
   "outputs": [
    {
     "data": {
      "image/png": "[encoded data removed]",
      "text/plain": [
       "<Figure size 720x360 with 1 Axes>"
      ]
     },
     "metadata": {
      "needs_background": "light"
     },
     "output_type": "display_data"
    }
   ],
   "source": [
    "plt.figure(figsize=(10, 5)) \n",
    "plt.title('Заработная плата мужчин в перцентилях') \n",
    "plt.xlabel('Перцентили') \n",
    "plt.ylabel('Зарплата мужчин') \n",
    "plt.grid() \n",
    "\n",
    "plt.plot(male_salary)  \n",
    "plt.show()"
   ]
  },
  {
   "cell_type": "code",
   "execution_count": 199,
   "id": "7511ffff",
   "metadata": {},
   "outputs": [
    {
     "data": {
      "text/html": [
       "<div>\n",
       "<style scoped>\n",
       "    .dataframe tbody tr th:only-of-type {\n",
       "        vertical-align: middle;\n",
       "    }\n",
       "\n",
       "    .dataframe tbody tr th {\n",
       "        vertical-align: top;\n",
       "    }\n",
       "\n",
       "    .dataframe thead th {\n",
       "        text-align: right;\n",
       "    }\n",
       "</style>\n",
       "<table border=\"1\" class=\"dataframe\">\n",
       "  <thead>\n",
       "    <tr style=\"text-align: right;\">\n",
       "      <th></th>\n",
       "      <th>salary</th>\n",
       "    </tr>\n",
       "  </thead>\n",
       "  <tbody>\n",
       "    <tr>\n",
       "      <th>0.1</th>\n",
       "      <td>15000.0</td>\n",
       "    </tr>\n",
       "    <tr>\n",
       "      <th>0.2</th>\n",
       "      <td>18000.0</td>\n",
       "    </tr>\n",
       "    <tr>\n",
       "      <th>0.3</th>\n",
       "      <td>20000.0</td>\n",
       "    </tr>\n",
       "    <tr>\n",
       "      <th>0.4</th>\n",
       "      <td>22000.0</td>\n",
       "    </tr>\n",
       "    <tr>\n",
       "      <th>0.5</th>\n",
       "      <td>25000.0</td>\n",
       "    </tr>\n",
       "    <tr>\n",
       "      <th>0.6</th>\n",
       "      <td>30000.0</td>\n",
       "    </tr>\n",
       "    <tr>\n",
       "      <th>0.7</th>\n",
       "      <td>30000.0</td>\n",
       "    </tr>\n",
       "    <tr>\n",
       "      <th>0.8</th>\n",
       "      <td>35000.0</td>\n",
       "    </tr>\n",
       "    <tr>\n",
       "      <th>0.9</th>\n",
       "      <td>47000.0</td>\n",
       "    </tr>\n",
       "    <tr>\n",
       "      <th>1.0</th>\n",
       "      <td>900000.0</td>\n",
       "    </tr>\n",
       "  </tbody>\n",
       "</table>\n",
       "</div>"
      ],
      "text/plain": [
       "       salary\n",
       "0.1   15000.0\n",
       "0.2   18000.0\n",
       "0.3   20000.0\n",
       "0.4   22000.0\n",
       "0.5   25000.0\n",
       "0.6   30000.0\n",
       "0.7   30000.0\n",
       "0.8   35000.0\n",
       "0.9   47000.0\n",
       "1.0  900000.0"
      ]
     },
     "execution_count": 199,
     "metadata": {},
     "output_type": "execute_result"
    }
   ],
   "source": [
    "female_salary = data.query('gender == \"Женский\"').quantile(percent_linspace)\n",
    "female_salary"
   ]
  },
  {
   "cell_type": "code",
   "execution_count": 200,
   "id": "9ff4f3d9",
   "metadata": {},
   "outputs": [
    {
     "data": {
      "image/png": "[encoded data removed]",
      "text/plain": [
       "<Figure size 720x360 with 1 Axes>"
      ]
     },
     "metadata": {
      "needs_background": "light"
     },
     "output_type": "display_data"
    }
   ],
   "source": [
    "plt.figure(figsize=(10, 5)) \n",
    "plt.title('Заработная плата женщин в перцентилях') \n",
    "plt.xlabel('Перцентили') \n",
    "plt.ylabel('Зарплата женщин') \n",
    "plt.grid() \n",
    "\n",
    "plt.plot(female_salary)  \n",
    "plt.show()"
   ]
  },
  {
   "cell_type": "markdown",
   "id": "01aef10d",
   "metadata": {},
   "source": [
    "# 7. Построить графики распределения по заработной плате мужчин и женщин в зависимости от высшего образования"
   ]
  },
  {
   "cell_type": "code",
   "execution_count": 201,
   "id": "5d73aec6",
   "metadata": {},
   "outputs": [
    {
     "data": {
      "text/html": [
       "<div>\n",
       "<style scoped>\n",
       "    .dataframe tbody tr th:only-of-type {\n",
       "        vertical-align: middle;\n",
       "    }\n",
       "\n",
       "    .dataframe tbody tr th {\n",
       "        vertical-align: top;\n",
       "    }\n",
       "\n",
       "    .dataframe thead th {\n",
       "        text-align: right;\n",
       "    }\n",
       "</style>\n",
       "<table border=\"1\" class=\"dataframe\">\n",
       "  <thead>\n",
       "    <tr style=\"text-align: right;\">\n",
       "      <th></th>\n",
       "      <th>educationType</th>\n",
       "      <th>salary</th>\n",
       "    </tr>\n",
       "  </thead>\n",
       "  <tbody>\n",
       "    <tr>\n",
       "      <th>0</th>\n",
       "      <td>Высшее</td>\n",
       "      <td>38536.860696</td>\n",
       "    </tr>\n",
       "    <tr>\n",
       "      <th>1</th>\n",
       "      <td>Незаконченное высшее</td>\n",
       "      <td>36036.267699</td>\n",
       "    </tr>\n",
       "    <tr>\n",
       "      <th>2</th>\n",
       "      <td>Среднее</td>\n",
       "      <td>28511.660356</td>\n",
       "    </tr>\n",
       "    <tr>\n",
       "      <th>3</th>\n",
       "      <td>Среднее профессиональное</td>\n",
       "      <td>29848.650757</td>\n",
       "    </tr>\n",
       "  </tbody>\n",
       "</table>\n",
       "</div>"
      ],
      "text/plain": [
       "              educationType        salary\n",
       "0                    Высшее  38536.860696\n",
       "1      Незаконченное высшее  36036.267699\n",
       "2                   Среднее  28511.660356\n",
       "3  Среднее профессиональное  29848.650757"
      ]
     },
     "execution_count": 201,
     "metadata": {},
     "output_type": "execute_result"
    }
   ],
   "source": [
    "male_salary = data.groupby('educationType').agg('mean').reset_index()\n",
    "male_salary"
   ]
  },
  {
   "cell_type": "code",
   "execution_count": 202,
   "id": "46485e51",
   "metadata": {},
   "outputs": [
    {
     "data": {
      "text/html": [
       "<div>\n",
       "<style scoped>\n",
       "    .dataframe tbody tr th:only-of-type {\n",
       "        vertical-align: middle;\n",
       "    }\n",
       "\n",
       "    .dataframe tbody tr th {\n",
       "        vertical-align: top;\n",
       "    }\n",
       "\n",
       "    .dataframe thead th {\n",
       "        text-align: right;\n",
       "    }\n",
       "</style>\n",
       "<table border=\"1\" class=\"dataframe\">\n",
       "  <thead>\n",
       "    <tr style=\"text-align: right;\">\n",
       "      <th></th>\n",
       "      <th>educationType</th>\n",
       "      <th>salary</th>\n",
       "    </tr>\n",
       "  </thead>\n",
       "  <tbody>\n",
       "    <tr>\n",
       "      <th>0</th>\n",
       "      <td>Высшее</td>\n",
       "      <td>33826.008009</td>\n",
       "    </tr>\n",
       "    <tr>\n",
       "      <th>1</th>\n",
       "      <td>Незаконченное высшее</td>\n",
       "      <td>29171.382643</td>\n",
       "    </tr>\n",
       "    <tr>\n",
       "      <th>2</th>\n",
       "      <td>Среднее</td>\n",
       "      <td>24958.723963</td>\n",
       "    </tr>\n",
       "    <tr>\n",
       "      <th>3</th>\n",
       "      <td>Среднее профессиональное</td>\n",
       "      <td>25834.460409</td>\n",
       "    </tr>\n",
       "  </tbody>\n",
       "</table>\n",
       "</div>"
      ],
      "text/plain": [
       "              educationType        salary\n",
       "0                    Высшее  33826.008009\n",
       "1      Незаконченное высшее  29171.382643\n",
       "2                   Среднее  24958.723963\n",
       "3  Среднее профессиональное  25834.460409"
      ]
     },
     "execution_count": 202,
     "metadata": {},
     "output_type": "execute_result"
    }
   ],
   "source": [
    "female_salary = data.query('gender == \"Женский\"').groupby('educationType').agg('mean').reset_index()\n",
    "female_salary"
   ]
  },
  {
   "cell_type": "code",
   "execution_count": 203,
   "id": "249f419d",
   "metadata": {},
   "outputs": [
    {
     "data": {
      "image/png": "[encoded data removed]",
      "text/plain": [
       "<Figure size 432x288 with 1 Axes>"
      ]
     },
     "metadata": {
      "needs_background": "light"
     },
     "output_type": "display_data"
    }
   ],
   "source": [
    "education = male_salary['educationType'].values\n",
    "male_salaries = male_salary['salary'].values\n",
    "female_salaries = female_salary['salary'].values\n",
    "\n",
    "index = np.arange(len(education))\n",
    "\n",
    "bw = 0.4\n",
    "plt.bar(index-bw/2, male_salaries, bw, color='blue', label='Средняя зарплата мужчин')\n",
    "plt.bar(index+bw/2, female_salaries, bw, color='red', label='Средняя зарплата женщин')\n",
    "plt.xticks(index, education, rotation=90)\n",
    "plt.legend()\n",
    "plt.show()"
   ]
  },
  {
   "cell_type": "markdown",
   "id": "3c8325c2",
   "metadata": {},
   "source": [
    "### Построение графика распределения заработной платы для мужчин\n"
   ]
  },
  {
   "cell_type": "markdown",
   "id": "db7b7ce2",
   "metadata": {},
   "source": [
    "Для начала отсортируем датафрейм. Оставим строки в которых у мужчин есть высшее образование"
   ]
  },
  {
   "cell_type": "code",
   "execution_count": 204,
   "id": "a3838d05",
   "metadata": {},
   "outputs": [
    {
     "data": {
      "text/html": [
       "<div>\n",
       "<style scoped>\n",
       "    .dataframe tbody tr th:only-of-type {\n",
       "        vertical-align: middle;\n",
       "    }\n",
       "\n",
       "    .dataframe tbody tr th {\n",
       "        vertical-align: top;\n",
       "    }\n",
       "\n",
       "    .dataframe thead th {\n",
       "        text-align: right;\n",
       "    }\n",
       "</style>\n",
       "<table border=\"1\" class=\"dataframe\">\n",
       "  <thead>\n",
       "    <tr style=\"text-align: right;\">\n",
       "      <th></th>\n",
       "      <th>salary</th>\n",
       "      <th>educationType</th>\n",
       "      <th>jobTitle</th>\n",
       "      <th>qualification</th>\n",
       "      <th>gender</th>\n",
       "      <th>dateModify</th>\n",
       "      <th>skills</th>\n",
       "      <th>otherInfo</th>\n",
       "    </tr>\n",
       "  </thead>\n",
       "  <tbody>\n",
       "    <tr>\n",
       "      <th>0</th>\n",
       "      <td>60000</td>\n",
       "      <td>Высшее</td>\n",
       "      <td>Специалист пресс-службы</td>\n",
       "      <td>Магистр</td>\n",
       "      <td>Мужской</td>\n",
       "      <td>2021-04-01</td>\n",
       "      <td>&lt;p&gt;Аналитическое&amp;nbsp;мышление,&amp;nbsp;&lt;span cla...</td>\n",
       "      <td>NaN</td>\n",
       "    </tr>\n",
       "    <tr>\n",
       "      <th>1</th>\n",
       "      <td>85000</td>\n",
       "      <td>Высшее</td>\n",
       "      <td>менеджер проектов</td>\n",
       "      <td>NaN</td>\n",
       "      <td>Мужской</td>\n",
       "      <td>2021-04-01</td>\n",
       "      <td>NaN</td>\n",
       "      <td>NaN</td>\n",
       "    </tr>\n",
       "    <tr>\n",
       "      <th>10</th>\n",
       "      <td>100000</td>\n",
       "      <td>Высшее</td>\n",
       "      <td>Начальник участка</td>\n",
       "      <td>NaN</td>\n",
       "      <td>Мужской</td>\n",
       "      <td>2021-04-01</td>\n",
       "      <td>&lt;p&gt;Коммуникабельность&amp;nbsp;&lt;/p&gt;</td>\n",
       "      <td>NaN</td>\n",
       "    </tr>\n",
       "    <tr>\n",
       "      <th>16</th>\n",
       "      <td>100000</td>\n",
       "      <td>Высшее</td>\n",
       "      <td>Технический директор</td>\n",
       "      <td>Экономист</td>\n",
       "      <td>Мужской</td>\n",
       "      <td>2021-04-01</td>\n",
       "      <td>NaN</td>\n",
       "      <td>NaN</td>\n",
       "    </tr>\n",
       "    <tr>\n",
       "      <th>28</th>\n",
       "      <td>50000</td>\n",
       "      <td>Высшее</td>\n",
       "      <td>Монтажник электрических подьемников</td>\n",
       "      <td>NaN</td>\n",
       "      <td>Мужской</td>\n",
       "      <td>2021-04-01</td>\n",
       "      <td>&lt;p&gt;Знание программного обеспечения от ведущих ...</td>\n",
       "      <td>NaN</td>\n",
       "    </tr>\n",
       "    <tr>\n",
       "      <th>...</th>\n",
       "      <td>...</td>\n",
       "      <td>...</td>\n",
       "      <td>...</td>\n",
       "      <td>...</td>\n",
       "      <td>...</td>\n",
       "      <td>...</td>\n",
       "      <td>...</td>\n",
       "      <td>...</td>\n",
       "    </tr>\n",
       "    <tr>\n",
       "      <th>32654</th>\n",
       "      <td>50000</td>\n",
       "      <td>Высшее</td>\n",
       "      <td>экономист 8 разряда в подразделение \"Сектор по...</td>\n",
       "      <td>инженер-экономист</td>\n",
       "      <td>Мужской</td>\n",
       "      <td>2021-01-26</td>\n",
       "      <td>&lt;p&gt;инициативность;&lt;/p&gt;&lt;p&gt;внимательность;&lt;/p&gt;&lt;p...</td>\n",
       "      <td>&lt;p&gt;Знание-Бухгалтерский учет, управленческий у...</td>\n",
       "    </tr>\n",
       "    <tr>\n",
       "      <th>32659</th>\n",
       "      <td>45000</td>\n",
       "      <td>Высшее</td>\n",
       "      <td>NaN</td>\n",
       "      <td>Инженер по организации и управлением на морско...</td>\n",
       "      <td>Мужской</td>\n",
       "      <td>2020-06-26</td>\n",
       "      <td>NaN</td>\n",
       "      <td>NaN</td>\n",
       "    </tr>\n",
       "    <tr>\n",
       "      <th>32663</th>\n",
       "      <td>40000</td>\n",
       "      <td>Высшее</td>\n",
       "      <td>Слесарь по ремонту подвижного состава 2-3 разряда</td>\n",
       "      <td>Техник</td>\n",
       "      <td>Мужской</td>\n",
       "      <td>2021-11-17</td>\n",
       "      <td>&lt;p&gt;Командообразование, лидерство, опыт работы ...</td>\n",
       "      <td>NaN</td>\n",
       "    </tr>\n",
       "    <tr>\n",
       "      <th>32668</th>\n",
       "      <td>40000</td>\n",
       "      <td>Высшее</td>\n",
       "      <td>заместитель начальника юридического отдела</td>\n",
       "      <td>юрист</td>\n",
       "      <td>Мужской</td>\n",
       "      <td>2021-03-24</td>\n",
       "      <td>&lt;p&gt;Высокая работоспособность, нацеленность на ...</td>\n",
       "      <td>NaN</td>\n",
       "    </tr>\n",
       "    <tr>\n",
       "      <th>32681</th>\n",
       "      <td>35000</td>\n",
       "      <td>Высшее</td>\n",
       "      <td>NaN</td>\n",
       "      <td>NaN</td>\n",
       "      <td>Мужской</td>\n",
       "      <td>2020-04-21</td>\n",
       "      <td>NaN</td>\n",
       "      <td>NaN</td>\n",
       "    </tr>\n",
       "  </tbody>\n",
       "</table>\n",
       "<p>3095 rows × 8 columns</p>\n",
       "</div>"
      ],
      "text/plain": [
       "       salary educationType  \\\n",
       "0       60000        Высшее   \n",
       "1       85000        Высшее   \n",
       "10     100000        Высшее   \n",
       "16     100000        Высшее   \n",
       "28      50000        Высшее   \n",
       "...       ...           ...   \n",
       "32654   50000        Высшее   \n",
       "32659   45000        Высшее   \n",
       "32663   40000        Высшее   \n",
       "32668   40000        Высшее   \n",
       "32681   35000        Высшее   \n",
       "\n",
       "                                                jobTitle  \\\n",
       "0                                Специалист пресс-службы   \n",
       "1                                      менеджер проектов   \n",
       "10                                     Начальник участка   \n",
       "16                                  Технический директор   \n",
       "28                   Монтажник электрических подьемников   \n",
       "...                                                  ...   \n",
       "32654  экономист 8 разряда в подразделение \"Сектор по...   \n",
       "32659                                                NaN   \n",
       "32663  Слесарь по ремонту подвижного состава 2-3 разряда   \n",
       "32668         заместитель начальника юридического отдела   \n",
       "32681                                                NaN   \n",
       "\n",
       "                                           qualification   gender  dateModify  \\\n",
       "0                                                Магистр  Мужской  2021-04-01   \n",
       "1                                                    NaN  Мужской  2021-04-01   \n",
       "10                                                   NaN  Мужской  2021-04-01   \n",
       "16                                             Экономист  Мужской  2021-04-01   \n",
       "28                                                   NaN  Мужской  2021-04-01   \n",
       "...                                                  ...      ...         ...   \n",
       "32654                                  инженер-экономист  Мужской  2021-01-26   \n",
       "32659  Инженер по организации и управлением на морско...  Мужской  2020-06-26   \n",
       "32663                                             Техник  Мужской  2021-11-17   \n",
       "32668                                              юрист  Мужской  2021-03-24   \n",
       "32681                                                NaN  Мужской  2020-04-21   \n",
       "\n",
       "                                                  skills  \\\n",
       "0      <p>Аналитическое&nbsp;мышление,&nbsp;<span cla...   \n",
       "1                                                    NaN   \n",
       "10                       <p>Коммуникабельность&nbsp;</p>   \n",
       "16                                                   NaN   \n",
       "28     <p>Знание программного обеспечения от ведущих ...   \n",
       "...                                                  ...   \n",
       "32654  <p>инициативность;</p><p>внимательность;</p><p...   \n",
       "32659                                                NaN   \n",
       "32663  <p>Командообразование, лидерство, опыт работы ...   \n",
       "32668  <p>Высокая работоспособность, нацеленность на ...   \n",
       "32681                                                NaN   \n",
       "\n",
       "                                               otherInfo  \n",
       "0                                                    NaN  \n",
       "1                                                    NaN  \n",
       "10                                                   NaN  \n",
       "16                                                   NaN  \n",
       "28                                                   NaN  \n",
       "...                                                  ...  \n",
       "32654  <p>Знание-Бухгалтерский учет, управленческий у...  \n",
       "32659                                                NaN  \n",
       "32663                                                NaN  \n",
       "32668                                                NaN  \n",
       "32681                                                NaN  \n",
       "\n",
       "[3095 rows x 8 columns]"
      ]
     },
     "execution_count": 204,
     "metadata": {},
     "output_type": "execute_result"
    }
   ],
   "source": [
    "male_height = data.query('gender == \"Мужской\" and educationType == \"Высшее\"')\n",
    "male_height"
   ]
  },
  {
   "cell_type": "markdown",
   "id": "ca279cab",
   "metadata": {},
   "source": [
    "### Распределение зарплат для мужчин с высшим образованием\n"
   ]
  },
  {
   "cell_type": "code",
   "execution_count": 205,
   "id": "032f6af5",
   "metadata": {},
   "outputs": [
    {
     "data": {
      "image/png": "[encoded data removed]",
      "text/plain": [
       "<Figure size 720x360 with 1 Axes>"
      ]
     },
     "metadata": {
      "needs_background": "light"
     },
     "output_type": "display_data"
    }
   ],
   "source": [
    "plt.figure(figsize=(10, 5)) \n",
    "plt.title('Распределение по заработной плате у мужчин с высшим образованием') \n",
    "plt.xlabel('Зарплата мужчин') \n",
    "plt.ylabel('Количество мужчин') \n",
    "plt.grid() \n",
    "\n",
    "plt.hist(male_height['salary'], \n",
    "         bins=25) \n",
    "plt.show()"
   ]
  },
  {
   "cell_type": "code",
   "execution_count": 206,
   "id": "1e10bc06",
   "metadata": {},
   "outputs": [
    {
     "data": {
      "text/html": [
       "<div>\n",
       "<style scoped>\n",
       "    .dataframe tbody tr th:only-of-type {\n",
       "        vertical-align: middle;\n",
       "    }\n",
       "\n",
       "    .dataframe tbody tr th {\n",
       "        vertical-align: top;\n",
       "    }\n",
       "\n",
       "    .dataframe thead th {\n",
       "        text-align: right;\n",
       "    }\n",
       "</style>\n",
       "<table border=\"1\" class=\"dataframe\">\n",
       "  <thead>\n",
       "    <tr style=\"text-align: right;\">\n",
       "      <th></th>\n",
       "      <th>salary</th>\n",
       "      <th>educationType</th>\n",
       "      <th>jobTitle</th>\n",
       "      <th>qualification</th>\n",
       "      <th>gender</th>\n",
       "      <th>dateModify</th>\n",
       "      <th>skills</th>\n",
       "      <th>otherInfo</th>\n",
       "    </tr>\n",
       "  </thead>\n",
       "  <tbody>\n",
       "    <tr>\n",
       "      <th>76</th>\n",
       "      <td>50000</td>\n",
       "      <td>Незаконченное высшее</td>\n",
       "      <td>менеджер по продажам</td>\n",
       "      <td>NaN</td>\n",
       "      <td>Мужской</td>\n",
       "      <td>2021-09-06</td>\n",
       "      <td>&lt;p&gt;Внимательность, ответственность, обучаемост...</td>\n",
       "      <td>NaN</td>\n",
       "    </tr>\n",
       "    <tr>\n",
       "      <th>193</th>\n",
       "      <td>50000</td>\n",
       "      <td>Незаконченное высшее</td>\n",
       "      <td>Старший специалист участка учета ТМЦ</td>\n",
       "      <td>NaN</td>\n",
       "      <td>Мужской</td>\n",
       "      <td>2021-04-06</td>\n",
       "      <td>NaN</td>\n",
       "      <td>NaN</td>\n",
       "    </tr>\n",
       "    <tr>\n",
       "      <th>202</th>\n",
       "      <td>50000</td>\n",
       "      <td>Незаконченное высшее</td>\n",
       "      <td>Мастер погрузки лесоматериала</td>\n",
       "      <td>NaN</td>\n",
       "      <td>Мужской</td>\n",
       "      <td>2021-05-20</td>\n",
       "      <td>&lt;ul&gt;&lt;li&gt;умение работать самостоятельно;&lt;/li&gt;&lt;l...</td>\n",
       "      <td>NaN</td>\n",
       "    </tr>\n",
       "    <tr>\n",
       "      <th>203</th>\n",
       "      <td>30000</td>\n",
       "      <td>Незаконченное высшее</td>\n",
       "      <td>Военнослужащий</td>\n",
       "      <td>NaN</td>\n",
       "      <td>Мужской</td>\n",
       "      <td>2021-04-06</td>\n",
       "      <td>NaN</td>\n",
       "      <td>NaN</td>\n",
       "    </tr>\n",
       "    <tr>\n",
       "      <th>292</th>\n",
       "      <td>100000</td>\n",
       "      <td>Незаконченное высшее</td>\n",
       "      <td>менеджер</td>\n",
       "      <td>NaN</td>\n",
       "      <td>Мужской</td>\n",
       "      <td>2021-10-19</td>\n",
       "      <td>NaN</td>\n",
       "      <td>NaN</td>\n",
       "    </tr>\n",
       "    <tr>\n",
       "      <th>...</th>\n",
       "      <td>...</td>\n",
       "      <td>...</td>\n",
       "      <td>...</td>\n",
       "      <td>...</td>\n",
       "      <td>...</td>\n",
       "      <td>...</td>\n",
       "      <td>...</td>\n",
       "      <td>...</td>\n",
       "    </tr>\n",
       "    <tr>\n",
       "      <th>32396</th>\n",
       "      <td>50000</td>\n",
       "      <td>Незаконченное высшее</td>\n",
       "      <td>NaN</td>\n",
       "      <td>NaN</td>\n",
       "      <td>Мужской</td>\n",
       "      <td>2020-11-08</td>\n",
       "      <td>NaN</td>\n",
       "      <td>NaN</td>\n",
       "    </tr>\n",
       "    <tr>\n",
       "      <th>32490</th>\n",
       "      <td>100000</td>\n",
       "      <td>Незаконченное высшее</td>\n",
       "      <td>Начальник участка</td>\n",
       "      <td>Бакалавр</td>\n",
       "      <td>Мужской</td>\n",
       "      <td>2019-05-16</td>\n",
       "      <td>&lt;p&gt;Многозадачность, Контроль исполнения решени...</td>\n",
       "      <td>NaN</td>\n",
       "    </tr>\n",
       "    <tr>\n",
       "      <th>32602</th>\n",
       "      <td>25000</td>\n",
       "      <td>Незаконченное высшее</td>\n",
       "      <td>Продавец-кавист/бармен</td>\n",
       "      <td>NaN</td>\n",
       "      <td>Мужской</td>\n",
       "      <td>2021-10-09</td>\n",
       "      <td>&lt;p&gt;Стрессоустойчивость, коммуникабельность,&amp;nb...</td>\n",
       "      <td>NaN</td>\n",
       "    </tr>\n",
       "    <tr>\n",
       "      <th>32622</th>\n",
       "      <td>15000</td>\n",
       "      <td>Незаконченное высшее</td>\n",
       "      <td>Экспедитор-грузчик</td>\n",
       "      <td>NaN</td>\n",
       "      <td>Мужской</td>\n",
       "      <td>2020-06-16</td>\n",
       "      <td>&lt;p&gt;Работа с компьютером&lt;/p&gt;</td>\n",
       "      <td>NaN</td>\n",
       "    </tr>\n",
       "    <tr>\n",
       "      <th>32645</th>\n",
       "      <td>50000</td>\n",
       "      <td>Незаконченное высшее</td>\n",
       "      <td>NaN</td>\n",
       "      <td>NaN</td>\n",
       "      <td>Мужской</td>\n",
       "      <td>2021-10-05</td>\n",
       "      <td>NaN</td>\n",
       "      <td>NaN</td>\n",
       "    </tr>\n",
       "  </tbody>\n",
       "</table>\n",
       "<p>348 rows × 8 columns</p>\n",
       "</div>"
      ],
      "text/plain": [
       "       salary         educationType                              jobTitle  \\\n",
       "76      50000  Незаконченное высшее                  менеджер по продажам   \n",
       "193     50000  Незаконченное высшее  Старший специалист участка учета ТМЦ   \n",
       "202     50000  Незаконченное высшее         Мастер погрузки лесоматериала   \n",
       "203     30000  Незаконченное высшее                        Военнослужащий   \n",
       "292    100000  Незаконченное высшее                              менеджер   \n",
       "...       ...                   ...                                   ...   \n",
       "32396   50000  Незаконченное высшее                                   NaN   \n",
       "32490  100000  Незаконченное высшее                     Начальник участка   \n",
       "32602   25000  Незаконченное высшее                Продавец-кавист/бармен   \n",
       "32622   15000  Незаконченное высшее                    Экспедитор-грузчик   \n",
       "32645   50000  Незаконченное высшее                                   NaN   \n",
       "\n",
       "      qualification   gender  dateModify  \\\n",
       "76              NaN  Мужской  2021-09-06   \n",
       "193             NaN  Мужской  2021-04-06   \n",
       "202             NaN  Мужской  2021-05-20   \n",
       "203             NaN  Мужской  2021-04-06   \n",
       "292             NaN  Мужской  2021-10-19   \n",
       "...             ...      ...         ...   \n",
       "32396           NaN  Мужской  2020-11-08   \n",
       "32490      Бакалавр  Мужской  2019-05-16   \n",
       "32602           NaN  Мужской  2021-10-09   \n",
       "32622           NaN  Мужской  2020-06-16   \n",
       "32645           NaN  Мужской  2021-10-05   \n",
       "\n",
       "                                                  skills otherInfo  \n",
       "76     <p>Внимательность, ответственность, обучаемост...       NaN  \n",
       "193                                                  NaN       NaN  \n",
       "202    <ul><li>умение работать самостоятельно;</li><l...       NaN  \n",
       "203                                                  NaN       NaN  \n",
       "292                                                  NaN       NaN  \n",
       "...                                                  ...       ...  \n",
       "32396                                                NaN       NaN  \n",
       "32490  <p>Многозадачность, Контроль исполнения решени...       NaN  \n",
       "32602  <p>Стрессоустойчивость, коммуникабельность,&nb...       NaN  \n",
       "32622                        <p>Работа с компьютером</p>       NaN  \n",
       "32645                                                NaN       NaN  \n",
       "\n",
       "[348 rows x 8 columns]"
      ]
     },
     "execution_count": 206,
     "metadata": {},
     "output_type": "execute_result"
    }
   ],
   "source": [
    "male_without_height = data.query('gender == \"Мужской\" and educationType == \"Незаконченное высшее\"')\n",
    "male_without_height"
   ]
  },
  {
   "cell_type": "markdown",
   "id": "51da6a76",
   "metadata": {},
   "source": [
    " ### Распределение зарплат для мужчин с неоконченным высшим образованием\n",
    " "
   ]
  },
  {
   "cell_type": "code",
   "execution_count": 207,
   "id": "bdc9645f",
   "metadata": {},
   "outputs": [
    {
     "data": {
      "image/png": "[encoded data removed]",
      "text/plain": [
       "<Figure size 720x360 with 1 Axes>"
      ]
     },
     "metadata": {
      "needs_background": "light"
     },
     "output_type": "display_data"
    }
   ],
   "source": [
    "plt.figure(figsize=(10, 5))  \n",
    "plt.title('Распределение по заработной плате у мужчин с незаконченным высшим образованием') \n",
    "plt.xlabel('Зарплата мужчин') \n",
    "plt.ylabel('Количество мужчин') \n",
    "plt.grid() \n",
    "\n",
    "plt.hist(male_without_height['salary'], \n",
    "         color = 'r',\n",
    "         bins=25) \n",
    "plt.show()"
   ]
  },
  {
   "cell_type": "code",
   "execution_count": 208,
   "id": "a25f05b3",
   "metadata": {},
   "outputs": [
    {
     "data": {
      "text/html": [
       "<div>\n",
       "<style scoped>\n",
       "    .dataframe tbody tr th:only-of-type {\n",
       "        vertical-align: middle;\n",
       "    }\n",
       "\n",
       "    .dataframe tbody tr th {\n",
       "        vertical-align: top;\n",
       "    }\n",
       "\n",
       "    .dataframe thead th {\n",
       "        text-align: right;\n",
       "    }\n",
       "</style>\n",
       "<table border=\"1\" class=\"dataframe\">\n",
       "  <thead>\n",
       "    <tr style=\"text-align: right;\">\n",
       "      <th></th>\n",
       "      <th>salary</th>\n",
       "      <th>educationType</th>\n",
       "      <th>jobTitle</th>\n",
       "      <th>qualification</th>\n",
       "      <th>gender</th>\n",
       "      <th>dateModify</th>\n",
       "      <th>skills</th>\n",
       "      <th>otherInfo</th>\n",
       "    </tr>\n",
       "  </thead>\n",
       "  <tbody>\n",
       "    <tr>\n",
       "      <th>12</th>\n",
       "      <td>25000</td>\n",
       "      <td>Среднее</td>\n",
       "      <td>NaN</td>\n",
       "      <td>NaN</td>\n",
       "      <td>Мужской</td>\n",
       "      <td>2021-04-01</td>\n",
       "      <td>NaN</td>\n",
       "      <td>NaN</td>\n",
       "    </tr>\n",
       "    <tr>\n",
       "      <th>24</th>\n",
       "      <td>100000</td>\n",
       "      <td>Среднее</td>\n",
       "      <td>Машинист буровой установки</td>\n",
       "      <td>NaN</td>\n",
       "      <td>Мужской</td>\n",
       "      <td>2021-04-01</td>\n",
       "      <td>&lt;p&gt;Коммуникабельность, пунктуальность&lt;/p&gt;</td>\n",
       "      <td>NaN</td>\n",
       "    </tr>\n",
       "    <tr>\n",
       "      <th>51</th>\n",
       "      <td>15000</td>\n",
       "      <td>Среднее</td>\n",
       "      <td>NaN</td>\n",
       "      <td>NaN</td>\n",
       "      <td>Мужской</td>\n",
       "      <td>2021-04-01</td>\n",
       "      <td>NaN</td>\n",
       "      <td>NaN</td>\n",
       "    </tr>\n",
       "    <tr>\n",
       "      <th>88</th>\n",
       "      <td>95000</td>\n",
       "      <td>Среднее</td>\n",
       "      <td>NaN</td>\n",
       "      <td>Лесное хозяйство</td>\n",
       "      <td>Мужской</td>\n",
       "      <td>2021-04-01</td>\n",
       "      <td>NaN</td>\n",
       "      <td>NaN</td>\n",
       "    </tr>\n",
       "    <tr>\n",
       "      <th>89</th>\n",
       "      <td>20000</td>\n",
       "      <td>Среднее</td>\n",
       "      <td>менеджер по погрузке и транспортировке товара</td>\n",
       "      <td>NaN</td>\n",
       "      <td>Мужской</td>\n",
       "      <td>2021-04-10</td>\n",
       "      <td>NaN</td>\n",
       "      <td>NaN</td>\n",
       "    </tr>\n",
       "    <tr>\n",
       "      <th>...</th>\n",
       "      <td>...</td>\n",
       "      <td>...</td>\n",
       "      <td>...</td>\n",
       "      <td>...</td>\n",
       "      <td>...</td>\n",
       "      <td>...</td>\n",
       "      <td>...</td>\n",
       "      <td>...</td>\n",
       "    </tr>\n",
       "    <tr>\n",
       "      <th>32649</th>\n",
       "      <td>24000</td>\n",
       "      <td>Среднее</td>\n",
       "      <td>NaN</td>\n",
       "      <td>водитель</td>\n",
       "      <td>Мужской</td>\n",
       "      <td>2021-04-11</td>\n",
       "      <td>NaN</td>\n",
       "      <td>NaN</td>\n",
       "    </tr>\n",
       "    <tr>\n",
       "      <th>32651</th>\n",
       "      <td>25000</td>\n",
       "      <td>Среднее</td>\n",
       "      <td>Водитель</td>\n",
       "      <td>NaN</td>\n",
       "      <td>Мужской</td>\n",
       "      <td>2021-03-18</td>\n",
       "      <td>NaN</td>\n",
       "      <td>NaN</td>\n",
       "    </tr>\n",
       "    <tr>\n",
       "      <th>32658</th>\n",
       "      <td>20000</td>\n",
       "      <td>Среднее</td>\n",
       "      <td>NaN</td>\n",
       "      <td>NaN</td>\n",
       "      <td>Мужской</td>\n",
       "      <td>2021-05-12</td>\n",
       "      <td>NaN</td>\n",
       "      <td>NaN</td>\n",
       "    </tr>\n",
       "    <tr>\n",
       "      <th>32671</th>\n",
       "      <td>20467</td>\n",
       "      <td>Среднее</td>\n",
       "      <td>контролер-стажёр</td>\n",
       "      <td>NaN</td>\n",
       "      <td>Мужской</td>\n",
       "      <td>2021-06-08</td>\n",
       "      <td>NaN</td>\n",
       "      <td>NaN</td>\n",
       "    </tr>\n",
       "    <tr>\n",
       "      <th>32672</th>\n",
       "      <td>25000</td>\n",
       "      <td>Среднее</td>\n",
       "      <td>комплектовщик</td>\n",
       "      <td>NaN</td>\n",
       "      <td>Мужской</td>\n",
       "      <td>2021-06-15</td>\n",
       "      <td>&lt;p&gt;исполнительный&lt;/p&gt;</td>\n",
       "      <td>NaN</td>\n",
       "    </tr>\n",
       "  </tbody>\n",
       "</table>\n",
       "<p>2979 rows × 8 columns</p>\n",
       "</div>"
      ],
      "text/plain": [
       "       salary educationType                                       jobTitle  \\\n",
       "12      25000       Среднее                                            NaN   \n",
       "24     100000       Среднее                     Машинист буровой установки   \n",
       "51      15000       Среднее                                            NaN   \n",
       "88      95000       Среднее                                            NaN   \n",
       "89      20000       Среднее  менеджер по погрузке и транспортировке товара   \n",
       "...       ...           ...                                            ...   \n",
       "32649   24000       Среднее                                            NaN   \n",
       "32651   25000       Среднее                                       Водитель   \n",
       "32658   20000       Среднее                                            NaN   \n",
       "32671   20467       Среднее                               контролер-стажёр   \n",
       "32672   25000       Среднее                                  комплектовщик   \n",
       "\n",
       "          qualification   gender  dateModify  \\\n",
       "12                  NaN  Мужской  2021-04-01   \n",
       "24                  NaN  Мужской  2021-04-01   \n",
       "51                  NaN  Мужской  2021-04-01   \n",
       "88     Лесное хозяйство  Мужской  2021-04-01   \n",
       "89                  NaN  Мужской  2021-04-10   \n",
       "...                 ...      ...         ...   \n",
       "32649          водитель  Мужской  2021-04-11   \n",
       "32651               NaN  Мужской  2021-03-18   \n",
       "32658               NaN  Мужской  2021-05-12   \n",
       "32671               NaN  Мужской  2021-06-08   \n",
       "32672               NaN  Мужской  2021-06-15   \n",
       "\n",
       "                                          skills otherInfo  \n",
       "12                                           NaN       NaN  \n",
       "24     <p>Коммуникабельность, пунктуальность</p>       NaN  \n",
       "51                                           NaN       NaN  \n",
       "88                                           NaN       NaN  \n",
       "89                                           NaN       NaN  \n",
       "...                                          ...       ...  \n",
       "32649                                        NaN       NaN  \n",
       "32651                                        NaN       NaN  \n",
       "32658                                        NaN       NaN  \n",
       "32671                                        NaN       NaN  \n",
       "32672                      <p>исполнительный</p>       NaN  \n",
       "\n",
       "[2979 rows x 8 columns]"
      ]
     },
     "execution_count": 208,
     "metadata": {},
     "output_type": "execute_result"
    }
   ],
   "source": [
    "male_average = data.query('gender == \"Мужской\" and educationType == \"Среднее\"')\n",
    "male_average"
   ]
  },
  {
   "cell_type": "markdown",
   "id": "6260a6b9",
   "metadata": {},
   "source": [
    "### Распределение зарплат для мужчин со средним образованием"
   ]
  },
  {
   "cell_type": "code",
   "execution_count": 209,
   "id": "d5078c24",
   "metadata": {},
   "outputs": [
    {
     "data": {
      "image/png": "[encoded data removed]",
      "text/plain": [
       "<Figure size 720x360 with 1 Axes>"
      ]
     },
     "metadata": {
      "needs_background": "light"
     },
     "output_type": "display_data"
    }
   ],
   "source": [
    "plt.figure(figsize=(10, 5))  \n",
    "plt.title('Распределение по заработной плате у мужчин со средним') \n",
    "plt.xlabel('Зарплата мужчин') \n",
    "plt.ylabel('Количество мужчин') \n",
    "plt.grid() \n",
    "\n",
    "plt.hist(male_average['salary'],\n",
    "         color ='green',\n",
    "         bins=25) \n",
    "plt.show()"
   ]
  },
  {
   "cell_type": "code",
   "execution_count": 210,
   "id": "57e9c750",
   "metadata": {},
   "outputs": [
    {
     "data": {
      "text/html": [
       "<div>\n",
       "<style scoped>\n",
       "    .dataframe tbody tr th:only-of-type {\n",
       "        vertical-align: middle;\n",
       "    }\n",
       "\n",
       "    .dataframe tbody tr th {\n",
       "        vertical-align: top;\n",
       "    }\n",
       "\n",
       "    .dataframe thead th {\n",
       "        text-align: right;\n",
       "    }\n",
       "</style>\n",
       "<table border=\"1\" class=\"dataframe\">\n",
       "  <thead>\n",
       "    <tr style=\"text-align: right;\">\n",
       "      <th></th>\n",
       "      <th>salary</th>\n",
       "      <th>educationType</th>\n",
       "      <th>jobTitle</th>\n",
       "      <th>qualification</th>\n",
       "      <th>gender</th>\n",
       "      <th>dateModify</th>\n",
       "      <th>skills</th>\n",
       "      <th>otherInfo</th>\n",
       "    </tr>\n",
       "  </thead>\n",
       "  <tbody>\n",
       "    <tr>\n",
       "      <th>9</th>\n",
       "      <td>20000</td>\n",
       "      <td>Среднее профессиональное</td>\n",
       "      <td>Рядовой колхозник</td>\n",
       "      <td>NaN</td>\n",
       "      <td>Мужской</td>\n",
       "      <td>2021-11-05</td>\n",
       "      <td>NaN</td>\n",
       "      <td>NaN</td>\n",
       "    </tr>\n",
       "    <tr>\n",
       "      <th>17</th>\n",
       "      <td>35000</td>\n",
       "      <td>Среднее профессиональное</td>\n",
       "      <td>Рабочий по комплексно му обслуживанию и ремонт...</td>\n",
       "      <td>Техник</td>\n",
       "      <td>Мужской</td>\n",
       "      <td>2021-04-01</td>\n",
       "      <td>NaN</td>\n",
       "      <td>NaN</td>\n",
       "    </tr>\n",
       "    <tr>\n",
       "      <th>23</th>\n",
       "      <td>30000</td>\n",
       "      <td>Среднее профессиональное</td>\n",
       "      <td>Матрос</td>\n",
       "      <td>NaN</td>\n",
       "      <td>Мужской</td>\n",
       "      <td>2021-04-01</td>\n",
       "      <td>NaN</td>\n",
       "      <td>NaN</td>\n",
       "    </tr>\n",
       "    <tr>\n",
       "      <th>27</th>\n",
       "      <td>70000</td>\n",
       "      <td>Среднее профессиональное</td>\n",
       "      <td>3-й механик</td>\n",
       "      <td>техник-судомеханик</td>\n",
       "      <td>Мужской</td>\n",
       "      <td>2021-04-01</td>\n",
       "      <td>NaN</td>\n",
       "      <td>NaN</td>\n",
       "    </tr>\n",
       "    <tr>\n",
       "      <th>29</th>\n",
       "      <td>11200</td>\n",
       "      <td>Среднее профессиональное</td>\n",
       "      <td>NaN</td>\n",
       "      <td>NaN</td>\n",
       "      <td>Мужской</td>\n",
       "      <td>2021-04-01</td>\n",
       "      <td>NaN</td>\n",
       "      <td>NaN</td>\n",
       "    </tr>\n",
       "    <tr>\n",
       "      <th>...</th>\n",
       "      <td>...</td>\n",
       "      <td>...</td>\n",
       "      <td>...</td>\n",
       "      <td>...</td>\n",
       "      <td>...</td>\n",
       "      <td>...</td>\n",
       "      <td>...</td>\n",
       "      <td>...</td>\n",
       "    </tr>\n",
       "    <tr>\n",
       "      <th>32618</th>\n",
       "      <td>45000</td>\n",
       "      <td>Среднее профессиональное</td>\n",
       "      <td>проходчик 5 разряда на подземном участке</td>\n",
       "      <td>NaN</td>\n",
       "      <td>Мужской</td>\n",
       "      <td>2021-05-19</td>\n",
       "      <td>NaN</td>\n",
       "      <td>NaN</td>\n",
       "    </tr>\n",
       "    <tr>\n",
       "      <th>32667</th>\n",
       "      <td>18000</td>\n",
       "      <td>Среднее профессиональное</td>\n",
       "      <td>NaN</td>\n",
       "      <td>NaN</td>\n",
       "      <td>Мужской</td>\n",
       "      <td>2021-10-27</td>\n",
       "      <td>NaN</td>\n",
       "      <td>NaN</td>\n",
       "    </tr>\n",
       "    <tr>\n",
       "      <th>32674</th>\n",
       "      <td>80000</td>\n",
       "      <td>Среднее профессиональное</td>\n",
       "      <td>Руководитель группы логистики</td>\n",
       "      <td>NaN</td>\n",
       "      <td>Мужской</td>\n",
       "      <td>2021-05-07</td>\n",
       "      <td>&lt;p&gt;Нацелен на результат. Считаю себя командным...</td>\n",
       "      <td>NaN</td>\n",
       "    </tr>\n",
       "    <tr>\n",
       "      <th>32675</th>\n",
       "      <td>40000</td>\n",
       "      <td>Среднее профессиональное</td>\n",
       "      <td>NaN</td>\n",
       "      <td>повар</td>\n",
       "      <td>Мужской</td>\n",
       "      <td>2021-11-24</td>\n",
       "      <td>&lt;p&gt;трудоспособен&lt;/p&gt;</td>\n",
       "      <td>NaN</td>\n",
       "    </tr>\n",
       "    <tr>\n",
       "      <th>32680</th>\n",
       "      <td>16000</td>\n",
       "      <td>Среднее профессиональное</td>\n",
       "      <td>кочегар машинист котельной</td>\n",
       "      <td>NaN</td>\n",
       "      <td>Мужской</td>\n",
       "      <td>2021-11-11</td>\n",
       "      <td>NaN</td>\n",
       "      <td>NaN</td>\n",
       "    </tr>\n",
       "  </tbody>\n",
       "</table>\n",
       "<p>3522 rows × 8 columns</p>\n",
       "</div>"
      ],
      "text/plain": [
       "       salary             educationType  \\\n",
       "9       20000  Среднее профессиональное   \n",
       "17      35000  Среднее профессиональное   \n",
       "23      30000  Среднее профессиональное   \n",
       "27      70000  Среднее профессиональное   \n",
       "29      11200  Среднее профессиональное   \n",
       "...       ...                       ...   \n",
       "32618   45000  Среднее профессиональное   \n",
       "32667   18000  Среднее профессиональное   \n",
       "32674   80000  Среднее профессиональное   \n",
       "32675   40000  Среднее профессиональное   \n",
       "32680   16000  Среднее профессиональное   \n",
       "\n",
       "                                                jobTitle       qualification  \\\n",
       "9                                      Рядовой колхозник                 NaN   \n",
       "17     Рабочий по комплексно му обслуживанию и ремонт...              Техник   \n",
       "23                                                Матрос                 NaN   \n",
       "27                                           3-й механик  техник-судомеханик   \n",
       "29                                                   NaN                 NaN   \n",
       "...                                                  ...                 ...   \n",
       "32618           проходчик 5 разряда на подземном участке                 NaN   \n",
       "32667                                                NaN                 NaN   \n",
       "32674                      Руководитель группы логистики                 NaN   \n",
       "32675                                                NaN               повар   \n",
       "32680                         кочегар машинист котельной                 NaN   \n",
       "\n",
       "        gender  dateModify                                             skills  \\\n",
       "9      Мужской  2021-11-05                                                NaN   \n",
       "17     Мужской  2021-04-01                                                NaN   \n",
       "23     Мужской  2021-04-01                                                NaN   \n",
       "27     Мужской  2021-04-01                                                NaN   \n",
       "29     Мужской  2021-04-01                                                NaN   \n",
       "...        ...         ...                                                ...   \n",
       "32618  Мужской  2021-05-19                                                NaN   \n",
       "32667  Мужской  2021-10-27                                                NaN   \n",
       "32674  Мужской  2021-05-07  <p>Нацелен на результат. Считаю себя командным...   \n",
       "32675  Мужской  2021-11-24                               <p>трудоспособен</p>   \n",
       "32680  Мужской  2021-11-11                                                NaN   \n",
       "\n",
       "      otherInfo  \n",
       "9           NaN  \n",
       "17          NaN  \n",
       "23          NaN  \n",
       "27          NaN  \n",
       "29          NaN  \n",
       "...         ...  \n",
       "32618       NaN  \n",
       "32667       NaN  \n",
       "32674       NaN  \n",
       "32675       NaN  \n",
       "32680       NaN  \n",
       "\n",
       "[3522 rows x 8 columns]"
      ]
     },
     "execution_count": 210,
     "metadata": {},
     "output_type": "execute_result"
    }
   ],
   "source": [
    "male_average_pr = data.query('gender == \"Мужской\" and educationType == \"Среднее профессиональное\"')\n",
    "male_average_pr"
   ]
  },
  {
   "cell_type": "markdown",
   "id": "6014dfd9",
   "metadata": {},
   "source": [
    "### Распределение зарплат для мужчин со среднее профессиональным образованием"
   ]
  },
  {
   "cell_type": "code",
   "execution_count": 211,
   "id": "c4e601c9",
   "metadata": {},
   "outputs": [
    {
     "data": {
      "image/png": "[encoded data removed]",
      "text/plain": [
       "<Figure size 720x360 with 1 Axes>"
      ]
     },
     "metadata": {
      "needs_background": "light"
     },
     "output_type": "display_data"
    }
   ],
   "source": [
    "plt.figure(figsize=(10, 5))  \n",
    "plt.title('Распределение по заработной плате у мужчин со среднепрофессиональным образованием') \n",
    "plt.xlabel('Зарплата мужчин') \n",
    "plt.ylabel('Количество мужчин') \n",
    "plt.grid() \n",
    "\n",
    "plt.hist(male_average_pr['salary'], \n",
    "         color = 'y',\n",
    "         bins=25) \n",
    "plt.show()"
   ]
  },
  {
   "cell_type": "markdown",
   "id": "40576724",
   "metadata": {},
   "source": [
    "### Построение графиков распределения заработной платы для женщин"
   ]
  },
  {
   "cell_type": "code",
   "execution_count": 212,
   "id": "d60bd458",
   "metadata": {},
   "outputs": [
    {
     "data": {
      "text/html": [
       "<div>\n",
       "<style scoped>\n",
       "    .dataframe tbody tr th:only-of-type {\n",
       "        vertical-align: middle;\n",
       "    }\n",
       "\n",
       "    .dataframe tbody tr th {\n",
       "        vertical-align: top;\n",
       "    }\n",
       "\n",
       "    .dataframe thead th {\n",
       "        text-align: right;\n",
       "    }\n",
       "</style>\n",
       "<table border=\"1\" class=\"dataframe\">\n",
       "  <thead>\n",
       "    <tr style=\"text-align: right;\">\n",
       "      <th></th>\n",
       "      <th>salary</th>\n",
       "      <th>educationType</th>\n",
       "      <th>jobTitle</th>\n",
       "      <th>qualification</th>\n",
       "      <th>gender</th>\n",
       "      <th>dateModify</th>\n",
       "      <th>skills</th>\n",
       "      <th>otherInfo</th>\n",
       "    </tr>\n",
       "  </thead>\n",
       "  <tbody>\n",
       "    <tr>\n",
       "      <th>8</th>\n",
       "      <td>40000</td>\n",
       "      <td>Высшее</td>\n",
       "      <td>Социальный работник</td>\n",
       "      <td>Преподователь дошкольной педагогики и психологии</td>\n",
       "      <td>Женский</td>\n",
       "      <td>2021-10-05</td>\n",
       "      <td>NaN</td>\n",
       "      <td>NaN</td>\n",
       "    </tr>\n",
       "    <tr>\n",
       "      <th>19</th>\n",
       "      <td>40000</td>\n",
       "      <td>Высшее</td>\n",
       "      <td>бухгалтер, экономист</td>\n",
       "      <td>Экономист-организатор с.-х. производства</td>\n",
       "      <td>Женский</td>\n",
       "      <td>2021-07-02</td>\n",
       "      <td>NaN</td>\n",
       "      <td>NaN</td>\n",
       "    </tr>\n",
       "    <tr>\n",
       "      <th>21</th>\n",
       "      <td>30000</td>\n",
       "      <td>Высшее</td>\n",
       "      <td>Специалист 1 разряда</td>\n",
       "      <td>Магистр</td>\n",
       "      <td>Женский</td>\n",
       "      <td>2021-09-04</td>\n",
       "      <td>&lt;p&gt;Усидчивость, умение удерживать в памяти нуж...</td>\n",
       "      <td>NaN</td>\n",
       "    </tr>\n",
       "    <tr>\n",
       "      <th>22</th>\n",
       "      <td>25000</td>\n",
       "      <td>Высшее</td>\n",
       "      <td>Начальник отдела социальных выплат</td>\n",
       "      <td>Экономика и менеджмент в сфере управления перс...</td>\n",
       "      <td>Женский</td>\n",
       "      <td>2021-09-29</td>\n",
       "      <td>&lt;p&gt;Владение&amp;nbsp;ПК:&amp;nbsp;MsOffice,&amp;nbsp;1С:ЗУ...</td>\n",
       "      <td>NaN</td>\n",
       "    </tr>\n",
       "    <tr>\n",
       "      <th>31</th>\n",
       "      <td>25000</td>\n",
       "      <td>Высшее</td>\n",
       "      <td>Офис-менеджер</td>\n",
       "      <td>Бакалавр</td>\n",
       "      <td>Женский</td>\n",
       "      <td>2021-10-01</td>\n",
       "      <td>&lt;p&gt;Коммуникабельность, находить индивидуальный...</td>\n",
       "      <td>NaN</td>\n",
       "    </tr>\n",
       "    <tr>\n",
       "      <th>...</th>\n",
       "      <td>...</td>\n",
       "      <td>...</td>\n",
       "      <td>...</td>\n",
       "      <td>...</td>\n",
       "      <td>...</td>\n",
       "      <td>...</td>\n",
       "      <td>...</td>\n",
       "      <td>...</td>\n",
       "    </tr>\n",
       "    <tr>\n",
       "      <th>32640</th>\n",
       "      <td>50000</td>\n",
       "      <td>Высшее</td>\n",
       "      <td>NaN</td>\n",
       "      <td>Учитель русского языка и литературы</td>\n",
       "      <td>Женский</td>\n",
       "      <td>2021-05-20</td>\n",
       "      <td>&lt;p&gt;&lt;em&gt;&lt;/em&gt;Активная, обучаемая&lt;/p&gt;</td>\n",
       "      <td>NaN</td>\n",
       "    </tr>\n",
       "    <tr>\n",
       "      <th>32652</th>\n",
       "      <td>60000</td>\n",
       "      <td>Высшее</td>\n",
       "      <td>Руководитель группы</td>\n",
       "      <td>бакалавр</td>\n",
       "      <td>Женский</td>\n",
       "      <td>2021-01-29</td>\n",
       "      <td>NaN</td>\n",
       "      <td>NaN</td>\n",
       "    </tr>\n",
       "    <tr>\n",
       "      <th>32655</th>\n",
       "      <td>12300</td>\n",
       "      <td>Высшее</td>\n",
       "      <td>учитель</td>\n",
       "      <td>филолог-преподаватель русского языка и литерат...</td>\n",
       "      <td>Женский</td>\n",
       "      <td>2021-02-09</td>\n",
       "      <td>NaN</td>\n",
       "      <td>NaN</td>\n",
       "    </tr>\n",
       "    <tr>\n",
       "      <th>32656</th>\n",
       "      <td>30000</td>\n",
       "      <td>Высшее</td>\n",
       "      <td>Менеджер</td>\n",
       "      <td>Экономист</td>\n",
       "      <td>Женский</td>\n",
       "      <td>2020-01-28</td>\n",
       "      <td>&lt;p&gt;Исполнительная, &amp;nbsp;коммуникабельная&amp;nbsp...</td>\n",
       "      <td>NaN</td>\n",
       "    </tr>\n",
       "    <tr>\n",
       "      <th>32673</th>\n",
       "      <td>30000</td>\n",
       "      <td>Высшее</td>\n",
       "      <td>инженер лесосырьевых ресурсов</td>\n",
       "      <td>инженер</td>\n",
       "      <td>Женский</td>\n",
       "      <td>2021-03-12</td>\n",
       "      <td>NaN</td>\n",
       "      <td>NaN</td>\n",
       "    </tr>\n",
       "  </tbody>\n",
       "</table>\n",
       "<p>5993 rows × 8 columns</p>\n",
       "</div>"
      ],
      "text/plain": [
       "       salary educationType                            jobTitle  \\\n",
       "8       40000        Высшее                 Социальный работник   \n",
       "19      40000        Высшее                бухгалтер, экономист   \n",
       "21      30000        Высшее                Специалист 1 разряда   \n",
       "22      25000        Высшее  Начальник отдела социальных выплат   \n",
       "31      25000        Высшее                       Офис-менеджер   \n",
       "...       ...           ...                                 ...   \n",
       "32640   50000        Высшее                                 NaN   \n",
       "32652   60000        Высшее                 Руководитель группы   \n",
       "32655   12300        Высшее                             учитель   \n",
       "32656   30000        Высшее                            Менеджер   \n",
       "32673   30000        Высшее       инженер лесосырьевых ресурсов   \n",
       "\n",
       "                                           qualification   gender  dateModify  \\\n",
       "8       Преподователь дошкольной педагогики и психологии  Женский  2021-10-05   \n",
       "19              Экономист-организатор с.-х. производства  Женский  2021-07-02   \n",
       "21                                               Магистр  Женский  2021-09-04   \n",
       "22     Экономика и менеджмент в сфере управления перс...  Женский  2021-09-29   \n",
       "31                                              Бакалавр  Женский  2021-10-01   \n",
       "...                                                  ...      ...         ...   \n",
       "32640                Учитель русского языка и литературы  Женский  2021-05-20   \n",
       "32652                                           бакалавр  Женский  2021-01-29   \n",
       "32655  филолог-преподаватель русского языка и литерат...  Женский  2021-02-09   \n",
       "32656                                          Экономист  Женский  2020-01-28   \n",
       "32673                                            инженер  Женский  2021-03-12   \n",
       "\n",
       "                                                  skills otherInfo  \n",
       "8                                                    NaN       NaN  \n",
       "19                                                   NaN       NaN  \n",
       "21     <p>Усидчивость, умение удерживать в памяти нуж...       NaN  \n",
       "22     <p>Владение&nbsp;ПК:&nbsp;MsOffice,&nbsp;1С:ЗУ...       NaN  \n",
       "31     <p>Коммуникабельность, находить индивидуальный...       NaN  \n",
       "...                                                  ...       ...  \n",
       "32640                <p><em></em>Активная, обучаемая</p>       NaN  \n",
       "32652                                                NaN       NaN  \n",
       "32655                                                NaN       NaN  \n",
       "32656  <p>Исполнительная, &nbsp;коммуникабельная&nbsp...       NaN  \n",
       "32673                                                NaN       NaN  \n",
       "\n",
       "[5993 rows x 8 columns]"
      ]
     },
     "execution_count": 212,
     "metadata": {},
     "output_type": "execute_result"
    }
   ],
   "source": [
    "female_height = data.query('gender == \"Женский\" and educationType == \"Высшее\"')\n",
    "female_height"
   ]
  },
  {
   "cell_type": "markdown",
   "id": "9e7b7898",
   "metadata": {},
   "source": [
    "### Распределение зарплат для женщин с высшим образованием"
   ]
  },
  {
   "cell_type": "code",
   "execution_count": 213,
   "id": "979e98d8",
   "metadata": {},
   "outputs": [
    {
     "data": {
      "image/png": "[encoded data removed]",
      "text/plain": [
       "<Figure size 720x360 with 1 Axes>"
      ]
     },
     "metadata": {
      "needs_background": "light"
     },
     "output_type": "display_data"
    }
   ],
   "source": [
    "plt.figure(figsize=(10, 5))  \n",
    "plt.title('Распределение зарплат для женщин с высшим образованием') \n",
    "plt.xlabel('Зарплата женщин') \n",
    "plt.ylabel('Количество женщин') \n",
    "plt.grid() \n",
    "\n",
    "plt.hist(female_height['salary'], \n",
    "         bins=25) \n",
    "plt.show()"
   ]
  },
  {
   "cell_type": "code",
   "execution_count": 214,
   "id": "ddeb0581",
   "metadata": {},
   "outputs": [
    {
     "data": {
      "text/html": [
       "<div>\n",
       "<style scoped>\n",
       "    .dataframe tbody tr th:only-of-type {\n",
       "        vertical-align: middle;\n",
       "    }\n",
       "\n",
       "    .dataframe tbody tr th {\n",
       "        vertical-align: top;\n",
       "    }\n",
       "\n",
       "    .dataframe thead th {\n",
       "        text-align: right;\n",
       "    }\n",
       "</style>\n",
       "<table border=\"1\" class=\"dataframe\">\n",
       "  <thead>\n",
       "    <tr style=\"text-align: right;\">\n",
       "      <th></th>\n",
       "      <th>salary</th>\n",
       "      <th>educationType</th>\n",
       "      <th>jobTitle</th>\n",
       "      <th>qualification</th>\n",
       "      <th>gender</th>\n",
       "      <th>dateModify</th>\n",
       "      <th>skills</th>\n",
       "      <th>otherInfo</th>\n",
       "    </tr>\n",
       "  </thead>\n",
       "  <tbody>\n",
       "    <tr>\n",
       "      <th>45</th>\n",
       "      <td>18000</td>\n",
       "      <td>Незаконченное высшее</td>\n",
       "      <td>техник-геофизик, геофизик</td>\n",
       "      <td>горный инженер</td>\n",
       "      <td>Женский</td>\n",
       "      <td>2021-08-16</td>\n",
       "      <td>NaN</td>\n",
       "      <td>NaN</td>\n",
       "    </tr>\n",
       "    <tr>\n",
       "      <th>114</th>\n",
       "      <td>30000</td>\n",
       "      <td>Незаконченное высшее</td>\n",
       "      <td>Юрисконсульт</td>\n",
       "      <td>NaN</td>\n",
       "      <td>Женский</td>\n",
       "      <td>2021-04-01</td>\n",
       "      <td>NaN</td>\n",
       "      <td>NaN</td>\n",
       "    </tr>\n",
       "    <tr>\n",
       "      <th>115</th>\n",
       "      <td>20000</td>\n",
       "      <td>Незаконченное высшее</td>\n",
       "      <td>Делопроизводитель</td>\n",
       "      <td>NaN</td>\n",
       "      <td>Женский</td>\n",
       "      <td>2021-10-05</td>\n",
       "      <td>&lt;p&gt;Опытный пользователь ПК. Администрирование....</td>\n",
       "      <td>NaN</td>\n",
       "    </tr>\n",
       "    <tr>\n",
       "      <th>261</th>\n",
       "      <td>30</td>\n",
       "      <td>Незаконченное высшее</td>\n",
       "      <td>Продавец-консультант</td>\n",
       "      <td>NaN</td>\n",
       "      <td>Женский</td>\n",
       "      <td>2021-11-08</td>\n",
       "      <td>NaN</td>\n",
       "      <td>NaN</td>\n",
       "    </tr>\n",
       "    <tr>\n",
       "      <th>518</th>\n",
       "      <td>35000</td>\n",
       "      <td>Незаконченное высшее</td>\n",
       "      <td>Мастер-переплетчик</td>\n",
       "      <td>NaN</td>\n",
       "      <td>Женский</td>\n",
       "      <td>2021-08-16</td>\n",
       "      <td>&lt;p&gt;Уверенный пользователь: MS Office (Word, Ex...</td>\n",
       "      <td>&lt;p&gt;Стажировка&amp;nbsp; в Федеральной службе судеб...</td>\n",
       "    </tr>\n",
       "    <tr>\n",
       "      <th>...</th>\n",
       "      <td>...</td>\n",
       "      <td>...</td>\n",
       "      <td>...</td>\n",
       "      <td>...</td>\n",
       "      <td>...</td>\n",
       "      <td>...</td>\n",
       "      <td>...</td>\n",
       "      <td>...</td>\n",
       "    </tr>\n",
       "    <tr>\n",
       "      <th>32523</th>\n",
       "      <td>15000</td>\n",
       "      <td>Незаконченное высшее</td>\n",
       "      <td>Менеджер по работе с клиентами</td>\n",
       "      <td>NaN</td>\n",
       "      <td>Женский</td>\n",
       "      <td>2021-03-09</td>\n",
       "      <td>&lt;p&gt;Уверенный пользователь ПК; свободное владен...</td>\n",
       "      <td>NaN</td>\n",
       "    </tr>\n",
       "    <tr>\n",
       "      <th>32598</th>\n",
       "      <td>60000</td>\n",
       "      <td>Незаконченное высшее</td>\n",
       "      <td>Менеджер по продажам</td>\n",
       "      <td>NaN</td>\n",
       "      <td>Женский</td>\n",
       "      <td>2021-03-31</td>\n",
       "      <td>NaN</td>\n",
       "      <td>NaN</td>\n",
       "    </tr>\n",
       "    <tr>\n",
       "      <th>32605</th>\n",
       "      <td>20000</td>\n",
       "      <td>Незаконченное высшее</td>\n",
       "      <td>продаец-консультант</td>\n",
       "      <td>Бакалавр</td>\n",
       "      <td>Женский</td>\n",
       "      <td>2021-09-09</td>\n",
       "      <td>NaN</td>\n",
       "      <td>NaN</td>\n",
       "    </tr>\n",
       "    <tr>\n",
       "      <th>32657</th>\n",
       "      <td>40000</td>\n",
       "      <td>Незаконченное высшее</td>\n",
       "      <td>Официант</td>\n",
       "      <td>NaN</td>\n",
       "      <td>Женский</td>\n",
       "      <td>2021-05-20</td>\n",
       "      <td>&lt;p&gt;Уверенный пользователь ПК: MS Office, Владе...</td>\n",
       "      <td>NaN</td>\n",
       "    </tr>\n",
       "    <tr>\n",
       "      <th>32676</th>\n",
       "      <td>25000</td>\n",
       "      <td>Незаконченное высшее</td>\n",
       "      <td>старший кассир-операционист</td>\n",
       "      <td>NaN</td>\n",
       "      <td>Женский</td>\n",
       "      <td>2021-02-09</td>\n",
       "      <td>NaN</td>\n",
       "      <td>NaN</td>\n",
       "    </tr>\n",
       "  </tbody>\n",
       "</table>\n",
       "<p>507 rows × 8 columns</p>\n",
       "</div>"
      ],
      "text/plain": [
       "       salary         educationType                        jobTitle  \\\n",
       "45      18000  Незаконченное высшее       техник-геофизик, геофизик   \n",
       "114     30000  Незаконченное высшее                    Юрисконсульт   \n",
       "115     20000  Незаконченное высшее               Делопроизводитель   \n",
       "261        30  Незаконченное высшее            Продавец-консультант   \n",
       "518     35000  Незаконченное высшее              Мастер-переплетчик   \n",
       "...       ...                   ...                             ...   \n",
       "32523   15000  Незаконченное высшее  Менеджер по работе с клиентами   \n",
       "32598   60000  Незаконченное высшее            Менеджер по продажам   \n",
       "32605   20000  Незаконченное высшее             продаец-консультант   \n",
       "32657   40000  Незаконченное высшее                        Официант   \n",
       "32676   25000  Незаконченное высшее     старший кассир-операционист   \n",
       "\n",
       "        qualification   gender  dateModify  \\\n",
       "45     горный инженер  Женский  2021-08-16   \n",
       "114               NaN  Женский  2021-04-01   \n",
       "115               NaN  Женский  2021-10-05   \n",
       "261               NaN  Женский  2021-11-08   \n",
       "518               NaN  Женский  2021-08-16   \n",
       "...               ...      ...         ...   \n",
       "32523             NaN  Женский  2021-03-09   \n",
       "32598             NaN  Женский  2021-03-31   \n",
       "32605        Бакалавр  Женский  2021-09-09   \n",
       "32657             NaN  Женский  2021-05-20   \n",
       "32676             NaN  Женский  2021-02-09   \n",
       "\n",
       "                                                  skills  \\\n",
       "45                                                   NaN   \n",
       "114                                                  NaN   \n",
       "115    <p>Опытный пользователь ПК. Администрирование....   \n",
       "261                                                  NaN   \n",
       "518    <p>Уверенный пользователь: MS Office (Word, Ex...   \n",
       "...                                                  ...   \n",
       "32523  <p>Уверенный пользователь ПК; свободное владен...   \n",
       "32598                                                NaN   \n",
       "32605                                                NaN   \n",
       "32657  <p>Уверенный пользователь ПК: MS Office, Владе...   \n",
       "32676                                                NaN   \n",
       "\n",
       "                                               otherInfo  \n",
       "45                                                   NaN  \n",
       "114                                                  NaN  \n",
       "115                                                  NaN  \n",
       "261                                                  NaN  \n",
       "518    <p>Стажировка&nbsp; в Федеральной службе судеб...  \n",
       "...                                                  ...  \n",
       "32523                                                NaN  \n",
       "32598                                                NaN  \n",
       "32605                                                NaN  \n",
       "32657                                                NaN  \n",
       "32676                                                NaN  \n",
       "\n",
       "[507 rows x 8 columns]"
      ]
     },
     "execution_count": 214,
     "metadata": {},
     "output_type": "execute_result"
    }
   ],
   "source": [
    "female_without_height = data.query('gender == \"Женский\" and educationType == \"Незаконченное высшее\"')\n",
    "female_without_height"
   ]
  },
  {
   "cell_type": "markdown",
   "id": "814bc09a",
   "metadata": {},
   "source": [
    "### Распределение по заработной плате у женщин с незокноченным высшим образованием"
   ]
  },
  {
   "cell_type": "code",
   "execution_count": 215,
   "id": "ff0a0e61",
   "metadata": {},
   "outputs": [
    {
     "data": {
      "image/png": "[encoded data removed]",
      "text/plain": [
       "<Figure size 720x360 with 1 Axes>"
      ]
     },
     "metadata": {
      "needs_background": "light"
     },
     "output_type": "display_data"
    }
   ],
   "source": [
    "plt.figure(figsize=(10, 5))  \n",
    "plt.title('Распределение по заработной плате у женщин с незокноченным высшим образованием') \n",
    "plt.xlabel('Зарплата женщин') \n",
    "plt.ylabel('Количество женщин') \n",
    "plt.grid() \n",
    "\n",
    "plt.hist(female_without_height['salary'], \n",
    "         color = 'green',\n",
    "         bins=25) \n",
    "plt.show()"
   ]
  },
  {
   "cell_type": "code",
   "execution_count": 216,
   "id": "6f51c299",
   "metadata": {},
   "outputs": [
    {
     "data": {
      "text/html": [
       "<div>\n",
       "<style scoped>\n",
       "    .dataframe tbody tr th:only-of-type {\n",
       "        vertical-align: middle;\n",
       "    }\n",
       "\n",
       "    .dataframe tbody tr th {\n",
       "        vertical-align: top;\n",
       "    }\n",
       "\n",
       "    .dataframe thead th {\n",
       "        text-align: right;\n",
       "    }\n",
       "</style>\n",
       "<table border=\"1\" class=\"dataframe\">\n",
       "  <thead>\n",
       "    <tr style=\"text-align: right;\">\n",
       "      <th></th>\n",
       "      <th>salary</th>\n",
       "      <th>educationType</th>\n",
       "      <th>jobTitle</th>\n",
       "      <th>qualification</th>\n",
       "      <th>gender</th>\n",
       "      <th>dateModify</th>\n",
       "      <th>skills</th>\n",
       "      <th>otherInfo</th>\n",
       "    </tr>\n",
       "  </thead>\n",
       "  <tbody>\n",
       "    <tr>\n",
       "      <th>6</th>\n",
       "      <td>45000</td>\n",
       "      <td>Среднее</td>\n",
       "      <td>представитель бизнес зала</td>\n",
       "      <td>повар-кондитер</td>\n",
       "      <td>Женский</td>\n",
       "      <td>2021-10-20</td>\n",
       "      <td>NaN</td>\n",
       "      <td>NaN</td>\n",
       "    </tr>\n",
       "    <tr>\n",
       "      <th>26</th>\n",
       "      <td>20000</td>\n",
       "      <td>Среднее</td>\n",
       "      <td>NaN</td>\n",
       "      <td>NaN</td>\n",
       "      <td>Женский</td>\n",
       "      <td>2021-04-01</td>\n",
       "      <td>NaN</td>\n",
       "      <td>NaN</td>\n",
       "    </tr>\n",
       "    <tr>\n",
       "      <th>34</th>\n",
       "      <td>20000</td>\n",
       "      <td>Среднее</td>\n",
       "      <td>Повар</td>\n",
       "      <td>NaN</td>\n",
       "      <td>Женский</td>\n",
       "      <td>2021-05-14</td>\n",
       "      <td>NaN</td>\n",
       "      <td>NaN</td>\n",
       "    </tr>\n",
       "    <tr>\n",
       "      <th>61</th>\n",
       "      <td>25000</td>\n",
       "      <td>Среднее</td>\n",
       "      <td>NaN</td>\n",
       "      <td>NaN</td>\n",
       "      <td>Женский</td>\n",
       "      <td>2021-05-16</td>\n",
       "      <td>&lt;p&gt;профессионал&lt;/p&gt;</td>\n",
       "      <td>NaN</td>\n",
       "    </tr>\n",
       "    <tr>\n",
       "      <th>110</th>\n",
       "      <td>10000</td>\n",
       "      <td>Среднее</td>\n",
       "      <td>NaN</td>\n",
       "      <td>NaN</td>\n",
       "      <td>Женский</td>\n",
       "      <td>2021-04-01</td>\n",
       "      <td>&lt;p&gt;Вредных привычек не имею.Умение работать в ...</td>\n",
       "      <td>&lt;p&gt;По запросу предъявлю рекомендации.&lt;/p&gt;</td>\n",
       "    </tr>\n",
       "    <tr>\n",
       "      <th>...</th>\n",
       "      <td>...</td>\n",
       "      <td>...</td>\n",
       "      <td>...</td>\n",
       "      <td>...</td>\n",
       "      <td>...</td>\n",
       "      <td>...</td>\n",
       "      <td>...</td>\n",
       "      <td>...</td>\n",
       "    </tr>\n",
       "    <tr>\n",
       "      <th>32638</th>\n",
       "      <td>20000</td>\n",
       "      <td>Среднее</td>\n",
       "      <td>санитарка Родильного отделения</td>\n",
       "      <td>NaN</td>\n",
       "      <td>Женский</td>\n",
       "      <td>2021-07-26</td>\n",
       "      <td>NaN</td>\n",
       "      <td>NaN</td>\n",
       "    </tr>\n",
       "    <tr>\n",
       "      <th>32653</th>\n",
       "      <td>35000</td>\n",
       "      <td>Среднее</td>\n",
       "      <td>старшая горничная</td>\n",
       "      <td>NaN</td>\n",
       "      <td>Женский</td>\n",
       "      <td>2021-05-27</td>\n",
       "      <td>NaN</td>\n",
       "      <td>NaN</td>\n",
       "    </tr>\n",
       "    <tr>\n",
       "      <th>32664</th>\n",
       "      <td>18000</td>\n",
       "      <td>Среднее</td>\n",
       "      <td>Бухгалтер консультант</td>\n",
       "      <td>NaN</td>\n",
       "      <td>Женский</td>\n",
       "      <td>2021-09-23</td>\n",
       "      <td>NaN</td>\n",
       "      <td>NaN</td>\n",
       "    </tr>\n",
       "    <tr>\n",
       "      <th>32669</th>\n",
       "      <td>40000</td>\n",
       "      <td>Среднее</td>\n",
       "      <td>NaN</td>\n",
       "      <td>NaN</td>\n",
       "      <td>Женский</td>\n",
       "      <td>2021-07-08</td>\n",
       "      <td>NaN</td>\n",
       "      <td>NaN</td>\n",
       "    </tr>\n",
       "    <tr>\n",
       "      <th>32679</th>\n",
       "      <td>13000</td>\n",
       "      <td>Среднее</td>\n",
       "      <td>уборщица</td>\n",
       "      <td>NaN</td>\n",
       "      <td>Женский</td>\n",
       "      <td>2021-07-29</td>\n",
       "      <td>NaN</td>\n",
       "      <td>NaN</td>\n",
       "    </tr>\n",
       "  </tbody>\n",
       "</table>\n",
       "<p>3159 rows × 8 columns</p>\n",
       "</div>"
      ],
      "text/plain": [
       "       salary educationType                        jobTitle   qualification  \\\n",
       "6       45000       Среднее       представитель бизнес зала  повар-кондитер   \n",
       "26      20000       Среднее                             NaN             NaN   \n",
       "34      20000       Среднее                           Повар             NaN   \n",
       "61      25000       Среднее                             NaN             NaN   \n",
       "110     10000       Среднее                             NaN             NaN   \n",
       "...       ...           ...                             ...             ...   \n",
       "32638   20000       Среднее  санитарка Родильного отделения             NaN   \n",
       "32653   35000       Среднее               старшая горничная             NaN   \n",
       "32664   18000       Среднее           Бухгалтер консультант             NaN   \n",
       "32669   40000       Среднее                             NaN             NaN   \n",
       "32679   13000       Среднее                        уборщица             NaN   \n",
       "\n",
       "        gender  dateModify                                             skills  \\\n",
       "6      Женский  2021-10-20                                                NaN   \n",
       "26     Женский  2021-04-01                                                NaN   \n",
       "34     Женский  2021-05-14                                                NaN   \n",
       "61     Женский  2021-05-16                                <p>профессионал</p>   \n",
       "110    Женский  2021-04-01  <p>Вредных привычек не имею.Умение работать в ...   \n",
       "...        ...         ...                                                ...   \n",
       "32638  Женский  2021-07-26                                                NaN   \n",
       "32653  Женский  2021-05-27                                                NaN   \n",
       "32664  Женский  2021-09-23                                                NaN   \n",
       "32669  Женский  2021-07-08                                                NaN   \n",
       "32679  Женский  2021-07-29                                                NaN   \n",
       "\n",
       "                                       otherInfo  \n",
       "6                                            NaN  \n",
       "26                                           NaN  \n",
       "34                                           NaN  \n",
       "61                                           NaN  \n",
       "110    <p>По запросу предъявлю рекомендации.</p>  \n",
       "...                                          ...  \n",
       "32638                                        NaN  \n",
       "32653                                        NaN  \n",
       "32664                                        NaN  \n",
       "32669                                        NaN  \n",
       "32679                                        NaN  \n",
       "\n",
       "[3159 rows x 8 columns]"
      ]
     },
     "execution_count": 216,
     "metadata": {},
     "output_type": "execute_result"
    }
   ],
   "source": [
    "female_average = data.query('gender == \"Женский\" and educationType == \"Среднее\"')\n",
    "female_average"
   ]
  },
  {
   "cell_type": "markdown",
   "id": "3c4349e4",
   "metadata": {},
   "source": [
    "### Распределение по заработной плате у женщин с  средним образованием"
   ]
  },
  {
   "cell_type": "code",
   "execution_count": 217,
   "id": "0ebb23c2",
   "metadata": {},
   "outputs": [
    {
     "data": {
      "image/png": "[encoded data removed]",
      "text/plain": [
       "<Figure size 720x360 with 1 Axes>"
      ]
     },
     "metadata": {
      "needs_background": "light"
     },
     "output_type": "display_data"
    }
   ],
   "source": [
    "plt.figure(figsize=(10, 5))  \n",
    "plt.title('Распределение по заработной плате у женщин с  средним образованием') \n",
    "plt.xlabel('Зарплата женщин') \n",
    "plt.ylabel('Количество женщин') \n",
    "plt.grid() \n",
    "\n",
    "plt.hist(female_average['salary'], \n",
    "         color = 'r',\n",
    "         bins=25) \n",
    "plt.show()"
   ]
  },
  {
   "cell_type": "code",
   "execution_count": 218,
   "id": "16d16edc",
   "metadata": {},
   "outputs": [
    {
     "data": {
      "text/html": [
       "<div>\n",
       "<style scoped>\n",
       "    .dataframe tbody tr th:only-of-type {\n",
       "        vertical-align: middle;\n",
       "    }\n",
       "\n",
       "    .dataframe tbody tr th {\n",
       "        vertical-align: top;\n",
       "    }\n",
       "\n",
       "    .dataframe thead th {\n",
       "        text-align: right;\n",
       "    }\n",
       "</style>\n",
       "<table border=\"1\" class=\"dataframe\">\n",
       "  <thead>\n",
       "    <tr style=\"text-align: right;\">\n",
       "      <th></th>\n",
       "      <th>salary</th>\n",
       "      <th>educationType</th>\n",
       "      <th>jobTitle</th>\n",
       "      <th>qualification</th>\n",
       "      <th>gender</th>\n",
       "      <th>dateModify</th>\n",
       "      <th>skills</th>\n",
       "      <th>otherInfo</th>\n",
       "    </tr>\n",
       "  </thead>\n",
       "  <tbody>\n",
       "    <tr>\n",
       "      <th>2</th>\n",
       "      <td>15000</td>\n",
       "      <td>Среднее профессиональное</td>\n",
       "      <td>....</td>\n",
       "      <td>NaN</td>\n",
       "      <td>Женский</td>\n",
       "      <td>2021-06-01</td>\n",
       "      <td>NaN</td>\n",
       "      <td>NaN</td>\n",
       "    </tr>\n",
       "    <tr>\n",
       "      <th>13</th>\n",
       "      <td>20000</td>\n",
       "      <td>Среднее профессиональное</td>\n",
       "      <td>Медсестра</td>\n",
       "      <td>Фельдшер</td>\n",
       "      <td>Женский</td>\n",
       "      <td>2021-04-01</td>\n",
       "      <td>&lt;p&gt;Ответственность в работе&lt;/p&gt;</td>\n",
       "      <td>&lt;p&gt;Провожу время в семье, люблю велоспорт, при...</td>\n",
       "    </tr>\n",
       "    <tr>\n",
       "      <th>15</th>\n",
       "      <td>35000</td>\n",
       "      <td>Среднее профессиональное</td>\n",
       "      <td>Администратор кассир</td>\n",
       "      <td>NaN</td>\n",
       "      <td>Женский</td>\n",
       "      <td>2021-06-17</td>\n",
       "      <td>NaN</td>\n",
       "      <td>NaN</td>\n",
       "    </tr>\n",
       "    <tr>\n",
       "      <th>30</th>\n",
       "      <td>40000</td>\n",
       "      <td>Среднее профессиональное</td>\n",
       "      <td>Билетный мобильный кассир</td>\n",
       "      <td>оператор швейного оборудования, швея 2 разряда</td>\n",
       "      <td>Женский</td>\n",
       "      <td>2021-05-18</td>\n",
       "      <td>&lt;p&gt;Ответственная , комунникабельная , готовая ...</td>\n",
       "      <td>NaN</td>\n",
       "    </tr>\n",
       "    <tr>\n",
       "      <th>35</th>\n",
       "      <td>35000</td>\n",
       "      <td>Среднее профессиональное</td>\n",
       "      <td>консультант по банковским продуктам</td>\n",
       "      <td>банковское  дело</td>\n",
       "      <td>Женский</td>\n",
       "      <td>2021-11-12</td>\n",
       "      <td>NaN</td>\n",
       "      <td>NaN</td>\n",
       "    </tr>\n",
       "    <tr>\n",
       "      <th>...</th>\n",
       "      <td>...</td>\n",
       "      <td>...</td>\n",
       "      <td>...</td>\n",
       "      <td>...</td>\n",
       "      <td>...</td>\n",
       "      <td>...</td>\n",
       "      <td>...</td>\n",
       "      <td>...</td>\n",
       "    </tr>\n",
       "    <tr>\n",
       "      <th>32633</th>\n",
       "      <td>30000</td>\n",
       "      <td>Среднее профессиональное</td>\n",
       "      <td>Упаковщица</td>\n",
       "      <td>Швея первого разряда</td>\n",
       "      <td>Женский</td>\n",
       "      <td>2021-03-31</td>\n",
       "      <td>NaN</td>\n",
       "      <td>NaN</td>\n",
       "    </tr>\n",
       "    <tr>\n",
       "      <th>32634</th>\n",
       "      <td>20000</td>\n",
       "      <td>Среднее профессиональное</td>\n",
       "      <td>Бухгалтер</td>\n",
       "      <td>NaN</td>\n",
       "      <td>Женский</td>\n",
       "      <td>2021-09-07</td>\n",
       "      <td>NaN</td>\n",
       "      <td>NaN</td>\n",
       "    </tr>\n",
       "    <tr>\n",
       "      <th>32636</th>\n",
       "      <td>18000</td>\n",
       "      <td>Среднее профессиональное</td>\n",
       "      <td>NaN</td>\n",
       "      <td>Учитель начальных классов</td>\n",
       "      <td>Женский</td>\n",
       "      <td>2021-04-11</td>\n",
       "      <td>NaN</td>\n",
       "      <td>NaN</td>\n",
       "    </tr>\n",
       "    <tr>\n",
       "      <th>32644</th>\n",
       "      <td>20000</td>\n",
       "      <td>Среднее профессиональное</td>\n",
       "      <td>NaN</td>\n",
       "      <td>Фармацевт</td>\n",
       "      <td>Женский</td>\n",
       "      <td>2021-08-26</td>\n",
       "      <td>&lt;p&gt;Исполнительность, аккуратность, пунктуально...</td>\n",
       "      <td>NaN</td>\n",
       "    </tr>\n",
       "    <tr>\n",
       "      <th>32665</th>\n",
       "      <td>20000</td>\n",
       "      <td>Среднее профессиональное</td>\n",
       "      <td>Менеджер по персоналу</td>\n",
       "      <td>NaN</td>\n",
       "      <td>Женский</td>\n",
       "      <td>2021-10-12</td>\n",
       "      <td>&lt;p&gt;Отвественность&lt;/p&gt;&lt;p&gt;Исполнительность&lt;/p&gt;&lt;p...</td>\n",
       "      <td>NaN</td>\n",
       "    </tr>\n",
       "  </tbody>\n",
       "</table>\n",
       "<p>4357 rows × 8 columns</p>\n",
       "</div>"
      ],
      "text/plain": [
       "       salary             educationType                             jobTitle  \\\n",
       "2       15000  Среднее профессиональное                                 ....   \n",
       "13      20000  Среднее профессиональное                            Медсестра   \n",
       "15      35000  Среднее профессиональное                 Администратор кассир   \n",
       "30      40000  Среднее профессиональное            Билетный мобильный кассир   \n",
       "35      35000  Среднее профессиональное  консультант по банковским продуктам   \n",
       "...       ...                       ...                                  ...   \n",
       "32633   30000  Среднее профессиональное                           Упаковщица   \n",
       "32634   20000  Среднее профессиональное                            Бухгалтер   \n",
       "32636   18000  Среднее профессиональное                                  NaN   \n",
       "32644   20000  Среднее профессиональное                                  NaN   \n",
       "32665   20000  Среднее профессиональное                Менеджер по персоналу   \n",
       "\n",
       "                                        qualification   gender  dateModify  \\\n",
       "2                                                 NaN  Женский  2021-06-01   \n",
       "13                                           Фельдшер  Женский  2021-04-01   \n",
       "15                                                NaN  Женский  2021-06-17   \n",
       "30     оператор швейного оборудования, швея 2 разряда  Женский  2021-05-18   \n",
       "35                                   банковское  дело  Женский  2021-11-12   \n",
       "...                                               ...      ...         ...   \n",
       "32633                            Швея первого разряда  Женский  2021-03-31   \n",
       "32634                                             NaN  Женский  2021-09-07   \n",
       "32636                       Учитель начальных классов  Женский  2021-04-11   \n",
       "32644                                       Фармацевт  Женский  2021-08-26   \n",
       "32665                                             NaN  Женский  2021-10-12   \n",
       "\n",
       "                                                  skills  \\\n",
       "2                                                    NaN   \n",
       "13                       <p>Ответственность в работе</p>   \n",
       "15                                                   NaN   \n",
       "30     <p>Ответственная , комунникабельная , готовая ...   \n",
       "35                                                   NaN   \n",
       "...                                                  ...   \n",
       "32633                                                NaN   \n",
       "32634                                                NaN   \n",
       "32636                                                NaN   \n",
       "32644  <p>Исполнительность, аккуратность, пунктуально...   \n",
       "32665  <p>Отвественность</p><p>Исполнительность</p><p...   \n",
       "\n",
       "                                               otherInfo  \n",
       "2                                                    NaN  \n",
       "13     <p>Провожу время в семье, люблю велоспорт, при...  \n",
       "15                                                   NaN  \n",
       "30                                                   NaN  \n",
       "35                                                   NaN  \n",
       "...                                                  ...  \n",
       "32633                                                NaN  \n",
       "32634                                                NaN  \n",
       "32636                                                NaN  \n",
       "32644                                                NaN  \n",
       "32665                                                NaN  \n",
       "\n",
       "[4357 rows x 8 columns]"
      ]
     },
     "execution_count": 218,
     "metadata": {},
     "output_type": "execute_result"
    }
   ],
   "source": [
    "female_average_pr = data.query('gender == \"Женский\" and educationType == \"Среднее профессиональное\"')\n",
    "female_average_pr"
   ]
  },
  {
   "cell_type": "markdown",
   "id": "6f7f7b05",
   "metadata": {},
   "source": [
    "### Распределение по заработной плате у женщин с среднее профессиональным образованием"
   ]
  },
  {
   "cell_type": "code",
   "execution_count": 219,
   "id": "359987ae",
   "metadata": {},
   "outputs": [
    {
     "data": {
      "image/png": "[encoded data removed]",
      "text/plain": [
       "<Figure size 720x360 with 1 Axes>"
      ]
     },
     "metadata": {
      "needs_background": "light"
     },
     "output_type": "display_data"
    }
   ],
   "source": [
    "plt.figure(figsize=(10, 5))  \n",
    "plt.title('Распределение по заработной плате у женщин с среднее профессиональным образованием') \n",
    "plt.xlabel('Зарплата женщин') \n",
    "plt.ylabel('Количество женщин') \n",
    "plt.grid() \n",
    "\n",
    "plt.hist(female_average_pr['salary'], \n",
    "         color = 'b',\n",
    "         bins=25) \n",
    "plt.show()"
   ]
  },
  {
   "cell_type": "markdown",
   "id": "82419fc8",
   "metadata": {},
   "source": [
    "# 8. Очистить и визуализировать данные по профессии инженер и должности менеджер."
   ]
  },
  {
   "cell_type": "markdown",
   "id": "dfc8eadd",
   "metadata": {},
   "source": [
    "Очистим столбцы jobTitle и qualification от NaN значений, путем удаление строк."
   ]
  },
  {
   "cell_type": "code",
   "execution_count": 220,
   "id": "a2b391b5",
   "metadata": {},
   "outputs": [
    {
     "name": "stdout",
     "output_type": "stream",
     "text": [
      "<class 'pandas.core.frame.DataFrame'>\n",
      "RangeIndex: 32683 entries, 0 to 32682\n",
      "Data columns (total 8 columns):\n",
      " #   Column         Non-Null Count  Dtype \n",
      "---  ------         --------------  ----- \n",
      " 0   salary         32683 non-null  int64 \n",
      " 1   educationType  24750 non-null  object\n",
      " 2   jobTitle       20259 non-null  object\n",
      " 3   qualification  12176 non-null  object\n",
      " 4   gender         31296 non-null  object\n",
      " 5   dateModify     32682 non-null  object\n",
      " 6   skills         8972 non-null   object\n",
      " 7   otherInfo      2316 non-null   object\n",
      "dtypes: int64(1), object(7)\n",
      "memory usage: 2.0+ MB\n"
     ]
    }
   ],
   "source": [
    "data.info()"
   ]
  },
  {
   "cell_type": "code",
   "execution_count": 221,
   "id": "5e6b8074",
   "metadata": {},
   "outputs": [
    {
     "data": {
      "text/plain": [
       "(32683, 8)"
      ]
     },
     "execution_count": 221,
     "metadata": {},
     "output_type": "execute_result"
    }
   ],
   "source": [
    "data.shape"
   ]
  },
  {
   "cell_type": "code",
   "execution_count": 222,
   "id": "c4bd86ab",
   "metadata": {},
   "outputs": [],
   "source": [
    "data.dropna(subset=[\"jobTitle\", \"qualification\"], inplace=True)\n"
   ]
  },
  {
   "cell_type": "code",
   "execution_count": 223,
   "id": "4719600b",
   "metadata": {},
   "outputs": [
    {
     "data": {
      "text/plain": [
       "(10130, 8)"
      ]
     },
     "execution_count": 223,
     "metadata": {},
     "output_type": "execute_result"
    }
   ],
   "source": [
    "data.shape"
   ]
  },
  {
   "cell_type": "markdown",
   "id": "eb4e4314",
   "metadata": {},
   "source": [
    "В итоге в осталось 10130 значений"
   ]
  },
  {
   "cell_type": "markdown",
   "id": "2bf133f8",
   "metadata": {},
   "source": [
    "Далее найдем все случаи в которых значения дублируются и удалим их"
   ]
  },
  {
   "cell_type": "code",
   "execution_count": 224,
   "id": "c47490f4",
   "metadata": {},
   "outputs": [],
   "source": [
    "df = data.drop_duplicates([\"jobTitle\", \"qualification\"],keep='last')"
   ]
  },
  {
   "cell_type": "code",
   "execution_count": 225,
   "id": "2258fbe4",
   "metadata": {},
   "outputs": [
    {
     "data": {
      "text/plain": [
       "(9072, 8)"
      ]
     },
     "execution_count": 225,
     "metadata": {},
     "output_type": "execute_result"
    }
   ],
   "source": [
    "df.shape"
   ]
  },
  {
   "cell_type": "markdown",
   "id": "113000ec",
   "metadata": {},
   "source": [
    "Мы очистили датафрейм от полных дубликатов по двум столбцам\n",
    "Теперь найдем дубликаты по нескольким словам"
   ]
  },
  {
   "cell_type": "code",
   "execution_count": 226,
   "id": "7e3e3268",
   "metadata": {},
   "outputs": [],
   "source": [
    "def match_words(col1, col2):\n",
    "    list1 = col1.split()\n",
    "    for word in list1:\n",
    "        if word in col2:\n",
    "            return True\n",
    "    return False"
   ]
  },
  {
   "cell_type": "code",
   "execution_count": 227,
   "id": "07fbfebb",
   "metadata": {},
   "outputs": [
    {
     "data": {
      "text/plain": [
       "7280"
      ]
     },
     "execution_count": 227,
     "metadata": {},
     "output_type": "execute_result"
    }
   ],
   "source": [
    "\n",
    "count = 0\n",
    "for (col1, col2) in zip(df[\"jobTitle\"], df[\"qualification\"]):\n",
    "    if match(col1, col2) or match_words(col2, col1):\n",
    "        count += 1\n",
    "\n",
    "df.shape[0] - count"
   ]
  },
  {
   "cell_type": "markdown",
   "id": "bfb4037d",
   "metadata": {},
   "source": [
    "У 7280 человек профессия и должность не совпадают"
   ]
  },
  {
   "cell_type": "markdown",
   "id": "d1e18adf",
   "metadata": {},
   "source": [
    "# Топ 5 профессий и их графики"
   ]
  },
  {
   "cell_type": "markdown",
   "id": "d252575b",
   "metadata": {},
   "source": [
    "### менеджеры"
   ]
  },
  {
   "cell_type": "code",
   "execution_count": 228,
   "id": "e32593d5",
   "metadata": {},
   "outputs": [
    {
     "data": {
      "text/plain": [
       "Экономист    24\n",
       "Менеджер     18\n",
       "экономист    17\n",
       "бакалавр     16\n",
       "Бакалавр     14\n",
       "Name: qualification, dtype: int64"
      ]
     },
     "execution_count": 228,
     "metadata": {},
     "output_type": "execute_result"
    }
   ],
   "source": [
    "work_managers = df[df[\"jobTitle\"].str.contains(\"менедж\")]\n",
    "work_managers['qualification'].value_counts().head(5)"
   ]
  },
  {
   "cell_type": "markdown",
   "id": "05c2b864",
   "metadata": {},
   "source": [
    "### инженеры"
   ]
  },
  {
   "cell_type": "code",
   "execution_count": 229,
   "id": "b8c8fa9f",
   "metadata": {},
   "outputs": [
    {
     "data": {
      "text/plain": [
       "Директор           7\n",
       "инженер            6\n",
       "Главный инженер    6\n",
       "Инженер            6\n",
       "директор           4\n",
       "Name: jobTitle, dtype: int64"
      ]
     },
     "execution_count": 229,
     "metadata": {},
     "output_type": "execute_result"
    }
   ],
   "source": [
    "work_engineers = df[df[\"qualification\"].str.contains(\"инженер\")]\n",
    "work_engineers['jobTitle'].value_counts().head(5)"
   ]
  },
  {
   "cell_type": "code",
   "execution_count": 230,
   "id": "18b2f09c",
   "metadata": {},
   "outputs": [],
   "source": [
    "managers_to_list = work_managers['qualification'].value_counts().head(5)\n",
    "engineers_to_list = work_engineers['jobTitle'].value_counts().head(5)"
   ]
  },
  {
   "cell_type": "markdown",
   "id": "ff0b13b9",
   "metadata": {},
   "source": [
    "### Топ 5 для менеджеров"
   ]
  },
  {
   "cell_type": "code",
   "execution_count": 231,
   "id": "f0fd1ac1",
   "metadata": {},
   "outputs": [
    {
     "data": {
      "image/png": "[encoded data removed]",
      "text/plain": [
       "<Figure size 1080x288 with 1 Axes>"
      ]
     },
     "metadata": {
      "needs_background": "light"
     },
     "output_type": "display_data"
    }
   ],
   "source": [
    "input_names = managers_to_list.index.tolist()\n",
    "input_values = managers_to_list.tolist()\n",
    "\n",
    "fig = plt.figure()\n",
    "fig.set_figwidth(15)\n",
    "plt.bar(input_names, input_values)\n",
    "plt.title('ТОП-5 образований, после которых становятся менеджерами') \n",
    "plt.xlabel(\"Должность\") \n",
    "plt.ylabel('Количество') \n",
    "\n",
    "plt.show()\n",
    "\n"
   ]
  },
  {
   "cell_type": "markdown",
   "id": "a5ecbee3",
   "metadata": {},
   "source": [
    "### Топ 5 для инженеров"
   ]
  },
  {
   "cell_type": "code",
   "execution_count": 232,
   "id": "8fdf2e49",
   "metadata": {},
   "outputs": [
    {
     "data": {
      "image/png": "[encoded data removed]",
      "text/plain": [
       "<Figure size 1080x288 with 1 Axes>"
      ]
     },
     "metadata": {
      "needs_background": "light"
     },
     "output_type": "display_data"
    }
   ],
   "source": [
    "input_names = engineers_to_list.index.tolist()\n",
    "input_values = engineers_to_list.tolist()\n",
    "\n",
    "fig = plt.figure()\n",
    "fig.set_figwidth(15)\n",
    "plt.bar(input_names, input_values, color = 'green')\n",
    "plt.title('ТОП-5 образований, после которых становятся инженерами') \n",
    "plt.xlabel('Должность') \n",
    "plt.ylabel('Количество') \n",
    "\n",
    "plt.show()"
   ]
  },
  {
   "cell_type": "code",
   "execution_count": null,
   "id": "76cce083",
   "metadata": {},
   "outputs": [],
   "source": []
  }
 ],
 "metadata": {
  "kernelspec": {
   "display_name": "Python 3",
   "language": "python",
   "name": "python3"
  },
  "language_info": {
   "codemirror_mode": {
    "name": "ipython",
    "version": 3
   },
   "file_extension": ".py",
   "mimetype": "text/x-python",
   "name": "python",
   "nbconvert_exporter": "python",
   "pygments_lexer": "ipython3",
   "version": "3.8.8"
  }
 },
 "nbformat": 4,
 "nbformat_minor": 5
}
