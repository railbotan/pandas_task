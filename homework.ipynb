{
 "cells": [
  {
   "cell_type": "code",
   "execution_count": 8,
   "metadata": {
    "pycharm": {
     "is_executing": true,
     "name": "#%%\n"
    }
   },
   "outputs": [],
   "source": [
    "import pandas as pd\n",
    "works = pd.read_csv('works.csv')"
   ]
  },
  {
   "cell_type": "code",
   "execution_count": 9,
   "metadata": {
    "pycharm": {
     "is_executing": true,
     "name": "#%% подготовка данных\n"
    }
   },
   "outputs": [],
   "source": [
    "worksnew = works[works['jobTitle'].notna()]\n",
    "works = worksnew[worksnew['qualification'].notna()]"
   ]
  },
  {
   "cell_type": "code",
   "execution_count": 11,
   "metadata": {
    "pycharm": {
     "is_executing": true,
     "name": "#%% сравнивает входит ли одно слово в другое\n"
    }
   },
   "outputs": [],
   "source": [
    "def compare(first_param, second_param):\n",
    "    for i in first_param.lower().replace('-', ' ').split():\n",
    "        if i in second_param.lower():\n",
    "            return True\n",
    "    return False"
   ]
  },
  {
   "cell_type": "code",
   "execution_count": 12,
   "metadata": {
    "pycharm": {
     "is_executing": true,
     "name": "#%% У какого количества людей профессия и должность не совпадают?\n"
    }
   },
   "outputs": [
    {
     "data": {
      "text/plain": [
       "7714"
      ]
     },
     "execution_count": 12,
     "metadata": {},
     "output_type": "execute_result"
    }
   ],
   "source": [
    "res = 0\n",
    "for (job, qualification) in zip(works[\"jobTitle\"], works[\"qualification\"]):\n",
    "    if not compare(job, qualification) and not compare(qualification, job):\n",
    "        res += 1\n",
    "res"
   ]
  },
  {
   "cell_type": "code",
   "execution_count": 13,
   "metadata": {
    "pycharm": {
     "is_executing": true,
     "name": "#%% Люди с каким образованием становятся менеджерами (топ-5)?\n"
    }
   },
   "outputs": [
    {
     "data": {
      "text/plain": [
       "бакалавр     96\n",
       "экономист    85\n",
       "менеджер     79\n",
       "юрист        41\n",
       "инженер      37\n",
       "Name: qualification, dtype: int64"
      ]
     },
     "execution_count": 13,
     "metadata": {},
     "output_type": "execute_result"
    }
   ],
   "source": [
    "worksjob = works[works[\"jobTitle\"].str.lower().str.contains(\"менеджер\")]\n",
    "worksjob[\"qualification\"].str.lower().value_counts().head(5)"
   ]
  },
  {
   "cell_type": "code",
   "execution_count": 14,
   "metadata": {
    "pycharm": {
     "is_executing": true,
     "name": "#%% Кем работают люди, которые по диплому являются инженерами (топ-5)?\n"
    }
   },
   "outputs": [
    {
     "data": {
      "text/plain": [
       "инженер            25\n",
       "главный инженер    23\n",
       "директор           21\n",
       "менеджер           13\n",
       "водитель           11\n",
       "Name: jobTitle, dtype: int64"
      ]
     },
     "execution_count": 14,
     "metadata": {},
     "output_type": "execute_result"
    }
   ],
   "source": [
    "worksjob = works[works[\"qualification\"].str.lower().str.contains(\"инженер\")]\n",
    "worksjob[\"jobTitle\"].str.lower().value_counts().head(5)\n",
    "\n"
   ]
  }
 ],
 "metadata": {
  "kernelspec": {
   "display_name": "Python 3 (ipykernel)",
   "language": "python",
   "name": "python3"
  },
  "language_info": {
   "codemirror_mode": {
    "name": "ipython",
    "version": 3
   },
   "file_extension": ".py",
   "mimetype": "text/x-python",
   "name": "python",
   "nbconvert_exporter": "python",
   "pygments_lexer": "ipython3",
   "version": "3.9.7"
  }
 },
 "nbformat": 4,
 "nbformat_minor": 1
}