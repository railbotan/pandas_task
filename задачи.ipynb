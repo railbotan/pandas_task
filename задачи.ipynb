{
 "cells": [
  {
   "cell_type": "markdown",
   "id": "ef709cff",
   "metadata": {},
   "source": [
    "# pandas_task"
   ]
  },
  {
   "cell_type": "markdown",
   "id": "39ffc7f0",
   "metadata": {},
   "source": [
    "## Импорт библиотек и просмотр файла"
   ]
  },
  {
   "cell_type": "code",
   "execution_count": 2,
   "id": "6fa94f4c",
   "metadata": {},
   "outputs": [],
   "source": [
    "import pandas as pd\n",
    "import numpy as np\n",
    "import matplotlib.pyplot as plt"
   ]
  },
  {
   "cell_type": "code",
   "execution_count": 3,
   "id": "ddb1ae95",
   "metadata": {},
   "outputs": [
    {
     "data": {
      "text/html": [
       "<div>\n",
       "<style scoped>\n",
       "    .dataframe tbody tr th:only-of-type {\n",
       "        vertical-align: middle;\n",
       "    }\n",
       "\n",
       "    .dataframe tbody tr th {\n",
       "        vertical-align: top;\n",
       "    }\n",
       "\n",
       "    .dataframe thead th {\n",
       "        text-align: right;\n",
       "    }\n",
       "</style>\n",
       "<table border=\"1\" class=\"dataframe\">\n",
       "  <thead>\n",
       "    <tr style=\"text-align: right;\">\n",
       "      <th></th>\n",
       "      <th>salary</th>\n",
       "      <th>educationType</th>\n",
       "      <th>jobTitle</th>\n",
       "      <th>qualification</th>\n",
       "      <th>gender</th>\n",
       "      <th>dateModify</th>\n",
       "      <th>skills</th>\n",
       "      <th>otherInfo</th>\n",
       "    </tr>\n",
       "  </thead>\n",
       "  <tbody>\n",
       "    <tr>\n",
       "      <th>0</th>\n",
       "      <td>60000</td>\n",
       "      <td>Высшее</td>\n",
       "      <td>Специалист пресс-службы</td>\n",
       "      <td>Магистр</td>\n",
       "      <td>Мужской</td>\n",
       "      <td>2021-04-01</td>\n",
       "      <td>&lt;p&gt;Аналитическое&amp;nbsp;мышление,&amp;nbsp;&lt;span cla...</td>\n",
       "      <td>NaN</td>\n",
       "    </tr>\n",
       "    <tr>\n",
       "      <th>1</th>\n",
       "      <td>85000</td>\n",
       "      <td>Высшее</td>\n",
       "      <td>менеджер проектов</td>\n",
       "      <td>NaN</td>\n",
       "      <td>Мужской</td>\n",
       "      <td>2021-04-01</td>\n",
       "      <td>NaN</td>\n",
       "      <td>NaN</td>\n",
       "    </tr>\n",
       "    <tr>\n",
       "      <th>2</th>\n",
       "      <td>15000</td>\n",
       "      <td>Среднее профессиональное</td>\n",
       "      <td>....</td>\n",
       "      <td>NaN</td>\n",
       "      <td>Женский</td>\n",
       "      <td>2021-06-01</td>\n",
       "      <td>NaN</td>\n",
       "      <td>NaN</td>\n",
       "    </tr>\n",
       "    <tr>\n",
       "      <th>3</th>\n",
       "      <td>30000</td>\n",
       "      <td>NaN</td>\n",
       "      <td>NaN</td>\n",
       "      <td>NaN</td>\n",
       "      <td>Женский</td>\n",
       "      <td>2021-04-03</td>\n",
       "      <td>NaN</td>\n",
       "      <td>NaN</td>\n",
       "    </tr>\n",
       "    <tr>\n",
       "      <th>4</th>\n",
       "      <td>45000</td>\n",
       "      <td>NaN</td>\n",
       "      <td>NaN</td>\n",
       "      <td>NaN</td>\n",
       "      <td>Мужской</td>\n",
       "      <td>2021-06-28</td>\n",
       "      <td>NaN</td>\n",
       "      <td>NaN</td>\n",
       "    </tr>\n",
       "  </tbody>\n",
       "</table>\n",
       "</div>"
      ],
      "text/plain": [
       "   salary             educationType                 jobTitle qualification  \\\n",
       "0   60000                    Высшее  Специалист пресс-службы       Магистр   \n",
       "1   85000                    Высшее        менеджер проектов           NaN   \n",
       "2   15000  Среднее профессиональное                     ....           NaN   \n",
       "3   30000                       NaN                      NaN           NaN   \n",
       "4   45000                       NaN                      NaN           NaN   \n",
       "\n",
       "    gender  dateModify                                             skills  \\\n",
       "0  Мужской  2021-04-01  <p>Аналитическое&nbsp;мышление,&nbsp;<span cla...   \n",
       "1  Мужской  2021-04-01                                                NaN   \n",
       "2  Женский  2021-06-01                                                NaN   \n",
       "3  Женский  2021-04-03                                                NaN   \n",
       "4  Мужской  2021-06-28                                                NaN   \n",
       "\n",
       "  otherInfo  \n",
       "0       NaN  \n",
       "1       NaN  \n",
       "2       NaN  \n",
       "3       NaN  \n",
       "4       NaN  "
      ]
     },
     "execution_count": 3,
     "metadata": {},
     "output_type": "execute_result"
    }
   ],
   "source": [
    "works = pd.read_csv('works.csv')\n",
    "works.head()"
   ]
  },
  {
   "cell_type": "code",
   "execution_count": 4,
   "id": "57a8f940",
   "metadata": {},
   "outputs": [
    {
     "data": {
      "text/html": [
       "<div>\n",
       "<style scoped>\n",
       "    .dataframe tbody tr th:only-of-type {\n",
       "        vertical-align: middle;\n",
       "    }\n",
       "\n",
       "    .dataframe tbody tr th {\n",
       "        vertical-align: top;\n",
       "    }\n",
       "\n",
       "    .dataframe thead th {\n",
       "        text-align: right;\n",
       "    }\n",
       "</style>\n",
       "<table border=\"1\" class=\"dataframe\">\n",
       "  <thead>\n",
       "    <tr style=\"text-align: right;\">\n",
       "      <th></th>\n",
       "      <th>salary</th>\n",
       "      <th>educationType</th>\n",
       "      <th>jobTitle</th>\n",
       "      <th>qualification</th>\n",
       "      <th>gender</th>\n",
       "      <th>dateModify</th>\n",
       "      <th>skills</th>\n",
       "      <th>otherInfo</th>\n",
       "    </tr>\n",
       "  </thead>\n",
       "  <tbody>\n",
       "    <tr>\n",
       "      <th>32678</th>\n",
       "      <td>15000</td>\n",
       "      <td>NaN</td>\n",
       "      <td>NaN</td>\n",
       "      <td>NaN</td>\n",
       "      <td>Женский</td>\n",
       "      <td>2021-06-23</td>\n",
       "      <td>NaN</td>\n",
       "      <td>NaN</td>\n",
       "    </tr>\n",
       "    <tr>\n",
       "      <th>32679</th>\n",
       "      <td>13000</td>\n",
       "      <td>Среднее</td>\n",
       "      <td>уборщица</td>\n",
       "      <td>NaN</td>\n",
       "      <td>Женский</td>\n",
       "      <td>2021-07-29</td>\n",
       "      <td>NaN</td>\n",
       "      <td>NaN</td>\n",
       "    </tr>\n",
       "    <tr>\n",
       "      <th>32680</th>\n",
       "      <td>16000</td>\n",
       "      <td>Среднее профессиональное</td>\n",
       "      <td>кочегар машинист котельной</td>\n",
       "      <td>NaN</td>\n",
       "      <td>Мужской</td>\n",
       "      <td>2021-11-11</td>\n",
       "      <td>NaN</td>\n",
       "      <td>NaN</td>\n",
       "    </tr>\n",
       "    <tr>\n",
       "      <th>32681</th>\n",
       "      <td>35000</td>\n",
       "      <td>Высшее</td>\n",
       "      <td>NaN</td>\n",
       "      <td>NaN</td>\n",
       "      <td>Мужской</td>\n",
       "      <td>2020-04-21</td>\n",
       "      <td>NaN</td>\n",
       "      <td>NaN</td>\n",
       "    </tr>\n",
       "    <tr>\n",
       "      <th>32682</th>\n",
       "      <td>30000</td>\n",
       "      <td>NaN</td>\n",
       "      <td>NaN</td>\n",
       "      <td>NaN</td>\n",
       "      <td>Мужской</td>\n",
       "      <td>2021-06-20</td>\n",
       "      <td>NaN</td>\n",
       "      <td>NaN</td>\n",
       "    </tr>\n",
       "  </tbody>\n",
       "</table>\n",
       "</div>"
      ],
      "text/plain": [
       "       salary             educationType                    jobTitle  \\\n",
       "32678   15000                       NaN                         NaN   \n",
       "32679   13000                   Среднее                    уборщица   \n",
       "32680   16000  Среднее профессиональное  кочегар машинист котельной   \n",
       "32681   35000                    Высшее                         NaN   \n",
       "32682   30000                       NaN                         NaN   \n",
       "\n",
       "      qualification   gender  dateModify skills otherInfo  \n",
       "32678           NaN  Женский  2021-06-23    NaN       NaN  \n",
       "32679           NaN  Женский  2021-07-29    NaN       NaN  \n",
       "32680           NaN  Мужской  2021-11-11    NaN       NaN  \n",
       "32681           NaN  Мужской  2020-04-21    NaN       NaN  \n",
       "32682           NaN  Мужской  2021-06-20    NaN       NaN  "
      ]
     },
     "execution_count": 4,
     "metadata": {},
     "output_type": "execute_result"
    }
   ],
   "source": [
    "works.tail()"
   ]
  },
  {
   "cell_type": "code",
   "execution_count": 5,
   "id": "6c34cdb0",
   "metadata": {
    "scrolled": true
   },
   "outputs": [
    {
     "name": "stdout",
     "output_type": "stream",
     "text": [
      "<class 'pandas.core.frame.DataFrame'>\n",
      "RangeIndex: 32683 entries, 0 to 32682\n",
      "Data columns (total 8 columns):\n",
      " #   Column         Non-Null Count  Dtype \n",
      "---  ------         --------------  ----- \n",
      " 0   salary         32683 non-null  int64 \n",
      " 1   educationType  24750 non-null  object\n",
      " 2   jobTitle       20259 non-null  object\n",
      " 3   qualification  12176 non-null  object\n",
      " 4   gender         31296 non-null  object\n",
      " 5   dateModify     32682 non-null  object\n",
      " 6   skills         8972 non-null   object\n",
      " 7   otherInfo      2316 non-null   object\n",
      "dtypes: int64(1), object(7)\n",
      "memory usage: 2.0+ MB\n"
     ]
    }
   ],
   "source": [
    "works.info()"
   ]
  },
  {
   "cell_type": "code",
   "execution_count": 6,
   "id": "82afc0e2",
   "metadata": {},
   "outputs": [
    {
     "data": {
      "text/html": [
       "<div>\n",
       "<style scoped>\n",
       "    .dataframe tbody tr th:only-of-type {\n",
       "        vertical-align: middle;\n",
       "    }\n",
       "\n",
       "    .dataframe tbody tr th {\n",
       "        vertical-align: top;\n",
       "    }\n",
       "\n",
       "    .dataframe thead th {\n",
       "        text-align: right;\n",
       "    }\n",
       "</style>\n",
       "<table border=\"1\" class=\"dataframe\">\n",
       "  <thead>\n",
       "    <tr style=\"text-align: right;\">\n",
       "      <th></th>\n",
       "      <th>salary</th>\n",
       "    </tr>\n",
       "  </thead>\n",
       "  <tbody>\n",
       "    <tr>\n",
       "      <th>count</th>\n",
       "      <td>32683.000000</td>\n",
       "    </tr>\n",
       "    <tr>\n",
       "      <th>mean</th>\n",
       "      <td>32150.952177</td>\n",
       "    </tr>\n",
       "    <tr>\n",
       "      <th>std</th>\n",
       "      <td>26200.349241</td>\n",
       "    </tr>\n",
       "    <tr>\n",
       "      <th>min</th>\n",
       "      <td>0.000000</td>\n",
       "    </tr>\n",
       "    <tr>\n",
       "      <th>25%</th>\n",
       "      <td>20000.000000</td>\n",
       "    </tr>\n",
       "    <tr>\n",
       "      <th>50%</th>\n",
       "      <td>25000.000000</td>\n",
       "    </tr>\n",
       "    <tr>\n",
       "      <th>75%</th>\n",
       "      <td>40000.000000</td>\n",
       "    </tr>\n",
       "    <tr>\n",
       "      <th>max</th>\n",
       "      <td>1000000.000000</td>\n",
       "    </tr>\n",
       "  </tbody>\n",
       "</table>\n",
       "</div>"
      ],
      "text/plain": [
       "               salary\n",
       "count    32683.000000\n",
       "mean     32150.952177\n",
       "std      26200.349241\n",
       "min          0.000000\n",
       "25%      20000.000000\n",
       "50%      25000.000000\n",
       "75%      40000.000000\n",
       "max    1000000.000000"
      ]
     },
     "execution_count": 6,
     "metadata": {},
     "output_type": "execute_result"
    }
   ],
   "source": [
    "works.describe()"
   ]
  },
  {
   "cell_type": "code",
   "execution_count": 7,
   "id": "130f797a",
   "metadata": {},
   "outputs": [
    {
     "data": {
      "text/plain": [
       "pandas.core.series.Series"
      ]
     },
     "execution_count": 7,
     "metadata": {},
     "output_type": "execute_result"
    }
   ],
   "source": [
    "type(works['gender'])"
   ]
  },
  {
   "cell_type": "code",
   "execution_count": 8,
   "id": "fbb4fcab",
   "metadata": {},
   "outputs": [
    {
     "data": {
      "text/plain": [
       "count       31296\n",
       "unique          2\n",
       "top       Женский\n",
       "freq        17910\n",
       "Name: gender, dtype: object"
      ]
     },
     "execution_count": 8,
     "metadata": {},
     "output_type": "execute_result"
    }
   ],
   "source": [
    "works['gender'].describe()"
   ]
  },
  {
   "cell_type": "markdown",
   "id": "cff6953e",
   "metadata": {},
   "source": [
    "### 1.Узнать общее количество записей в датасете"
   ]
  },
  {
   "cell_type": "code",
   "execution_count": 9,
   "id": "46339478",
   "metadata": {},
   "outputs": [
    {
     "data": {
      "text/plain": [
       "(32683, 8)"
      ]
     },
     "execution_count": 9,
     "metadata": {},
     "output_type": "execute_result"
    }
   ],
   "source": [
    "works.shape"
   ]
  },
  {
   "cell_type": "code",
   "execution_count": 10,
   "id": "c0c0e8aa",
   "metadata": {},
   "outputs": [
    {
     "data": {
      "text/plain": [
       "32683"
      ]
     },
     "execution_count": 10,
     "metadata": {},
     "output_type": "execute_result"
    }
   ],
   "source": [
    "works['salary'].count()"
   ]
  },
  {
   "cell_type": "code",
   "execution_count": 11,
   "id": "a4fa3566",
   "metadata": {},
   "outputs": [
    {
     "data": {
      "text/plain": [
       "32683"
      ]
     },
     "execution_count": 11,
     "metadata": {},
     "output_type": "execute_result"
    }
   ],
   "source": [
    "works.shape[0]"
   ]
  },
  {
   "cell_type": "code",
   "execution_count": 12,
   "id": "b6f7cb01",
   "metadata": {},
   "outputs": [
    {
     "data": {
      "text/plain": [
       "32683"
      ]
     },
     "execution_count": 12,
     "metadata": {},
     "output_type": "execute_result"
    }
   ],
   "source": [
    "len(works.index)"
   ]
  },
  {
   "cell_type": "markdown",
   "id": "3c248aaa",
   "metadata": {},
   "source": [
    "### 2.Узнать количество мужчин и женщин в датасете"
   ]
  },
  {
   "cell_type": "code",
   "execution_count": 13,
   "id": "54bbb966",
   "metadata": {},
   "outputs": [
    {
     "data": {
      "text/plain": [
       "13386"
      ]
     },
     "execution_count": 13,
     "metadata": {},
     "output_type": "execute_result"
    }
   ],
   "source": [
    "works[works['gender'] == 'Мужской'].shape[0]"
   ]
  },
  {
   "cell_type": "code",
   "execution_count": 14,
   "id": "1014a57e",
   "metadata": {},
   "outputs": [
    {
     "data": {
      "text/plain": [
       "17910"
      ]
     },
     "execution_count": 14,
     "metadata": {},
     "output_type": "execute_result"
    }
   ],
   "source": [
    "(works['gender'] == 'Женский').values.sum()"
   ]
  },
  {
   "cell_type": "code",
   "execution_count": 15,
   "id": "e38d919a",
   "metadata": {},
   "outputs": [
    {
     "data": {
      "text/plain": [
       "Женский    17910\n",
       "Мужской    13386\n",
       "Name: gender, dtype: int64"
      ]
     },
     "execution_count": 15,
     "metadata": {},
     "output_type": "execute_result"
    }
   ],
   "source": [
    "works['gender'].value_counts()"
   ]
  },
  {
   "cell_type": "markdown",
   "id": "b01f127d",
   "metadata": {},
   "source": [
    "### 3.Узнать сколько значений в столбце skills не NAN"
   ]
  },
  {
   "cell_type": "code",
   "execution_count": 16,
   "id": "7e692ebe",
   "metadata": {},
   "outputs": [
    {
     "data": {
      "text/plain": [
       "8972"
      ]
     },
     "execution_count": 16,
     "metadata": {},
     "output_type": "execute_result"
    }
   ],
   "source": [
    "works['skills'].notna().values.sum()"
   ]
  },
  {
   "cell_type": "code",
   "execution_count": 17,
   "id": "d3278ddf",
   "metadata": {},
   "outputs": [
    {
     "data": {
      "text/plain": [
       "8972"
      ]
     },
     "execution_count": 17,
     "metadata": {},
     "output_type": "execute_result"
    }
   ],
   "source": [
    "works['skills'].notnull().values.sum()"
   ]
  },
  {
   "cell_type": "code",
   "execution_count": 18,
   "id": "6218c2e3",
   "metadata": {},
   "outputs": [
    {
     "name": "stdout",
     "output_type": "stream",
     "text": [
      "<class 'pandas.core.frame.DataFrame'>\n",
      "RangeIndex: 32683 entries, 0 to 32682\n",
      "Data columns (total 8 columns):\n",
      " #   Column         Non-Null Count  Dtype \n",
      "---  ------         --------------  ----- \n",
      " 0   salary         32683 non-null  int64 \n",
      " 1   educationType  24750 non-null  object\n",
      " 2   jobTitle       20259 non-null  object\n",
      " 3   qualification  12176 non-null  object\n",
      " 4   gender         31296 non-null  object\n",
      " 5   dateModify     32682 non-null  object\n",
      " 6   skills         8972 non-null   object\n",
      " 7   otherInfo      2316 non-null   object\n",
      "dtypes: int64(1), object(7)\n",
      "memory usage: 2.0+ MB\n"
     ]
    }
   ],
   "source": [
    "works.info()"
   ]
  },
  {
   "cell_type": "code",
   "execution_count": 19,
   "id": "4eda4034",
   "metadata": {},
   "outputs": [
    {
     "data": {
      "text/plain": [
       "8972"
      ]
     },
     "execution_count": 19,
     "metadata": {},
     "output_type": "execute_result"
    }
   ],
   "source": [
    "works['skills'].dropna().shape[0]"
   ]
  },
  {
   "cell_type": "markdown",
   "id": "7f5b06ae",
   "metadata": {},
   "source": [
    "### 4.Получить все заполненные скиллы"
   ]
  },
  {
   "cell_type": "code",
   "execution_count": 20,
   "id": "259c62c7",
   "metadata": {},
   "outputs": [
    {
     "data": {
      "text/plain": [
       "0        <p>Аналитическое&nbsp;мышление,&nbsp;<span cla...\n",
       "5        Ответственная,пунктуальная,дисциплинированная ...\n",
       "10                         <p>Коммуникабельность&nbsp;</p>\n",
       "13                         <p>Ответственность в работе</p>\n",
       "21       <p>Усидчивость, умение удерживать в памяти нуж...\n",
       "                               ...                        \n",
       "32665    <p>Отвественность</p><p>Исполнительность</p><p...\n",
       "32668    <p>Высокая работоспособность, нацеленность на ...\n",
       "32672                                <p>исполнительный</p>\n",
       "32674    <p>Нацелен на результат. Считаю себя командным...\n",
       "32675                                 <p>трудоспособен</p>\n",
       "Name: skills, Length: 8972, dtype: object"
      ]
     },
     "execution_count": 20,
     "metadata": {},
     "output_type": "execute_result"
    }
   ],
   "source": [
    "works[works['skills'].notna()]['skills']"
   ]
  },
  {
   "cell_type": "code",
   "execution_count": 21,
   "id": "1ce949ee",
   "metadata": {},
   "outputs": [
    {
     "data": {
      "text/plain": [
       "0        <p>Аналитическое&nbsp;мышление,&nbsp;<span cla...\n",
       "5        Ответственная,пунктуальная,дисциплинированная ...\n",
       "10                         <p>Коммуникабельность&nbsp;</p>\n",
       "13                         <p>Ответственность в работе</p>\n",
       "21       <p>Усидчивость, умение удерживать в памяти нуж...\n",
       "                               ...                        \n",
       "32665    <p>Отвественность</p><p>Исполнительность</p><p...\n",
       "32668    <p>Высокая работоспособность, нацеленность на ...\n",
       "32672                                <p>исполнительный</p>\n",
       "32674    <p>Нацелен на результат. Считаю себя командным...\n",
       "32675                                 <p>трудоспособен</p>\n",
       "Name: skills, Length: 8972, dtype: object"
      ]
     },
     "execution_count": 21,
     "metadata": {},
     "output_type": "execute_result"
    }
   ],
   "source": [
    "works['skills'].dropna()"
   ]
  },
  {
   "cell_type": "code",
   "execution_count": 22,
   "id": "5befcb30",
   "metadata": {
    "scrolled": true
   },
   "outputs": [
    {
     "data": {
      "text/plain": [
       "0        <p>Аналитическое&nbsp;мышление,&nbsp;<span cla...\n",
       "5        Ответственная,пунктуальная,дисциплинированная ...\n",
       "10                         <p>Коммуникабельность&nbsp;</p>\n",
       "13                         <p>Ответственность в работе</p>\n",
       "21       <p>Усидчивость, умение удерживать в памяти нуж...\n",
       "                               ...                        \n",
       "32665    <p>Отвественность</p><p>Исполнительность</p><p...\n",
       "32668    <p>Высокая работоспособность, нацеленность на ...\n",
       "32672                                <p>исполнительный</p>\n",
       "32674    <p>Нацелен на результат. Считаю себя командным...\n",
       "32675                                 <p>трудоспособен</p>\n",
       "Name: skills, Length: 8972, dtype: object"
      ]
     },
     "execution_count": 22,
     "metadata": {},
     "output_type": "execute_result"
    }
   ],
   "source": [
    "works.query(\"skills == skills\")[\"skills\"]"
   ]
  },
  {
   "cell_type": "code",
   "execution_count": 23,
   "id": "57a7d960",
   "metadata": {
    "scrolled": true
   },
   "outputs": [
    {
     "data": {
      "text/html": [
       "<div>\n",
       "<style scoped>\n",
       "    .dataframe tbody tr th:only-of-type {\n",
       "        vertical-align: middle;\n",
       "    }\n",
       "\n",
       "    .dataframe tbody tr th {\n",
       "        vertical-align: top;\n",
       "    }\n",
       "\n",
       "    .dataframe thead th {\n",
       "        text-align: right;\n",
       "    }\n",
       "</style>\n",
       "<table border=\"1\" class=\"dataframe\">\n",
       "  <thead>\n",
       "    <tr style=\"text-align: right;\">\n",
       "      <th></th>\n",
       "      <th>salary</th>\n",
       "      <th>educationType</th>\n",
       "      <th>jobTitle</th>\n",
       "      <th>qualification</th>\n",
       "      <th>gender</th>\n",
       "      <th>dateModify</th>\n",
       "      <th>skills</th>\n",
       "      <th>otherInfo</th>\n",
       "    </tr>\n",
       "  </thead>\n",
       "  <tbody>\n",
       "    <tr>\n",
       "      <th>869</th>\n",
       "      <td>22000</td>\n",
       "      <td>Среднее профессиональное</td>\n",
       "      <td>бухгалтер</td>\n",
       "      <td>NaN</td>\n",
       "      <td>Женский</td>\n",
       "      <td>2021-03-15</td>\n",
       "      <td>&lt;p&gt;ответственность&lt;/p&gt;</td>\n",
       "      <td>NaN</td>\n",
       "    </tr>\n",
       "    <tr>\n",
       "      <th>1124</th>\n",
       "      <td>22000</td>\n",
       "      <td>NaN</td>\n",
       "      <td>NaN</td>\n",
       "      <td>NaN</td>\n",
       "      <td>Женский</td>\n",
       "      <td>2021-09-11</td>\n",
       "      <td>NaN</td>\n",
       "      <td>NaN</td>\n",
       "    </tr>\n",
       "    <tr>\n",
       "      <th>1207</th>\n",
       "      <td>22000</td>\n",
       "      <td>NaN</td>\n",
       "      <td>NaN</td>\n",
       "      <td>NaN</td>\n",
       "      <td>Женский</td>\n",
       "      <td>2021-11-11</td>\n",
       "      <td>NaN</td>\n",
       "      <td>NaN</td>\n",
       "    </tr>\n",
       "    <tr>\n",
       "      <th>1547</th>\n",
       "      <td>22000</td>\n",
       "      <td>Среднее профессиональное</td>\n",
       "      <td>продавец</td>\n",
       "      <td>NaN</td>\n",
       "      <td>Женский</td>\n",
       "      <td>2021-06-26</td>\n",
       "      <td>&lt;p&gt;общительность, умение распологать людей к с...</td>\n",
       "      <td>NaN</td>\n",
       "    </tr>\n",
       "    <tr>\n",
       "      <th>2035</th>\n",
       "      <td>22000</td>\n",
       "      <td>NaN</td>\n",
       "      <td>NaN</td>\n",
       "      <td>NaN</td>\n",
       "      <td>Женский</td>\n",
       "      <td>2021-09-18</td>\n",
       "      <td>NaN</td>\n",
       "      <td>NaN</td>\n",
       "    </tr>\n",
       "    <tr>\n",
       "      <th>...</th>\n",
       "      <td>...</td>\n",
       "      <td>...</td>\n",
       "      <td>...</td>\n",
       "      <td>...</td>\n",
       "      <td>...</td>\n",
       "      <td>...</td>\n",
       "      <td>...</td>\n",
       "      <td>...</td>\n",
       "    </tr>\n",
       "    <tr>\n",
       "      <th>30302</th>\n",
       "      <td>22000</td>\n",
       "      <td>Среднее</td>\n",
       "      <td>Штукатур</td>\n",
       "      <td>NaN</td>\n",
       "      <td>Женский</td>\n",
       "      <td>2021-06-11</td>\n",
       "      <td>&lt;p&gt;Исполнительность.&lt;/p&gt;</td>\n",
       "      <td>NaN</td>\n",
       "    </tr>\n",
       "    <tr>\n",
       "      <th>30630</th>\n",
       "      <td>22000</td>\n",
       "      <td>Среднее</td>\n",
       "      <td>NaN</td>\n",
       "      <td>NaN</td>\n",
       "      <td>Женский</td>\n",
       "      <td>2021-04-27</td>\n",
       "      <td>NaN</td>\n",
       "      <td>NaN</td>\n",
       "    </tr>\n",
       "    <tr>\n",
       "      <th>31206</th>\n",
       "      <td>22000</td>\n",
       "      <td>Среднее профессиональное</td>\n",
       "      <td>Продавец- универсал</td>\n",
       "      <td>Мастер производственного обучения</td>\n",
       "      <td>Женский</td>\n",
       "      <td>2021-11-23</td>\n",
       "      <td>NaN</td>\n",
       "      <td>NaN</td>\n",
       "    </tr>\n",
       "    <tr>\n",
       "      <th>31807</th>\n",
       "      <td>22000</td>\n",
       "      <td>Высшее</td>\n",
       "      <td>Бухгалтер</td>\n",
       "      <td>NaN</td>\n",
       "      <td>Женский</td>\n",
       "      <td>2021-11-10</td>\n",
       "      <td>NaN</td>\n",
       "      <td>Резюме было сгенерировано автоматически на осн...</td>\n",
       "    </tr>\n",
       "    <tr>\n",
       "      <th>32417</th>\n",
       "      <td>22000</td>\n",
       "      <td>Среднее</td>\n",
       "      <td>NaN</td>\n",
       "      <td>NaN</td>\n",
       "      <td>Женский</td>\n",
       "      <td>2021-07-21</td>\n",
       "      <td>NaN</td>\n",
       "      <td>NaN</td>\n",
       "    </tr>\n",
       "  </tbody>\n",
       "</table>\n",
       "<p>85 rows × 8 columns</p>\n",
       "</div>"
      ],
      "text/plain": [
       "       salary             educationType             jobTitle  \\\n",
       "869     22000  Среднее профессиональное            бухгалтер   \n",
       "1124    22000                       NaN                  NaN   \n",
       "1207    22000                       NaN                  NaN   \n",
       "1547    22000  Среднее профессиональное             продавец   \n",
       "2035    22000                       NaN                  NaN   \n",
       "...       ...                       ...                  ...   \n",
       "30302   22000                   Среднее             Штукатур   \n",
       "30630   22000                   Среднее                  NaN   \n",
       "31206   22000  Среднее профессиональное  Продавец- универсал   \n",
       "31807   22000                    Высшее            Бухгалтер   \n",
       "32417   22000                   Среднее                  NaN   \n",
       "\n",
       "                           qualification   gender  dateModify  \\\n",
       "869                                  NaN  Женский  2021-03-15   \n",
       "1124                                 NaN  Женский  2021-09-11   \n",
       "1207                                 NaN  Женский  2021-11-11   \n",
       "1547                                 NaN  Женский  2021-06-26   \n",
       "2035                                 NaN  Женский  2021-09-18   \n",
       "...                                  ...      ...         ...   \n",
       "30302                                NaN  Женский  2021-06-11   \n",
       "30630                                NaN  Женский  2021-04-27   \n",
       "31206  Мастер производственного обучения  Женский  2021-11-23   \n",
       "31807                                NaN  Женский  2021-11-10   \n",
       "32417                                NaN  Женский  2021-07-21   \n",
       "\n",
       "                                                  skills  \\\n",
       "869                               <p>ответственность</p>   \n",
       "1124                                                 NaN   \n",
       "1207                                                 NaN   \n",
       "1547   <p>общительность, умение распологать людей к с...   \n",
       "2035                                                 NaN   \n",
       "...                                                  ...   \n",
       "30302                           <p>Исполнительность.</p>   \n",
       "30630                                                NaN   \n",
       "31206                                                NaN   \n",
       "31807                                                NaN   \n",
       "32417                                                NaN   \n",
       "\n",
       "                                               otherInfo  \n",
       "869                                                  NaN  \n",
       "1124                                                 NaN  \n",
       "1207                                                 NaN  \n",
       "1547                                                 NaN  \n",
       "2035                                                 NaN  \n",
       "...                                                  ...  \n",
       "30302                                                NaN  \n",
       "30630                                                NaN  \n",
       "31206                                                NaN  \n",
       "31807  Резюме было сгенерировано автоматически на осн...  \n",
       "32417                                                NaN  \n",
       "\n",
       "[85 rows x 8 columns]"
      ]
     },
     "execution_count": 23,
     "metadata": {},
     "output_type": "execute_result"
    }
   ],
   "source": [
    "a = 22000\n",
    "b = 'Женский'\n",
    "works.query('salary == @a and gender == @b')"
   ]
  },
  {
   "cell_type": "markdown",
   "id": "b130dbfa",
   "metadata": {},
   "source": [
    "### 5.Вывести зарплату только у тех, у которых в скиллах есть Python (Питон)"
   ]
  },
  {
   "cell_type": "code",
   "execution_count": 26,
   "id": "0b214c52",
   "metadata": {},
   "outputs": [],
   "source": [
    "df = works.skills.dropna().str.lower().str.contains('python|питон')"
   ]
  },
  {
   "cell_type": "code",
   "execution_count": 27,
   "id": "ac058ac1",
   "metadata": {},
   "outputs": [
    {
     "data": {
      "text/plain": [
       "230      35000\n",
       "334      20000\n",
       "2394     35000\n",
       "8096     15000\n",
       "9014     25000\n",
       "9667     90000\n",
       "20930    30000\n",
       "22530    50000\n",
       "28286    23000\n",
       "30430    23000\n",
       "Name: salary, dtype: int64"
      ]
     },
     "execution_count": 27,
     "metadata": {},
     "output_type": "execute_result"
    }
   ],
   "source": [
    "works[works.skills.notna()][df]['salary']"
   ]
  },
  {
   "cell_type": "markdown",
   "id": "7260244d",
   "metadata": {},
   "source": [
    "### 6.Построить перцентили по заработной плате у мужчин и женщин"
   ]
  },
  {
   "cell_type": "code",
   "execution_count": 29,
   "id": "c6482610",
   "metadata": {},
   "outputs": [
    {
     "data": {
      "text/plain": [
       "array([0.1, 0.2, 0.3, 0.4, 0.5, 0.6, 0.7, 0.8, 0.9, 1. ])"
      ]
     },
     "execution_count": 29,
     "metadata": {},
     "output_type": "execute_result"
    }
   ],
   "source": [
    "percentiles = np.linspace(.1, 1, 10)\n",
    "percentiles"
   ]
  },
  {
   "cell_type": "code",
   "execution_count": 30,
   "id": "1ddcce76",
   "metadata": {},
   "outputs": [
    {
     "data": {
      "text/html": [
       "<div>\n",
       "<style scoped>\n",
       "    .dataframe tbody tr th:only-of-type {\n",
       "        vertical-align: middle;\n",
       "    }\n",
       "\n",
       "    .dataframe tbody tr th {\n",
       "        vertical-align: top;\n",
       "    }\n",
       "\n",
       "    .dataframe thead th {\n",
       "        text-align: right;\n",
       "    }\n",
       "</style>\n",
       "<table border=\"1\" class=\"dataframe\">\n",
       "  <thead>\n",
       "    <tr style=\"text-align: right;\">\n",
       "      <th></th>\n",
       "      <th>salary</th>\n",
       "    </tr>\n",
       "  </thead>\n",
       "  <tbody>\n",
       "    <tr>\n",
       "      <th>0.1</th>\n",
       "      <td>15000.0</td>\n",
       "    </tr>\n",
       "    <tr>\n",
       "      <th>0.2</th>\n",
       "      <td>20000.0</td>\n",
       "    </tr>\n",
       "    <tr>\n",
       "      <th>0.3</th>\n",
       "      <td>25000.0</td>\n",
       "    </tr>\n",
       "    <tr>\n",
       "      <th>0.4</th>\n",
       "      <td>30000.0</td>\n",
       "    </tr>\n",
       "    <tr>\n",
       "      <th>0.5</th>\n",
       "      <td>30000.0</td>\n",
       "    </tr>\n",
       "    <tr>\n",
       "      <th>0.6</th>\n",
       "      <td>35000.0</td>\n",
       "    </tr>\n",
       "    <tr>\n",
       "      <th>0.7</th>\n",
       "      <td>40000.0</td>\n",
       "    </tr>\n",
       "    <tr>\n",
       "      <th>0.8</th>\n",
       "      <td>50000.0</td>\n",
       "    </tr>\n",
       "    <tr>\n",
       "      <th>0.9</th>\n",
       "      <td>60000.0</td>\n",
       "    </tr>\n",
       "    <tr>\n",
       "      <th>1.0</th>\n",
       "      <td>1000000.0</td>\n",
       "    </tr>\n",
       "  </tbody>\n",
       "</table>\n",
       "</div>"
      ],
      "text/plain": [
       "        salary\n",
       "0.1    15000.0\n",
       "0.2    20000.0\n",
       "0.3    25000.0\n",
       "0.4    30000.0\n",
       "0.5    30000.0\n",
       "0.6    35000.0\n",
       "0.7    40000.0\n",
       "0.8    50000.0\n",
       "0.9    60000.0\n",
       "1.0  1000000.0"
      ]
     },
     "execution_count": 30,
     "metadata": {},
     "output_type": "execute_result"
    }
   ],
   "source": [
    "men_salary = works.query('gender == \"Мужской\"').quantile(percentiles)\n",
    "men_salary"
   ]
  },
  {
   "cell_type": "code",
   "execution_count": 38,
   "id": "f8443a67",
   "metadata": {
    "scrolled": true
   },
   "outputs": [
    {
     "data": {
      "image/png": "[encoded data removed]",
      "text/plain": [
       "<Figure size 720x360 with 1 Axes>"
      ]
     },
     "metadata": {
      "needs_background": "light"
     },
     "output_type": "display_data"
    }
   ],
   "source": [
    "plt.figure(figsize=(10, 5))\n",
    "plt.title('Перцентили по заработной плате у мужчин') \n",
    "plt.xlabel('Перцентили') \n",
    "plt.ylabel('Зарплата') \n",
    "plt.grid()\n",
    "plt.plot(men_salary)\n",
    "plt.show()"
   ]
  },
  {
   "cell_type": "code",
   "execution_count": 34,
   "id": "30960f85",
   "metadata": {},
   "outputs": [
    {
     "data": {
      "text/html": [
       "<div>\n",
       "<style scoped>\n",
       "    .dataframe tbody tr th:only-of-type {\n",
       "        vertical-align: middle;\n",
       "    }\n",
       "\n",
       "    .dataframe tbody tr th {\n",
       "        vertical-align: top;\n",
       "    }\n",
       "\n",
       "    .dataframe thead th {\n",
       "        text-align: right;\n",
       "    }\n",
       "</style>\n",
       "<table border=\"1\" class=\"dataframe\">\n",
       "  <thead>\n",
       "    <tr style=\"text-align: right;\">\n",
       "      <th></th>\n",
       "      <th>salary</th>\n",
       "    </tr>\n",
       "  </thead>\n",
       "  <tbody>\n",
       "    <tr>\n",
       "      <th>0.1</th>\n",
       "      <td>15000.0</td>\n",
       "    </tr>\n",
       "    <tr>\n",
       "      <th>0.2</th>\n",
       "      <td>18000.0</td>\n",
       "    </tr>\n",
       "    <tr>\n",
       "      <th>0.3</th>\n",
       "      <td>20000.0</td>\n",
       "    </tr>\n",
       "    <tr>\n",
       "      <th>0.4</th>\n",
       "      <td>22000.0</td>\n",
       "    </tr>\n",
       "    <tr>\n",
       "      <th>0.5</th>\n",
       "      <td>25000.0</td>\n",
       "    </tr>\n",
       "    <tr>\n",
       "      <th>0.6</th>\n",
       "      <td>30000.0</td>\n",
       "    </tr>\n",
       "    <tr>\n",
       "      <th>0.7</th>\n",
       "      <td>30000.0</td>\n",
       "    </tr>\n",
       "    <tr>\n",
       "      <th>0.8</th>\n",
       "      <td>35000.0</td>\n",
       "    </tr>\n",
       "    <tr>\n",
       "      <th>0.9</th>\n",
       "      <td>47000.0</td>\n",
       "    </tr>\n",
       "    <tr>\n",
       "      <th>1.0</th>\n",
       "      <td>900000.0</td>\n",
       "    </tr>\n",
       "  </tbody>\n",
       "</table>\n",
       "</div>"
      ],
      "text/plain": [
       "       salary\n",
       "0.1   15000.0\n",
       "0.2   18000.0\n",
       "0.3   20000.0\n",
       "0.4   22000.0\n",
       "0.5   25000.0\n",
       "0.6   30000.0\n",
       "0.7   30000.0\n",
       "0.8   35000.0\n",
       "0.9   47000.0\n",
       "1.0  900000.0"
      ]
     },
     "execution_count": 34,
     "metadata": {},
     "output_type": "execute_result"
    }
   ],
   "source": [
    "wom_salary = works.query('gender == \"Женский\"').quantile(percentiles)\n",
    "wom_salary"
   ]
  },
  {
   "cell_type": "code",
   "execution_count": 35,
   "id": "7c75e01a",
   "metadata": {},
   "outputs": [
    {
     "data": {
      "image/png": "[encoded data removed]",
      "text/plain": [
       "<Figure size 720x360 with 1 Axes>"
      ]
     },
     "metadata": {
      "needs_background": "light"
     },
     "output_type": "display_data"
    }
   ],
   "source": [
    "plt.figure(figsize=(10, 5))\n",
    "plt.title('Перцентили по заработной плате у женщин') \n",
    "plt.xlabel('Перцентили') \n",
    "plt.ylabel('Зарплата') \n",
    "plt.grid()\n",
    "plt.plot(wom_salary)\n",
    "plt.show()"
   ]
  },
  {
   "cell_type": "markdown",
   "id": "11a0f276",
   "metadata": {},
   "source": [
    "### 7.Построить графики распределения по заработной плате мужчин и женщин в зависимости от высшего образования"
   ]
  },
  {
   "cell_type": "code",
   "execution_count": 51,
   "id": "c4bb20c7",
   "metadata": {},
   "outputs": [
    {
     "data": {
      "text/html": [
       "<div>\n",
       "<style scoped>\n",
       "    .dataframe tbody tr th:only-of-type {\n",
       "        vertical-align: middle;\n",
       "    }\n",
       "\n",
       "    .dataframe tbody tr th {\n",
       "        vertical-align: top;\n",
       "    }\n",
       "\n",
       "    .dataframe thead th {\n",
       "        text-align: right;\n",
       "    }\n",
       "</style>\n",
       "<table border=\"1\" class=\"dataframe\">\n",
       "  <thead>\n",
       "    <tr style=\"text-align: right;\">\n",
       "      <th></th>\n",
       "      <th>educationType</th>\n",
       "      <th>salary</th>\n",
       "    </tr>\n",
       "  </thead>\n",
       "  <tbody>\n",
       "    <tr>\n",
       "      <th>0</th>\n",
       "      <td>Высшее</td>\n",
       "      <td>48551.775767</td>\n",
       "    </tr>\n",
       "    <tr>\n",
       "      <th>1</th>\n",
       "      <td>Незаконченное высшее</td>\n",
       "      <td>47691.925287</td>\n",
       "    </tr>\n",
       "    <tr>\n",
       "      <th>2</th>\n",
       "      <td>Среднее</td>\n",
       "      <td>32519.767707</td>\n",
       "    </tr>\n",
       "    <tr>\n",
       "      <th>3</th>\n",
       "      <td>Среднее профессиональное</td>\n",
       "      <td>35329.004543</td>\n",
       "    </tr>\n",
       "  </tbody>\n",
       "</table>\n",
       "</div>"
      ],
      "text/plain": [
       "              educationType        salary\n",
       "0                    Высшее  48551.775767\n",
       "1      Незаконченное высшее  47691.925287\n",
       "2                   Среднее  32519.767707\n",
       "3  Среднее профессиональное  35329.004543"
      ]
     },
     "execution_count": 51,
     "metadata": {},
     "output_type": "execute_result"
    }
   ],
   "source": [
    "men_salary = works.query('gender == \"Мужской\"').groupby(\"educationType\").mean().reset_index()\n",
    "men_salary"
   ]
  },
  {
   "cell_type": "code",
   "execution_count": 53,
   "id": "99640f68",
   "metadata": {},
   "outputs": [
    {
     "data": {
      "text/html": [
       "<div>\n",
       "<style scoped>\n",
       "    .dataframe tbody tr th:only-of-type {\n",
       "        vertical-align: middle;\n",
       "    }\n",
       "\n",
       "    .dataframe tbody tr th {\n",
       "        vertical-align: top;\n",
       "    }\n",
       "\n",
       "    .dataframe thead th {\n",
       "        text-align: right;\n",
       "    }\n",
       "</style>\n",
       "<table border=\"1\" class=\"dataframe\">\n",
       "  <thead>\n",
       "    <tr style=\"text-align: right;\">\n",
       "      <th></th>\n",
       "      <th>educationType</th>\n",
       "      <th>salary</th>\n",
       "    </tr>\n",
       "  </thead>\n",
       "  <tbody>\n",
       "    <tr>\n",
       "      <th>0</th>\n",
       "      <td>Высшее</td>\n",
       "      <td>33826.008009</td>\n",
       "    </tr>\n",
       "    <tr>\n",
       "      <th>1</th>\n",
       "      <td>Незаконченное высшее</td>\n",
       "      <td>29171.382643</td>\n",
       "    </tr>\n",
       "    <tr>\n",
       "      <th>2</th>\n",
       "      <td>Среднее</td>\n",
       "      <td>24958.723963</td>\n",
       "    </tr>\n",
       "    <tr>\n",
       "      <th>3</th>\n",
       "      <td>Среднее профессиональное</td>\n",
       "      <td>25834.460409</td>\n",
       "    </tr>\n",
       "  </tbody>\n",
       "</table>\n",
       "</div>"
      ],
      "text/plain": [
       "              educationType        salary\n",
       "0                    Высшее  33826.008009\n",
       "1      Незаконченное высшее  29171.382643\n",
       "2                   Среднее  24958.723963\n",
       "3  Среднее профессиональное  25834.460409"
      ]
     },
     "execution_count": 53,
     "metadata": {},
     "output_type": "execute_result"
    }
   ],
   "source": [
    "wom_salary = works.query('gender == \"Женский\"').groupby(\"educationType\").agg('mean').reset_index()\n",
    "wom_salary"
   ]
  },
  {
   "cell_type": "code",
   "execution_count": 56,
   "id": "c1dbcb37",
   "metadata": {
    "scrolled": true
   },
   "outputs": [
    {
     "data": {
      "image/png": "[encoded data removed]",
      "text/plain": [
       "<Figure size 432x288 with 1 Axes>"
      ]
     },
     "metadata": {
      "needs_background": "light"
     },
     "output_type": "display_data"
    }
   ],
   "source": [
    "education = men_salary['educationType'].values\n",
    "men = men_salary['salary'].values\n",
    "wom = wom_salary['salary'].values\n",
    "index = np.arange(len(education))\n",
    "\n",
    "plt.bar(index-0.2, men, width = 0.4, color='b', label = 'Средняя зарплата мужчин')\n",
    "plt.bar(index+0.2, wom, width = 0.4, color='r', label = 'Средняя зарплата женщин')\n",
    "plt.xticks(index, education, rotation = 45)\n",
    "plt.legend()\n",
    "plt.show()"
   ]
  },
  {
   "cell_type": "markdown",
   "id": "7056f86d",
   "metadata": {},
   "source": [
    "#### графики распределения по заработной плате мужчин в зависимости от высшего образования"
   ]
  },
  {
   "cell_type": "code",
   "execution_count": 67,
   "id": "a1ee65e6",
   "metadata": {},
   "outputs": [
    {
     "data": {
      "text/plain": [
       "array([[<AxesSubplot:title={'center':'salary'}>]], dtype=object)"
      ]
     },
     "execution_count": 67,
     "metadata": {},
     "output_type": "execute_result"
    },
    {
     "data": {
      "image/png": "[encoded data removed]",
      "text/plain": [
       "<Figure size 432x288 with 1 Axes>"
      ]
     },
     "metadata": {
      "needs_background": "light"
     },
     "output_type": "display_data"
    }
   ],
   "source": [
    "works.query('gender == \"Мужской\" and educationType == \"Высшее\"').hist(bins = 100)"
   ]
  },
  {
   "cell_type": "code",
   "execution_count": 68,
   "id": "edaeac27",
   "metadata": {},
   "outputs": [
    {
     "data": {
      "text/plain": [
       "array([[<AxesSubplot:title={'center':'salary'}>]], dtype=object)"
      ]
     },
     "execution_count": 68,
     "metadata": {},
     "output_type": "execute_result"
    },
    {
     "data": {
      "image/png": "[encoded data removed]",
      "text/plain": [
       "<Figure size 432x288 with 1 Axes>"
      ]
     },
     "metadata": {
      "needs_background": "light"
     },
     "output_type": "display_data"
    }
   ],
   "source": [
    "works.query('gender == \"Мужской\" and educationType == \"Незаконченное высшее\"').hist(bins = 100)"
   ]
  },
  {
   "cell_type": "code",
   "execution_count": 69,
   "id": "c7ef07b0",
   "metadata": {},
   "outputs": [
    {
     "data": {
      "text/plain": [
       "array([[<AxesSubplot:title={'center':'salary'}>]], dtype=object)"
      ]
     },
     "execution_count": 69,
     "metadata": {},
     "output_type": "execute_result"
    },
    {
     "data": {
      "image/png": "[encoded data removed]",
      "text/plain": [
       "<Figure size 432x288 with 1 Axes>"
      ]
     },
     "metadata": {
      "needs_background": "light"
     },
     "output_type": "display_data"
    }
   ],
   "source": [
    "works.query('gender == \"Мужской\" and educationType == \"Среднее\"').hist(bins = 100)"
   ]
  },
  {
   "cell_type": "code",
   "execution_count": 70,
   "id": "fb57707b",
   "metadata": {},
   "outputs": [
    {
     "data": {
      "text/plain": [
       "array([[<AxesSubplot:title={'center':'salary'}>]], dtype=object)"
      ]
     },
     "execution_count": 70,
     "metadata": {},
     "output_type": "execute_result"
    },
    {
     "data": {
      "image/png": "[encoded data removed]",
      "text/plain": [
       "<Figure size 432x288 with 1 Axes>"
      ]
     },
     "metadata": {
      "needs_background": "light"
     },
     "output_type": "display_data"
    }
   ],
   "source": [
    "works.query('gender == \"Мужской\" and educationType == \"Среднее профессиональное\"').hist(bins = 100)"
   ]
  },
  {
   "cell_type": "markdown",
   "id": "cd1dabda",
   "metadata": {},
   "source": [
    "#### графики распределения по заработной плате мужчин в зависимости от высшего образования"
   ]
  },
  {
   "cell_type": "code",
   "execution_count": 71,
   "id": "9aab62f2",
   "metadata": {},
   "outputs": [
    {
     "data": {
      "text/plain": [
       "array([[<AxesSubplot:title={'center':'salary'}>]], dtype=object)"
      ]
     },
     "execution_count": 71,
     "metadata": {},
     "output_type": "execute_result"
    },
    {
     "data": {
      "image/png": "[encoded data removed]",
      "text/plain": [
       "<Figure size 432x288 with 1 Axes>"
      ]
     },
     "metadata": {
      "needs_background": "light"
     },
     "output_type": "display_data"
    }
   ],
   "source": [
    "works.query('gender == \"Женский\" and educationType == \"Высшее\"').hist(bins = 100)"
   ]
  },
  {
   "cell_type": "code",
   "execution_count": 72,
   "id": "c20710f9",
   "metadata": {},
   "outputs": [
    {
     "data": {
      "text/plain": [
       "array([[<AxesSubplot:title={'center':'salary'}>]], dtype=object)"
      ]
     },
     "execution_count": 72,
     "metadata": {},
     "output_type": "execute_result"
    },
    {
     "data": {
      "image/png": "[encoded data removed]",
      "text/plain": [
       "<Figure size 432x288 with 1 Axes>"
      ]
     },
     "metadata": {
      "needs_background": "light"
     },
     "output_type": "display_data"
    }
   ],
   "source": [
    "works.query('gender == \"Женский\" and educationType == \"Незаконченное высшее\"').hist(bins = 100)"
   ]
  },
  {
   "cell_type": "code",
   "execution_count": 73,
   "id": "dda99b26",
   "metadata": {},
   "outputs": [
    {
     "data": {
      "text/plain": [
       "array([[<AxesSubplot:title={'center':'salary'}>]], dtype=object)"
      ]
     },
     "execution_count": 73,
     "metadata": {},
     "output_type": "execute_result"
    },
    {
     "data": {
      "image/png": "[encoded data removed]",
      "text/plain": [
       "<Figure size 432x288 with 1 Axes>"
      ]
     },
     "metadata": {
      "needs_background": "light"
     },
     "output_type": "display_data"
    }
   ],
   "source": [
    "works.query('gender == \"Женский\" and educationType == \"Среднее\"').hist(bins = 100)"
   ]
  },
  {
   "cell_type": "code",
   "execution_count": 74,
   "id": "d00948f7",
   "metadata": {},
   "outputs": [
    {
     "data": {
      "text/plain": [
       "array([[<AxesSubplot:title={'center':'salary'}>]], dtype=object)"
      ]
     },
     "execution_count": 74,
     "metadata": {},
     "output_type": "execute_result"
    },
    {
     "data": {
      "image/png": "[encoded data removed]",
      "text/plain": [
       "<Figure size 432x288 with 1 Axes>"
      ]
     },
     "metadata": {
      "needs_background": "light"
     },
     "output_type": "display_data"
    }
   ],
   "source": [
    "works.query('gender == \"Женский\" and educationType == \"Среднее профессиональное\"').hist(bins = 100)"
   ]
  },
  {
   "cell_type": "markdown",
   "id": "6381d346",
   "metadata": {},
   "source": [
    "# 8.ДЗ"
   ]
  },
  {
   "cell_type": "code",
   "execution_count": null,
   "id": "eb25fdcb",
   "metadata": {},
   "outputs": [],
   "source": [
    "# подготовка данных\n",
    "worksnew = works[works['jobTitle'].notna()]\n",
    "works = worksnew[worksnew['qualification'].notna()]"
   ]
  },
  {
   "cell_type": "code",
   "execution_count": 129,
   "id": "ae61bfbc",
   "metadata": {},
   "outputs": [
    {
     "data": {
      "text/plain": [
       "10130"
      ]
     },
     "execution_count": 129,
     "metadata": {},
     "output_type": "execute_result"
    }
   ],
   "source": [
    "# количество с профессией\n",
    "works.shape[0]"
   ]
  },
  {
   "cell_type": "code",
   "execution_count": null,
   "id": "a8c027c7",
   "metadata": {},
   "outputs": [],
   "source": [
    "# сравнивает входит ли одно слово в другое\n",
    "def compare(profession, other):\n",
    "    for i in profession.lower().replace('-', ' ').split():\n",
    "        if i in other.lower():\n",
    "            return True\n",
    "    return False"
   ]
  },
  {
   "cell_type": "code",
   "execution_count": 130,
   "id": "738a4f71",
   "metadata": {},
   "outputs": [
    {
     "data": {
      "text/plain": [
       "7714"
      ]
     },
     "execution_count": 130,
     "metadata": {},
     "output_type": "execute_result"
    }
   ],
   "source": [
    "# количество у кого не совпадает профессия и должность\n",
    "answer = 0\n",
    "for (job, qualification) in zip(works[\"jobTitle\"], works[\"qualification\"]):\n",
    "    if not compare(job, qualification) and not compare(qualification, job):\n",
    "        answer += 1\n",
    "answer"
   ]
  },
  {
   "cell_type": "code",
   "execution_count": 131,
   "id": "115928c8",
   "metadata": {},
   "outputs": [
    {
     "data": {
      "text/plain": [
       "бакалавр     96\n",
       "экономист    85\n",
       "менеджер     79\n",
       "юрист        41\n",
       "инженер      37\n",
       "Name: qualification, dtype: int64"
      ]
     },
     "execution_count": 131,
     "metadata": {},
     "output_type": "execute_result"
    }
   ],
   "source": [
    "# Люди с каким образованием становятся менеджерами (топ-5)\n",
    "worksjob = works[works[\"jobTitle\"].str.lower().str.contains(\"менеджер\")]\n",
    "worksjob[\"qualification\"].str.lower().value_counts().head(5)"
   ]
  },
  {
   "cell_type": "code",
   "execution_count": 132,
   "id": "ca9b0cb0",
   "metadata": {},
   "outputs": [
    {
     "data": {
      "text/plain": [
       "инженер            25\n",
       "главный инженер    23\n",
       "директор           21\n",
       "менеджер           13\n",
       "водитель           11\n",
       "Name: jobTitle, dtype: int64"
      ]
     },
     "execution_count": 132,
     "metadata": {},
     "output_type": "execute_result"
    }
   ],
   "source": [
    "# Кем работают люди, которые по диплому являются инженерами (топ-5)\n",
    "worksjob = works[works[\"qualification\"].str.lower().str.contains(\"инженер\")]\n",
    "worksjob[\"jobTitle\"].str.lower().value_counts().head(5)"
   ]
  }
 ],
 "metadata": {
  "kernelspec": {
   "display_name": "Python 3 (ipykernel)",
   "language": "python",
   "name": "python3"
  },
  "language_info": {
   "codemirror_mode": {
    "name": "ipython",
    "version": 3
   },
   "file_extension": ".py",
   "mimetype": "text/x-python",
   "name": "python",
   "nbconvert_exporter": "python",
   "pygments_lexer": "ipython3",
   "version": "3.8.8"
  }
 },
 "nbformat": 4,
 "nbformat_minor": 5
}
