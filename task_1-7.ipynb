{
 "cells": [
  {
   "cell_type": "code",
   "execution_count": 1,
   "id": "431b73df",
   "metadata": {},
   "outputs": [],
   "source": [
    "import numpy as np\n",
    "import pandas as pd\n",
    "import matplotlib.pyplot as plt"
   ]
  },
  {
   "cell_type": "code",
   "execution_count": 2,
   "id": "d89e36d1",
   "metadata": {
    "scrolled": true
   },
   "outputs": [
    {
     "data": {
      "text/html": [
       "<div>\n",
       "<style scoped>\n",
       "    .dataframe tbody tr th:only-of-type {\n",
       "        vertical-align: middle;\n",
       "    }\n",
       "\n",
       "    .dataframe tbody tr th {\n",
       "        vertical-align: top;\n",
       "    }\n",
       "\n",
       "    .dataframe thead th {\n",
       "        text-align: right;\n",
       "    }\n",
       "</style>\n",
       "<table border=\"1\" class=\"dataframe\">\n",
       "  <thead>\n",
       "    <tr style=\"text-align: right;\">\n",
       "      <th></th>\n",
       "      <th>salary</th>\n",
       "      <th>educationType</th>\n",
       "      <th>jobTitle</th>\n",
       "      <th>qualification</th>\n",
       "      <th>gender</th>\n",
       "      <th>dateModify</th>\n",
       "      <th>skills</th>\n",
       "      <th>otherInfo</th>\n",
       "    </tr>\n",
       "  </thead>\n",
       "  <tbody>\n",
       "    <tr>\n",
       "      <th>0</th>\n",
       "      <td>60000</td>\n",
       "      <td>Высшее</td>\n",
       "      <td>Специалист пресс-службы</td>\n",
       "      <td>Магистр</td>\n",
       "      <td>Мужской</td>\n",
       "      <td>2021-04-01</td>\n",
       "      <td>&lt;p&gt;Аналитическое&amp;nbsp;мышление,&amp;nbsp;&lt;span cla...</td>\n",
       "      <td>NaN</td>\n",
       "    </tr>\n",
       "    <tr>\n",
       "      <th>1</th>\n",
       "      <td>85000</td>\n",
       "      <td>Высшее</td>\n",
       "      <td>менеджер проектов</td>\n",
       "      <td>NaN</td>\n",
       "      <td>Мужской</td>\n",
       "      <td>2021-04-01</td>\n",
       "      <td>NaN</td>\n",
       "      <td>NaN</td>\n",
       "    </tr>\n",
       "    <tr>\n",
       "      <th>2</th>\n",
       "      <td>15000</td>\n",
       "      <td>Среднее профессиональное</td>\n",
       "      <td>....</td>\n",
       "      <td>NaN</td>\n",
       "      <td>Женский</td>\n",
       "      <td>2021-06-01</td>\n",
       "      <td>NaN</td>\n",
       "      <td>NaN</td>\n",
       "    </tr>\n",
       "    <tr>\n",
       "      <th>3</th>\n",
       "      <td>30000</td>\n",
       "      <td>NaN</td>\n",
       "      <td>NaN</td>\n",
       "      <td>NaN</td>\n",
       "      <td>Женский</td>\n",
       "      <td>2021-04-03</td>\n",
       "      <td>NaN</td>\n",
       "      <td>NaN</td>\n",
       "    </tr>\n",
       "    <tr>\n",
       "      <th>4</th>\n",
       "      <td>45000</td>\n",
       "      <td>NaN</td>\n",
       "      <td>NaN</td>\n",
       "      <td>NaN</td>\n",
       "      <td>Мужской</td>\n",
       "      <td>2021-06-28</td>\n",
       "      <td>NaN</td>\n",
       "      <td>NaN</td>\n",
       "    </tr>\n",
       "    <tr>\n",
       "      <th>...</th>\n",
       "      <td>...</td>\n",
       "      <td>...</td>\n",
       "      <td>...</td>\n",
       "      <td>...</td>\n",
       "      <td>...</td>\n",
       "      <td>...</td>\n",
       "      <td>...</td>\n",
       "      <td>...</td>\n",
       "    </tr>\n",
       "    <tr>\n",
       "      <th>32678</th>\n",
       "      <td>15000</td>\n",
       "      <td>NaN</td>\n",
       "      <td>NaN</td>\n",
       "      <td>NaN</td>\n",
       "      <td>Женский</td>\n",
       "      <td>2021-06-23</td>\n",
       "      <td>NaN</td>\n",
       "      <td>NaN</td>\n",
       "    </tr>\n",
       "    <tr>\n",
       "      <th>32679</th>\n",
       "      <td>13000</td>\n",
       "      <td>Среднее</td>\n",
       "      <td>уборщица</td>\n",
       "      <td>NaN</td>\n",
       "      <td>Женский</td>\n",
       "      <td>2021-07-29</td>\n",
       "      <td>NaN</td>\n",
       "      <td>NaN</td>\n",
       "    </tr>\n",
       "    <tr>\n",
       "      <th>32680</th>\n",
       "      <td>16000</td>\n",
       "      <td>Среднее профессиональное</td>\n",
       "      <td>кочегар машинист котельной</td>\n",
       "      <td>NaN</td>\n",
       "      <td>Мужской</td>\n",
       "      <td>2021-11-11</td>\n",
       "      <td>NaN</td>\n",
       "      <td>NaN</td>\n",
       "    </tr>\n",
       "    <tr>\n",
       "      <th>32681</th>\n",
       "      <td>35000</td>\n",
       "      <td>Высшее</td>\n",
       "      <td>NaN</td>\n",
       "      <td>NaN</td>\n",
       "      <td>Мужской</td>\n",
       "      <td>2020-04-21</td>\n",
       "      <td>NaN</td>\n",
       "      <td>NaN</td>\n",
       "    </tr>\n",
       "    <tr>\n",
       "      <th>32682</th>\n",
       "      <td>30000</td>\n",
       "      <td>NaN</td>\n",
       "      <td>NaN</td>\n",
       "      <td>NaN</td>\n",
       "      <td>Мужской</td>\n",
       "      <td>2021-06-20</td>\n",
       "      <td>NaN</td>\n",
       "      <td>NaN</td>\n",
       "    </tr>\n",
       "  </tbody>\n",
       "</table>\n",
       "<p>32683 rows × 8 columns</p>\n",
       "</div>"
      ],
      "text/plain": [
       "       salary             educationType                    jobTitle  \\\n",
       "0       60000                    Высшее     Специалист пресс-службы   \n",
       "1       85000                    Высшее           менеджер проектов   \n",
       "2       15000  Среднее профессиональное                        ....   \n",
       "3       30000                       NaN                         NaN   \n",
       "4       45000                       NaN                         NaN   \n",
       "...       ...                       ...                         ...   \n",
       "32678   15000                       NaN                         NaN   \n",
       "32679   13000                   Среднее                    уборщица   \n",
       "32680   16000  Среднее профессиональное  кочегар машинист котельной   \n",
       "32681   35000                    Высшее                         NaN   \n",
       "32682   30000                       NaN                         NaN   \n",
       "\n",
       "      qualification   gender  dateModify  \\\n",
       "0           Магистр  Мужской  2021-04-01   \n",
       "1               NaN  Мужской  2021-04-01   \n",
       "2               NaN  Женский  2021-06-01   \n",
       "3               NaN  Женский  2021-04-03   \n",
       "4               NaN  Мужской  2021-06-28   \n",
       "...             ...      ...         ...   \n",
       "32678           NaN  Женский  2021-06-23   \n",
       "32679           NaN  Женский  2021-07-29   \n",
       "32680           NaN  Мужской  2021-11-11   \n",
       "32681           NaN  Мужской  2020-04-21   \n",
       "32682           NaN  Мужской  2021-06-20   \n",
       "\n",
       "                                                  skills otherInfo  \n",
       "0      <p>Аналитическое&nbsp;мышление,&nbsp;<span cla...       NaN  \n",
       "1                                                    NaN       NaN  \n",
       "2                                                    NaN       NaN  \n",
       "3                                                    NaN       NaN  \n",
       "4                                                    NaN       NaN  \n",
       "...                                                  ...       ...  \n",
       "32678                                                NaN       NaN  \n",
       "32679                                                NaN       NaN  \n",
       "32680                                                NaN       NaN  \n",
       "32681                                                NaN       NaN  \n",
       "32682                                                NaN       NaN  \n",
       "\n",
       "[32683 rows x 8 columns]"
      ]
     },
     "execution_count": 2,
     "metadata": {},
     "output_type": "execute_result"
    }
   ],
   "source": [
    "works = pd.read_csv(\"works.csv\")\n",
    "works"
   ]
  },
  {
   "cell_type": "markdown",
   "id": "f7c75647",
   "metadata": {},
   "source": [
    "### 1.Узнать общее количество записей в датасете"
   ]
  },
  {
   "cell_type": "code",
   "execution_count": 3,
   "id": "e752d434",
   "metadata": {},
   "outputs": [
    {
     "data": {
      "text/plain": [
       "(32683, 8)"
      ]
     },
     "execution_count": 3,
     "metadata": {},
     "output_type": "execute_result"
    }
   ],
   "source": [
    "works.shape"
   ]
  },
  {
   "cell_type": "code",
   "execution_count": 4,
   "id": "2be3c542",
   "metadata": {},
   "outputs": [
    {
     "data": {
      "text/plain": [
       "32683"
      ]
     },
     "execution_count": 4,
     "metadata": {},
     "output_type": "execute_result"
    }
   ],
   "source": [
    "works['salary'].count()"
   ]
  },
  {
   "cell_type": "code",
   "execution_count": 5,
   "id": "b98dcfd1",
   "metadata": {},
   "outputs": [
    {
     "data": {
      "text/plain": [
       "32683"
      ]
     },
     "execution_count": 5,
     "metadata": {},
     "output_type": "execute_result"
    }
   ],
   "source": [
    "len(works.index)"
   ]
  },
  {
   "cell_type": "markdown",
   "id": "8c120d74",
   "metadata": {},
   "source": [
    "### 2.Узнать количество мужчин и женщин в датасете"
   ]
  },
  {
   "cell_type": "code",
   "execution_count": 6,
   "id": "1b82f99c",
   "metadata": {},
   "outputs": [
    {
     "data": {
      "text/plain": [
       "13386"
      ]
     },
     "execution_count": 6,
     "metadata": {},
     "output_type": "execute_result"
    }
   ],
   "source": [
    "works[works['gender'] == 'Мужской'].shape[0]\n",
    "\n"
   ]
  },
  {
   "cell_type": "code",
   "execution_count": 7,
   "id": "4dba6382",
   "metadata": {},
   "outputs": [
    {
     "data": {
      "text/plain": [
       "17910"
      ]
     },
     "execution_count": 7,
     "metadata": {},
     "output_type": "execute_result"
    }
   ],
   "source": [
    "(works['gender'] == 'Женский').values.sum()\n"
   ]
  },
  {
   "cell_type": "code",
   "execution_count": 8,
   "id": "e70ed371",
   "metadata": {},
   "outputs": [
    {
     "data": {
      "text/plain": [
       "Женский    17910\n",
       "Мужской    13386\n",
       "Name: gender, dtype: int64"
      ]
     },
     "execution_count": 8,
     "metadata": {},
     "output_type": "execute_result"
    }
   ],
   "source": [
    "works['gender'].value_counts()"
   ]
  },
  {
   "cell_type": "markdown",
   "id": "ff1cb14b",
   "metadata": {},
   "source": [
    "### 3.Узнать сколько значений в столбце skills не NAN"
   ]
  },
  {
   "cell_type": "code",
   "execution_count": 9,
   "id": "196b5286",
   "metadata": {},
   "outputs": [
    {
     "data": {
      "text/plain": [
       "8972"
      ]
     },
     "execution_count": 9,
     "metadata": {},
     "output_type": "execute_result"
    }
   ],
   "source": [
    "works['skills'].notnull().values.sum()"
   ]
  },
  {
   "cell_type": "code",
   "execution_count": 10,
   "id": "36ee77c1",
   "metadata": {},
   "outputs": [
    {
     "data": {
      "text/plain": [
       "8972"
      ]
     },
     "execution_count": 10,
     "metadata": {},
     "output_type": "execute_result"
    }
   ],
   "source": [
    "works['skills'].notna().values.sum()"
   ]
  },
  {
   "cell_type": "code",
   "execution_count": 11,
   "id": "85410ba8",
   "metadata": {},
   "outputs": [
    {
     "data": {
      "text/plain": [
       "8972"
      ]
     },
     "execution_count": 11,
     "metadata": {},
     "output_type": "execute_result"
    }
   ],
   "source": [
    "works['skills'].dropna().shape[0]"
   ]
  },
  {
   "cell_type": "markdown",
   "id": "2ff24d07",
   "metadata": {},
   "source": [
    "### 4.Получить все заполненные скиллы"
   ]
  },
  {
   "cell_type": "code",
   "execution_count": 12,
   "id": "b41a3b96",
   "metadata": {},
   "outputs": [
    {
     "data": {
      "text/plain": [
       "0        <p>Аналитическое&nbsp;мышление,&nbsp;<span cla...\n",
       "5        Ответственная,пунктуальная,дисциплинированная ...\n",
       "10                         <p>Коммуникабельность&nbsp;</p>\n",
       "13                         <p>Ответственность в работе</p>\n",
       "21       <p>Усидчивость, умение удерживать в памяти нуж...\n",
       "                               ...                        \n",
       "32665    <p>Отвественность</p><p>Исполнительность</p><p...\n",
       "32668    <p>Высокая работоспособность, нацеленность на ...\n",
       "32672                                <p>исполнительный</p>\n",
       "32674    <p>Нацелен на результат. Считаю себя командным...\n",
       "32675                                 <p>трудоспособен</p>\n",
       "Name: skills, Length: 8972, dtype: object"
      ]
     },
     "execution_count": 12,
     "metadata": {},
     "output_type": "execute_result"
    }
   ],
   "source": [
    "works['skills'].dropna()"
   ]
  },
  {
   "cell_type": "markdown",
   "id": "58a3bc5d",
   "metadata": {},
   "source": [
    "### 5.Вывести зарплату только у тех, у которых в скиллах есть Python (Питон)"
   ]
  },
  {
   "cell_type": "code",
   "execution_count": 13,
   "id": "b93d618d",
   "metadata": {},
   "outputs": [
    {
     "data": {
      "text/plain": [
       "230      35000\n",
       "334      20000\n",
       "2394     35000\n",
       "8096     15000\n",
       "9014     25000\n",
       "9667     90000\n",
       "20930    30000\n",
       "22530    50000\n",
       "28286    23000\n",
       "30430    23000\n",
       "Name: salary, dtype: int64"
      ]
     },
     "execution_count": 13,
     "metadata": {},
     "output_type": "execute_result"
    }
   ],
   "source": [
    "df = works.skills.dropna().str.lower().str.contains('python|питон')\n",
    "works[works.skills.notna()][df]['salary']"
   ]
  },
  {
   "cell_type": "markdown",
   "id": "cc98d1b7",
   "metadata": {},
   "source": [
    "### 6.Построить перцентили по заработной плате у мужчин и женщин"
   ]
  },
  {
   "cell_type": "code",
   "execution_count": 14,
   "id": "92355509",
   "metadata": {},
   "outputs": [
    {
     "data": {
      "text/plain": [
       "array([0.1, 0.2, 0.3, 0.4, 0.5, 0.6, 0.7, 0.8, 0.9, 1. ])"
      ]
     },
     "execution_count": 14,
     "metadata": {},
     "output_type": "execute_result"
    }
   ],
   "source": [
    "percentiles = np.linspace(.1, 1, 10)\n",
    "percentiles"
   ]
  },
  {
   "cell_type": "code",
   "execution_count": 15,
   "id": "4772a178",
   "metadata": {},
   "outputs": [
    {
     "data": {
      "text/html": [
       "<div>\n",
       "<style scoped>\n",
       "    .dataframe tbody tr th:only-of-type {\n",
       "        vertical-align: middle;\n",
       "    }\n",
       "\n",
       "    .dataframe tbody tr th {\n",
       "        vertical-align: top;\n",
       "    }\n",
       "\n",
       "    .dataframe thead th {\n",
       "        text-align: right;\n",
       "    }\n",
       "</style>\n",
       "<table border=\"1\" class=\"dataframe\">\n",
       "  <thead>\n",
       "    <tr style=\"text-align: right;\">\n",
       "      <th></th>\n",
       "      <th>salary</th>\n",
       "    </tr>\n",
       "  </thead>\n",
       "  <tbody>\n",
       "    <tr>\n",
       "      <th>0.1</th>\n",
       "      <td>15000.0</td>\n",
       "    </tr>\n",
       "    <tr>\n",
       "      <th>0.2</th>\n",
       "      <td>20000.0</td>\n",
       "    </tr>\n",
       "    <tr>\n",
       "      <th>0.3</th>\n",
       "      <td>25000.0</td>\n",
       "    </tr>\n",
       "    <tr>\n",
       "      <th>0.4</th>\n",
       "      <td>30000.0</td>\n",
       "    </tr>\n",
       "    <tr>\n",
       "      <th>0.5</th>\n",
       "      <td>30000.0</td>\n",
       "    </tr>\n",
       "    <tr>\n",
       "      <th>0.6</th>\n",
       "      <td>35000.0</td>\n",
       "    </tr>\n",
       "    <tr>\n",
       "      <th>0.7</th>\n",
       "      <td>40000.0</td>\n",
       "    </tr>\n",
       "    <tr>\n",
       "      <th>0.8</th>\n",
       "      <td>50000.0</td>\n",
       "    </tr>\n",
       "    <tr>\n",
       "      <th>0.9</th>\n",
       "      <td>60000.0</td>\n",
       "    </tr>\n",
       "    <tr>\n",
       "      <th>1.0</th>\n",
       "      <td>1000000.0</td>\n",
       "    </tr>\n",
       "  </tbody>\n",
       "</table>\n",
       "</div>"
      ],
      "text/plain": [
       "        salary\n",
       "0.1    15000.0\n",
       "0.2    20000.0\n",
       "0.3    25000.0\n",
       "0.4    30000.0\n",
       "0.5    30000.0\n",
       "0.6    35000.0\n",
       "0.7    40000.0\n",
       "0.8    50000.0\n",
       "0.9    60000.0\n",
       "1.0  1000000.0"
      ]
     },
     "execution_count": 15,
     "metadata": {},
     "output_type": "execute_result"
    }
   ],
   "source": [
    "men_salary = works.query('gender == \"Мужской\"').quantile(percentiles)\n",
    "men_salary"
   ]
  },
  {
   "cell_type": "code",
   "execution_count": 16,
   "id": "a88da054",
   "metadata": {},
   "outputs": [
    {
     "data": {
      "image/png": "[encoded data removed]",
      "text/plain": [
       "<Figure size 504x360 with 1 Axes>"
      ]
     },
     "metadata": {
      "needs_background": "light"
     },
     "output_type": "display_data"
    }
   ],
   "source": [
    "plt.figure(figsize=(7, 5)) \n",
    "plt.title('Перцентили по заработной плате у мужчин') \n",
    "plt.xlabel('Перцентили') \n",
    "plt.ylabel('Зарплата мужчин') \n",
    "plt.grid() \n",
    "\n",
    "plt.plot(men_salary)  \n",
    "plt.show()"
   ]
  },
  {
   "cell_type": "code",
   "execution_count": 17,
   "id": "e90846e5",
   "metadata": {},
   "outputs": [
    {
     "data": {
      "text/html": [
       "<div>\n",
       "<style scoped>\n",
       "    .dataframe tbody tr th:only-of-type {\n",
       "        vertical-align: middle;\n",
       "    }\n",
       "\n",
       "    .dataframe tbody tr th {\n",
       "        vertical-align: top;\n",
       "    }\n",
       "\n",
       "    .dataframe thead th {\n",
       "        text-align: right;\n",
       "    }\n",
       "</style>\n",
       "<table border=\"1\" class=\"dataframe\">\n",
       "  <thead>\n",
       "    <tr style=\"text-align: right;\">\n",
       "      <th></th>\n",
       "      <th>salary</th>\n",
       "    </tr>\n",
       "  </thead>\n",
       "  <tbody>\n",
       "    <tr>\n",
       "      <th>0.1</th>\n",
       "      <td>15000.0</td>\n",
       "    </tr>\n",
       "    <tr>\n",
       "      <th>0.2</th>\n",
       "      <td>18000.0</td>\n",
       "    </tr>\n",
       "    <tr>\n",
       "      <th>0.3</th>\n",
       "      <td>20000.0</td>\n",
       "    </tr>\n",
       "    <tr>\n",
       "      <th>0.4</th>\n",
       "      <td>22000.0</td>\n",
       "    </tr>\n",
       "    <tr>\n",
       "      <th>0.5</th>\n",
       "      <td>25000.0</td>\n",
       "    </tr>\n",
       "    <tr>\n",
       "      <th>0.6</th>\n",
       "      <td>30000.0</td>\n",
       "    </tr>\n",
       "    <tr>\n",
       "      <th>0.7</th>\n",
       "      <td>30000.0</td>\n",
       "    </tr>\n",
       "    <tr>\n",
       "      <th>0.8</th>\n",
       "      <td>35000.0</td>\n",
       "    </tr>\n",
       "    <tr>\n",
       "      <th>0.9</th>\n",
       "      <td>47000.0</td>\n",
       "    </tr>\n",
       "    <tr>\n",
       "      <th>1.0</th>\n",
       "      <td>900000.0</td>\n",
       "    </tr>\n",
       "  </tbody>\n",
       "</table>\n",
       "</div>"
      ],
      "text/plain": [
       "       salary\n",
       "0.1   15000.0\n",
       "0.2   18000.0\n",
       "0.3   20000.0\n",
       "0.4   22000.0\n",
       "0.5   25000.0\n",
       "0.6   30000.0\n",
       "0.7   30000.0\n",
       "0.8   35000.0\n",
       "0.9   47000.0\n",
       "1.0  900000.0"
      ]
     },
     "execution_count": 17,
     "metadata": {},
     "output_type": "execute_result"
    }
   ],
   "source": [
    "women_salary = works.query('gender == \"Женский\"').quantile(percentiles)\n",
    "women_salary"
   ]
  },
  {
   "cell_type": "code",
   "execution_count": 18,
   "id": "fd01445d",
   "metadata": {},
   "outputs": [
    {
     "data": {
      "image/png": "[encoded data removed]",
      "text/plain": [
       "<Figure size 504x360 with 1 Axes>"
      ]
     },
     "metadata": {
      "needs_background": "light"
     },
     "output_type": "display_data"
    }
   ],
   "source": [
    "plt.figure(figsize=(7, 5)) \n",
    "plt.title('Перцентили по заработной плате у женщин') \n",
    "plt.xlabel('Перцентили') \n",
    "plt.ylabel('Зарплата женщин') \n",
    "plt.grid() \n",
    "\n",
    "plt.plot(women_salary)  \n",
    "plt.show()"
   ]
  },
  {
   "cell_type": "markdown",
   "id": "c88b63aa",
   "metadata": {},
   "source": [
    "### 7.Построить графики распределения по заработной плате мужчин и женщин в зависимости от высшего образования"
   ]
  },
  {
   "cell_type": "code",
   "execution_count": 19,
   "id": "ee70fbc2",
   "metadata": {},
   "outputs": [],
   "source": [
    "men_salary = works.groupby('educationType').agg('mean').reset_index()\n"
   ]
  },
  {
   "cell_type": "code",
   "execution_count": 20,
   "id": "caeab8e6",
   "metadata": {},
   "outputs": [],
   "source": [
    "men_salary = works.query('gender == \"Мужской\"').groupby('educationType').agg('mean').reset_index()\n"
   ]
  },
  {
   "cell_type": "code",
   "execution_count": 21,
   "id": "9f56dc2e",
   "metadata": {},
   "outputs": [],
   "source": [
    "women_salary = works.query('gender == \"Женский\"').groupby('educationType').agg('mean').reset_index()\n"
   ]
  },
  {
   "cell_type": "code",
   "execution_count": 22,
   "id": "20055466",
   "metadata": {},
   "outputs": [
    {
     "data": {
      "image/png": "[encoded data removed]",
      "text/plain": [
       "<Figure size 432x288 with 1 Axes>"
      ]
     },
     "metadata": {
      "needs_background": "light"
     },
     "output_type": "display_data"
    }
   ],
   "source": [
    "educationTypes = men_salary['educationType'].values\n",
    "men_salaries = men_salary['salary'].values\n",
    "women_salaries = women_salary['salary'].values\n",
    "\n",
    "index = np.arange(len(educationTypes))\n",
    "\n",
    "bw = 0.4\n",
    "plt.bar(index-bw/2, men_salaries, bw, color='b', label='Средняя зарплата мужчин')\n",
    "plt.bar(index+bw/2, women_salaries, bw, color='r', label='Средняя зарплата женщин')\n",
    "plt.xticks(index, educationTypes, rotation=45)\n",
    "plt.legend()\n",
    "plt.show()"
   ]
  },
  {
   "cell_type": "markdown",
   "id": "d7fa662f",
   "metadata": {},
   "source": [
    "##### Графики для мужчин"
   ]
  },
  {
   "cell_type": "code",
   "execution_count": 23,
   "id": "c217564f",
   "metadata": {},
   "outputs": [],
   "source": [
    "men_height = works.query('gender == \"Мужской\" and educationType == \"Высшее\"')\n"
   ]
  },
  {
   "cell_type": "code",
   "execution_count": 25,
   "id": "bae25412",
   "metadata": {},
   "outputs": [
    {
     "data": {
      "image/png": "[encoded data removed]",
      "text/plain": [
       "<Figure size 720x360 with 1 Axes>"
      ]
     },
     "metadata": {
      "needs_background": "light"
     },
     "output_type": "display_data"
    }
   ],
   "source": [
    "plt.figure(figsize=(10, 5)) \n",
    "plt.title('Распределение по заработной плате у мужчин с высшим образованием') \n",
    "plt.xlabel('Зарплата мужчин') \n",
    "plt.ylabel('Количество мужчин') \n",
    "plt.grid() \n",
    "\n",
    "plt.hist(men_height['salary'], \n",
    "         bins=50) \n",
    "plt.show()\n"
   ]
  },
  {
   "cell_type": "code",
   "execution_count": 26,
   "id": "17af0b5a",
   "metadata": {},
   "outputs": [],
   "source": [
    "men_not_height = works.query('gender == \"Мужской\" and educationType == \"Незаконченное высшее\"')\n"
   ]
  },
  {
   "cell_type": "code",
   "execution_count": 27,
   "id": "61538fe4",
   "metadata": {},
   "outputs": [
    {
     "data": {
      "image/png": "[encoded data removed]",
      "text/plain": [
       "<Figure size 720x360 with 1 Axes>"
      ]
     },
     "metadata": {
      "needs_background": "light"
     },
     "output_type": "display_data"
    }
   ],
   "source": [
    "plt.figure(figsize=(10, 5))  \n",
    "plt.title('Распределение по заработной плате у мужчин с незаконченным высшим образованием') \n",
    "plt.xlabel('Зарплата мужчин') \n",
    "plt.ylabel('Количество мужчин') \n",
    "plt.grid() \n",
    "\n",
    "plt.hist(men_not_height['salary'], \n",
    "         bins=50) \n",
    "plt.show()"
   ]
  },
  {
   "cell_type": "code",
   "execution_count": 28,
   "id": "e46b82b6",
   "metadata": {},
   "outputs": [],
   "source": [
    "men_mean = works.query('gender == \"Мужской\" and educationType == \"Среднее\"')"
   ]
  },
  {
   "cell_type": "code",
   "execution_count": 29,
   "id": "3b6b6a15",
   "metadata": {},
   "outputs": [
    {
     "data": {
      "image/png": "[encoded data removed]",
      "text/plain": [
       "<Figure size 720x360 with 1 Axes>"
      ]
     },
     "metadata": {
      "needs_background": "light"
     },
     "output_type": "display_data"
    }
   ],
   "source": [
    "plt.figure(figsize=(10, 5))  \n",
    "plt.title('Распределение по заработной плате у мужчин с незаконченным высшим образованием') \n",
    "plt.xlabel('Зарплата мужчин') \n",
    "plt.ylabel('Количество мужчин') \n",
    "plt.grid() \n",
    "\n",
    "plt.hist(men_mean['salary'], \n",
    "         bins=50) \n",
    "plt.show()"
   ]
  },
  {
   "cell_type": "code",
   "execution_count": 30,
   "id": "4b005501",
   "metadata": {},
   "outputs": [],
   "source": [
    "men_mean_prof = works.query('gender == \"Мужской\" and educationType == \"Среднее профессиональное\"')"
   ]
  },
  {
   "cell_type": "code",
   "execution_count": 31,
   "id": "f490ddb6",
   "metadata": {},
   "outputs": [
    {
     "data": {
      "image/png": "[encoded data removed]",
      "text/plain": [
       "<Figure size 720x360 with 1 Axes>"
      ]
     },
     "metadata": {
      "needs_background": "light"
     },
     "output_type": "display_data"
    }
   ],
   "source": [
    "plt.figure(figsize=(10, 5))  \n",
    "plt.title('Распределение по заработной плате у мужчин с незаконченным высшим образованием') \n",
    "plt.xlabel('Зарплата мужчин') \n",
    "plt.ylabel('Количество мужчин') \n",
    "plt.grid() \n",
    "\n",
    "plt.hist(men_mean_prof['salary'], \n",
    "         bins=50) \n",
    "plt.show()"
   ]
  },
  {
   "cell_type": "markdown",
   "id": "0291f9c3",
   "metadata": {},
   "source": [
    "##### Графики для женщин"
   ]
  },
  {
   "cell_type": "code",
   "execution_count": 32,
   "id": "0d5dcfdb",
   "metadata": {},
   "outputs": [],
   "source": [
    "women_height = works.query('gender == \"Женский\" and educationType == \"Высшее\"')"
   ]
  },
  {
   "cell_type": "code",
   "execution_count": 33,
   "id": "25bfe921",
   "metadata": {},
   "outputs": [
    {
     "data": {
      "image/png": "[encoded data removed]",
      "text/plain": [
       "<Figure size 720x360 with 1 Axes>"
      ]
     },
     "metadata": {
      "needs_background": "light"
     },
     "output_type": "display_data"
    }
   ],
   "source": [
    "plt.figure(figsize=(10, 5))  \n",
    "plt.title('Распределение по заработной плате у женщин с высшим образованием') \n",
    "plt.xlabel('Зарплата женщин') \n",
    "plt.ylabel('Количество женщин') \n",
    "plt.grid() \n",
    "\n",
    "plt.hist(women_height['salary'], \n",
    "         bins=50) \n",
    "plt.show()\n"
   ]
  },
  {
   "cell_type": "code",
   "execution_count": 34,
   "id": "e0550dbc",
   "metadata": {},
   "outputs": [],
   "source": [
    "women_not_height = works.query('gender == \"Женский\" and educationType == \"Незаконченное высшее\"')"
   ]
  },
  {
   "cell_type": "code",
   "execution_count": 35,
   "id": "64176909",
   "metadata": {},
   "outputs": [
    {
     "data": {
      "image/png": "[encoded data removed]",
      "text/plain": [
       "<Figure size 720x360 with 1 Axes>"
      ]
     },
     "metadata": {
      "needs_background": "light"
     },
     "output_type": "display_data"
    }
   ],
   "source": [
    "plt.figure(figsize=(10, 5))  \n",
    "plt.title('Распределение по заработной плате у женщин с незаконченным высшим образованием') \n",
    "plt.xlabel('Зарплата женщин') \n",
    "plt.ylabel('Количество женщин') \n",
    "plt.grid() \n",
    "\n",
    "plt.hist(women_not_height['salary'], \n",
    "         bins=50) \n",
    "plt.show()"
   ]
  },
  {
   "cell_type": "code",
   "execution_count": 36,
   "id": "284c6cff",
   "metadata": {},
   "outputs": [],
   "source": [
    "women_mean = works.query('gender == \"Женский\" and educationType == \"Среднее\"')"
   ]
  },
  {
   "cell_type": "code",
   "execution_count": 37,
   "id": "b3a21b35",
   "metadata": {},
   "outputs": [
    {
     "data": {
      "image/png": "[encoded data removed]",
      "text/plain": [
       "<Figure size 720x360 with 1 Axes>"
      ]
     },
     "metadata": {
      "needs_background": "light"
     },
     "output_type": "display_data"
    }
   ],
   "source": [
    "plt.figure(figsize=(10, 5))  \n",
    "plt.title('Распределение по заработной плате у женщин с незаконченным высшим образованием') \n",
    "plt.xlabel('Зарплата женщин') \n",
    "plt.ylabel('Количество женщин') \n",
    "plt.grid() \n",
    "\n",
    "plt.hist(women_mean['salary'], \n",
    "         bins=50) \n",
    "plt.show()"
   ]
  },
  {
   "cell_type": "code",
   "execution_count": 38,
   "id": "2edd9659",
   "metadata": {},
   "outputs": [],
   "source": [
    "women_mean_prof = works.query('gender == \"Женский\" and educationType == \"Среднее профессиональное\"')"
   ]
  },
  {
   "cell_type": "code",
   "execution_count": 39,
   "id": "c6da0874",
   "metadata": {},
   "outputs": [
    {
     "data": {
      "image/png": "[encoded data removed]",
      "text/plain": [
       "<Figure size 720x360 with 1 Axes>"
      ]
     },
     "metadata": {
      "needs_background": "light"
     },
     "output_type": "display_data"
    }
   ],
   "source": [
    "plt.figure(figsize=(10, 5))  \n",
    "plt.title('Распределение по заработной плате у женщин с незаконченным высшим образованием') \n",
    "plt.xlabel('Зарплата женщин') \n",
    "plt.ylabel('Количество женщин') \n",
    "plt.grid() \n",
    "\n",
    "plt.hist(women_mean_prof['salary'], \n",
    "         bins=50) \n",
    "plt.show()"
   ]
  }
 ],
 "metadata": {
  "kernelspec": {
   "display_name": "Python 3",
   "language": "python",
   "name": "python3"
  },
  "language_info": {
   "codemirror_mode": {
    "name": "ipython",
    "version": 3
   },
   "file_extension": ".py",
   "mimetype": "text/x-python",
   "name": "python",
   "nbconvert_exporter": "python",
   "pygments_lexer": "ipython3",
   "version": "3.8.8"
  }
 },
 "nbformat": 4,
 "nbformat_minor": 5
}
