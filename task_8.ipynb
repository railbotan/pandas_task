{
 "cells": [
  {
   "cell_type": "markdown",
   "id": "8e57c2fe",
   "metadata": {},
   "source": [
    "# Oчистить и визуализировать данные по профессии инженер и должности менеджер"
   ]
  },
  {
   "cell_type": "code",
   "execution_count": 1,
   "id": "ea24d33c",
   "metadata": {},
   "outputs": [],
   "source": [
    "import numpy as np\n",
    "import pandas as pd\n",
    "import matplotlib.pyplot as plt"
   ]
  },
  {
   "cell_type": "code",
   "execution_count": 2,
   "id": "504841ac",
   "metadata": {},
   "outputs": [
    {
     "data": {
      "text/html": [
       "<div>\n",
       "<style scoped>\n",
       "    .dataframe tbody tr th:only-of-type {\n",
       "        vertical-align: middle;\n",
       "    }\n",
       "\n",
       "    .dataframe tbody tr th {\n",
       "        vertical-align: top;\n",
       "    }\n",
       "\n",
       "    .dataframe thead th {\n",
       "        text-align: right;\n",
       "    }\n",
       "</style>\n",
       "<table border=\"1\" class=\"dataframe\">\n",
       "  <thead>\n",
       "    <tr style=\"text-align: right;\">\n",
       "      <th></th>\n",
       "      <th>salary</th>\n",
       "      <th>educationType</th>\n",
       "      <th>jobTitle</th>\n",
       "      <th>qualification</th>\n",
       "      <th>gender</th>\n",
       "      <th>dateModify</th>\n",
       "      <th>skills</th>\n",
       "      <th>otherInfo</th>\n",
       "    </tr>\n",
       "  </thead>\n",
       "  <tbody>\n",
       "    <tr>\n",
       "      <th>0</th>\n",
       "      <td>60000</td>\n",
       "      <td>Высшее</td>\n",
       "      <td>Специалист пресс-службы</td>\n",
       "      <td>Магистр</td>\n",
       "      <td>Мужской</td>\n",
       "      <td>2021-04-01</td>\n",
       "      <td>&lt;p&gt;Аналитическое&amp;nbsp;мышление,&amp;nbsp;&lt;span cla...</td>\n",
       "      <td>NaN</td>\n",
       "    </tr>\n",
       "    <tr>\n",
       "      <th>1</th>\n",
       "      <td>85000</td>\n",
       "      <td>Высшее</td>\n",
       "      <td>менеджер проектов</td>\n",
       "      <td>NaN</td>\n",
       "      <td>Мужской</td>\n",
       "      <td>2021-04-01</td>\n",
       "      <td>NaN</td>\n",
       "      <td>NaN</td>\n",
       "    </tr>\n",
       "    <tr>\n",
       "      <th>2</th>\n",
       "      <td>15000</td>\n",
       "      <td>Среднее профессиональное</td>\n",
       "      <td>....</td>\n",
       "      <td>NaN</td>\n",
       "      <td>Женский</td>\n",
       "      <td>2021-06-01</td>\n",
       "      <td>NaN</td>\n",
       "      <td>NaN</td>\n",
       "    </tr>\n",
       "    <tr>\n",
       "      <th>3</th>\n",
       "      <td>30000</td>\n",
       "      <td>NaN</td>\n",
       "      <td>NaN</td>\n",
       "      <td>NaN</td>\n",
       "      <td>Женский</td>\n",
       "      <td>2021-04-03</td>\n",
       "      <td>NaN</td>\n",
       "      <td>NaN</td>\n",
       "    </tr>\n",
       "    <tr>\n",
       "      <th>4</th>\n",
       "      <td>45000</td>\n",
       "      <td>NaN</td>\n",
       "      <td>NaN</td>\n",
       "      <td>NaN</td>\n",
       "      <td>Мужской</td>\n",
       "      <td>2021-06-28</td>\n",
       "      <td>NaN</td>\n",
       "      <td>NaN</td>\n",
       "    </tr>\n",
       "    <tr>\n",
       "      <th>...</th>\n",
       "      <td>...</td>\n",
       "      <td>...</td>\n",
       "      <td>...</td>\n",
       "      <td>...</td>\n",
       "      <td>...</td>\n",
       "      <td>...</td>\n",
       "      <td>...</td>\n",
       "      <td>...</td>\n",
       "    </tr>\n",
       "    <tr>\n",
       "      <th>32678</th>\n",
       "      <td>15000</td>\n",
       "      <td>NaN</td>\n",
       "      <td>NaN</td>\n",
       "      <td>NaN</td>\n",
       "      <td>Женский</td>\n",
       "      <td>2021-06-23</td>\n",
       "      <td>NaN</td>\n",
       "      <td>NaN</td>\n",
       "    </tr>\n",
       "    <tr>\n",
       "      <th>32679</th>\n",
       "      <td>13000</td>\n",
       "      <td>Среднее</td>\n",
       "      <td>уборщица</td>\n",
       "      <td>NaN</td>\n",
       "      <td>Женский</td>\n",
       "      <td>2021-07-29</td>\n",
       "      <td>NaN</td>\n",
       "      <td>NaN</td>\n",
       "    </tr>\n",
       "    <tr>\n",
       "      <th>32680</th>\n",
       "      <td>16000</td>\n",
       "      <td>Среднее профессиональное</td>\n",
       "      <td>кочегар машинист котельной</td>\n",
       "      <td>NaN</td>\n",
       "      <td>Мужской</td>\n",
       "      <td>2021-11-11</td>\n",
       "      <td>NaN</td>\n",
       "      <td>NaN</td>\n",
       "    </tr>\n",
       "    <tr>\n",
       "      <th>32681</th>\n",
       "      <td>35000</td>\n",
       "      <td>Высшее</td>\n",
       "      <td>NaN</td>\n",
       "      <td>NaN</td>\n",
       "      <td>Мужской</td>\n",
       "      <td>2020-04-21</td>\n",
       "      <td>NaN</td>\n",
       "      <td>NaN</td>\n",
       "    </tr>\n",
       "    <tr>\n",
       "      <th>32682</th>\n",
       "      <td>30000</td>\n",
       "      <td>NaN</td>\n",
       "      <td>NaN</td>\n",
       "      <td>NaN</td>\n",
       "      <td>Мужской</td>\n",
       "      <td>2021-06-20</td>\n",
       "      <td>NaN</td>\n",
       "      <td>NaN</td>\n",
       "    </tr>\n",
       "  </tbody>\n",
       "</table>\n",
       "<p>32683 rows × 8 columns</p>\n",
       "</div>"
      ],
      "text/plain": [
       "       salary             educationType                    jobTitle  \\\n",
       "0       60000                    Высшее     Специалист пресс-службы   \n",
       "1       85000                    Высшее           менеджер проектов   \n",
       "2       15000  Среднее профессиональное                        ....   \n",
       "3       30000                       NaN                         NaN   \n",
       "4       45000                       NaN                         NaN   \n",
       "...       ...                       ...                         ...   \n",
       "32678   15000                       NaN                         NaN   \n",
       "32679   13000                   Среднее                    уборщица   \n",
       "32680   16000  Среднее профессиональное  кочегар машинист котельной   \n",
       "32681   35000                    Высшее                         NaN   \n",
       "32682   30000                       NaN                         NaN   \n",
       "\n",
       "      qualification   gender  dateModify  \\\n",
       "0           Магистр  Мужской  2021-04-01   \n",
       "1               NaN  Мужской  2021-04-01   \n",
       "2               NaN  Женский  2021-06-01   \n",
       "3               NaN  Женский  2021-04-03   \n",
       "4               NaN  Мужской  2021-06-28   \n",
       "...             ...      ...         ...   \n",
       "32678           NaN  Женский  2021-06-23   \n",
       "32679           NaN  Женский  2021-07-29   \n",
       "32680           NaN  Мужской  2021-11-11   \n",
       "32681           NaN  Мужской  2020-04-21   \n",
       "32682           NaN  Мужской  2021-06-20   \n",
       "\n",
       "                                                  skills otherInfo  \n",
       "0      <p>Аналитическое&nbsp;мышление,&nbsp;<span cla...       NaN  \n",
       "1                                                    NaN       NaN  \n",
       "2                                                    NaN       NaN  \n",
       "3                                                    NaN       NaN  \n",
       "4                                                    NaN       NaN  \n",
       "...                                                  ...       ...  \n",
       "32678                                                NaN       NaN  \n",
       "32679                                                NaN       NaN  \n",
       "32680                                                NaN       NaN  \n",
       "32681                                                NaN       NaN  \n",
       "32682                                                NaN       NaN  \n",
       "\n",
       "[32683 rows x 8 columns]"
      ]
     },
     "execution_count": 2,
     "metadata": {},
     "output_type": "execute_result"
    }
   ],
   "source": [
    "works = pd.read_csv(\"works.csv\")\n",
    "works"
   ]
  },
  {
   "cell_type": "code",
   "execution_count": 3,
   "id": "e8158874",
   "metadata": {},
   "outputs": [],
   "source": [
    "# Удалим строки, где 'jobTitle' и 'qualification' равны NaN\n",
    "works.dropna(subset=['jobTitle'], inplace=True)\n",
    "works.dropna(subset=['qualification'], inplace=True)"
   ]
  },
  {
   "cell_type": "code",
   "execution_count": 4,
   "id": "a65c07ef",
   "metadata": {},
   "outputs": [
    {
     "data": {
      "text/plain": [
       "10130"
      ]
     },
     "execution_count": 4,
     "metadata": {},
     "output_type": "execute_result"
    }
   ],
   "source": [
    "# Осталось 10130 человек\n",
    "works.shape[0]"
   ]
  },
  {
   "cell_type": "markdown",
   "id": "c50f397e",
   "metadata": {},
   "source": [
    "## Без рассмотрения случаев, когда  \"jobTitle\" и \"qualification\" состоят из нескольких слов"
   ]
  },
  {
   "cell_type": "code",
   "execution_count": 5,
   "id": "595cdc5f",
   "metadata": {},
   "outputs": [],
   "source": [
    "# Приведем значения к нижнему регистру и заменим дефис на пробел\n",
    "works['qualification'] = works['qualification'].str.replace('-', ' ').str.lower()\n",
    "works[\"jobTitle\"] = works[\"jobTitle\"].str.replace('-', ' ').str.lower()"
   ]
  },
  {
   "cell_type": "code",
   "execution_count": 6,
   "id": "ddc9b4ee",
   "metadata": {},
   "outputs": [
    {
     "data": {
      "text/plain": [
       "False    9876\n",
       "True      254\n",
       "dtype: int64"
      ]
     },
     "execution_count": 6,
     "metadata": {},
     "output_type": "execute_result"
    }
   ],
   "source": [
    "# У 9876 человек не совпадает профессия и должность\n",
    "(works['jobTitle'] == works['qualification']).value_counts()"
   ]
  },
  {
   "cell_type": "markdown",
   "id": "79675c18",
   "metadata": {},
   "source": [
    "## Рассматриваем случаи когда  \"jobTitle\" и \"qualification\" состоят из нескольких слов"
   ]
  },
  {
   "cell_type": "code",
   "execution_count": 7,
   "id": "70537d8f",
   "metadata": {},
   "outputs": [],
   "source": [
    "def coincidences(column1, column2):\n",
    "    list1 = column1.split()\n",
    "    for word in list1:\n",
    "        if word in column2:\n",
    "            return True\n",
    "    return False"
   ]
  },
  {
   "cell_type": "code",
   "execution_count": 9,
   "id": "4041a14d",
   "metadata": {},
   "outputs": [
    {
     "data": {
      "text/plain": [
       "7714"
      ]
     },
     "execution_count": 9,
     "metadata": {},
     "output_type": "execute_result"
    }
   ],
   "source": [
    "# У 7714 человек не совпадает профессия и должность\n",
    "count = 0\n",
    "for (column1, column2) in zip(works[\"jobTitle\"], works[\"qualification\"]):\n",
    "    if coincidences(column1, column2) or coincidences(column2, column1):\n",
    "        count += 1\n",
    "\n",
    "works.shape[0] - count"
   ]
  },
  {
   "cell_type": "markdown",
   "id": "1bb3a49b",
   "metadata": {},
   "source": [
    "## ТОП-5 образований и графики к ним"
   ]
  },
  {
   "cell_type": "code",
   "execution_count": 10,
   "id": "4483602c",
   "metadata": {},
   "outputs": [
    {
     "data": {
      "text/plain": [
       "бакалавр              98\n",
       "экономист             86\n",
       "менеджер              79\n",
       "юрист                 41\n",
       "экономист менеджер    38\n",
       "Name: qualification, dtype: int64"
      ]
     },
     "execution_count": 10,
     "metadata": {},
     "output_type": "execute_result"
    }
   ],
   "source": [
    "# Топ-5 образований, после которых люди становятся менеджерами\n",
    "managers = works[works[\"jobTitle\"].str.contains(\"менедж\")]\n",
    "managers['qualification'].value_counts().head(5)"
   ]
  },
  {
   "cell_type": "code",
   "execution_count": 11,
   "id": "0f22eb56",
   "metadata": {},
   "outputs": [
    {
     "data": {
      "text/plain": [
       "инженер            25\n",
       "главный инженер    23\n",
       "директор           21\n",
       "менеджер           13\n",
       "водитель           11\n",
       "Name: jobTitle, dtype: int64"
      ]
     },
     "execution_count": 11,
     "metadata": {},
     "output_type": "execute_result"
    }
   ],
   "source": [
    "# Топ-5 образований, после которых люди становятся инженерами\n",
    "engineers = works[works[\"qualification\"].str.contains(\"инженер\")]\n",
    "engineers['jobTitle'].value_counts().head(5)"
   ]
  },
  {
   "cell_type": "code",
   "execution_count": 12,
   "id": "84496195",
   "metadata": {},
   "outputs": [],
   "source": [
    "managers_list = managers['qualification'].value_counts().head(5)\n",
    "engineers_list = engineers['jobTitle'].value_counts().head(5)"
   ]
  },
  {
   "cell_type": "code",
   "execution_count": 13,
   "id": "255a34e8",
   "metadata": {},
   "outputs": [
    {
     "data": {
      "image/png": "[encoded data removed]",
      "text/plain": [
       "<Figure size 504x288 with 1 Axes>"
      ]
     },
     "metadata": {
      "needs_background": "light"
     },
     "output_type": "display_data"
    }
   ],
   "source": [
    "names = managers_list.index.tolist()\n",
    "values = managers_list.tolist()\n",
    "\n",
    "fig = plt.figure()\n",
    "fig.set_figwidth(7)\n",
    "plt.bar(names, values)\n",
    "plt.title('ТОП-5 образований, после которых становятся менеджерами') \n",
    "plt.xlabel('Должность') \n",
    "plt.ylabel('Количество человек') \n",
    "\n",
    "plt.show()"
   ]
  },
  {
   "cell_type": "code",
   "execution_count": 14,
   "id": "617ea494",
   "metadata": {},
   "outputs": [
    {
     "data": {
      "image/png": "[encoded data removed]",
      "text/plain": [
       "<Figure size 504x288 with 1 Axes>"
      ]
     },
     "metadata": {
      "needs_background": "light"
     },
     "output_type": "display_data"
    }
   ],
   "source": [
    "names = engineers_list.index.tolist()\n",
    "values = engineers_list.tolist()\n",
    "\n",
    "fig = plt.figure()\n",
    "fig.set_figwidth(7)\n",
    "plt.bar(names, values)\n",
    "plt.title('ТОП-5 образований, после которых становятся инженерами') \n",
    "plt.xlabel('Должность') \n",
    "plt.ylabel('Количество человек') \n",
    "\n",
    "plt.show()"
   ]
  }
 ],
 "metadata": {
  "kernelspec": {
   "display_name": "Python 3",
   "language": "python",
   "name": "python3"
  },
  "language_info": {
   "codemirror_mode": {
    "name": "ipython",
    "version": 3
   },
   "file_extension": ".py",
   "mimetype": "text/x-python",
   "name": "python",
   "nbconvert_exporter": "python",
   "pygments_lexer": "ipython3",
   "version": "3.8.8"
  }
 },
 "nbformat": 4,
 "nbformat_minor": 5
}
