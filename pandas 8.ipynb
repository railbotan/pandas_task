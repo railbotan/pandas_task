{
 "cells": [
  {
   "cell_type": "markdown",
   "id": "d7743e9e",
   "metadata": {},
   "source": [
    "# Очистить и визуализировать данные по профессии инженер и должности менеджер"
   ]
  },
  {
   "cell_type": "code",
   "execution_count": 1,
   "id": "fd2932b0",
   "metadata": {},
   "outputs": [],
   "source": [
    "import numpy as np\n",
    "import pandas as pd\n",
    "import matplotlib.pyplot as plt"
   ]
  },
  {
   "cell_type": "code",
   "execution_count": 4,
   "id": "386f9e76",
   "metadata": {},
   "outputs": [
    {
     "data": {
      "text/html": [
       "<div>\n",
       "<style scoped>\n",
       "    .dataframe tbody tr th:only-of-type {\n",
       "        vertical-align: middle;\n",
       "    }\n",
       "\n",
       "    .dataframe tbody tr th {\n",
       "        vertical-align: top;\n",
       "    }\n",
       "\n",
       "    .dataframe thead th {\n",
       "        text-align: right;\n",
       "    }\n",
       "</style>\n",
       "<table border=\"1\" class=\"dataframe\">\n",
       "  <thead>\n",
       "    <tr style=\"text-align: right;\">\n",
       "      <th></th>\n",
       "      <th>salary</th>\n",
       "      <th>educationType</th>\n",
       "      <th>jobTitle</th>\n",
       "      <th>qualification</th>\n",
       "      <th>gender</th>\n",
       "      <th>dateModify</th>\n",
       "      <th>skills</th>\n",
       "      <th>otherInfo</th>\n",
       "    </tr>\n",
       "  </thead>\n",
       "  <tbody>\n",
       "    <tr>\n",
       "      <th>0</th>\n",
       "      <td>60000</td>\n",
       "      <td>Высшее</td>\n",
       "      <td>Специалист пресс-службы</td>\n",
       "      <td>Магистр</td>\n",
       "      <td>Мужской</td>\n",
       "      <td>2021-04-01</td>\n",
       "      <td>&lt;p&gt;Аналитическое&amp;nbsp;мышление,&amp;nbsp;&lt;span cla...</td>\n",
       "      <td>NaN</td>\n",
       "    </tr>\n",
       "    <tr>\n",
       "      <th>1</th>\n",
       "      <td>85000</td>\n",
       "      <td>Высшее</td>\n",
       "      <td>менеджер проектов</td>\n",
       "      <td>NaN</td>\n",
       "      <td>Мужской</td>\n",
       "      <td>2021-04-01</td>\n",
       "      <td>NaN</td>\n",
       "      <td>NaN</td>\n",
       "    </tr>\n",
       "    <tr>\n",
       "      <th>2</th>\n",
       "      <td>15000</td>\n",
       "      <td>Среднее профессиональное</td>\n",
       "      <td>....</td>\n",
       "      <td>NaN</td>\n",
       "      <td>Женский</td>\n",
       "      <td>2021-06-01</td>\n",
       "      <td>NaN</td>\n",
       "      <td>NaN</td>\n",
       "    </tr>\n",
       "    <tr>\n",
       "      <th>3</th>\n",
       "      <td>30000</td>\n",
       "      <td>NaN</td>\n",
       "      <td>NaN</td>\n",
       "      <td>NaN</td>\n",
       "      <td>Женский</td>\n",
       "      <td>2021-04-03</td>\n",
       "      <td>NaN</td>\n",
       "      <td>NaN</td>\n",
       "    </tr>\n",
       "    <tr>\n",
       "      <th>4</th>\n",
       "      <td>45000</td>\n",
       "      <td>NaN</td>\n",
       "      <td>NaN</td>\n",
       "      <td>NaN</td>\n",
       "      <td>Мужской</td>\n",
       "      <td>2021-06-28</td>\n",
       "      <td>NaN</td>\n",
       "      <td>NaN</td>\n",
       "    </tr>\n",
       "    <tr>\n",
       "      <th>...</th>\n",
       "      <td>...</td>\n",
       "      <td>...</td>\n",
       "      <td>...</td>\n",
       "      <td>...</td>\n",
       "      <td>...</td>\n",
       "      <td>...</td>\n",
       "      <td>...</td>\n",
       "      <td>...</td>\n",
       "    </tr>\n",
       "    <tr>\n",
       "      <th>32678</th>\n",
       "      <td>15000</td>\n",
       "      <td>NaN</td>\n",
       "      <td>NaN</td>\n",
       "      <td>NaN</td>\n",
       "      <td>Женский</td>\n",
       "      <td>2021-06-23</td>\n",
       "      <td>NaN</td>\n",
       "      <td>NaN</td>\n",
       "    </tr>\n",
       "    <tr>\n",
       "      <th>32679</th>\n",
       "      <td>13000</td>\n",
       "      <td>Среднее</td>\n",
       "      <td>уборщица</td>\n",
       "      <td>NaN</td>\n",
       "      <td>Женский</td>\n",
       "      <td>2021-07-29</td>\n",
       "      <td>NaN</td>\n",
       "      <td>NaN</td>\n",
       "    </tr>\n",
       "    <tr>\n",
       "      <th>32680</th>\n",
       "      <td>16000</td>\n",
       "      <td>Среднее профессиональное</td>\n",
       "      <td>кочегар машинист котельной</td>\n",
       "      <td>NaN</td>\n",
       "      <td>Мужской</td>\n",
       "      <td>2021-11-11</td>\n",
       "      <td>NaN</td>\n",
       "      <td>NaN</td>\n",
       "    </tr>\n",
       "    <tr>\n",
       "      <th>32681</th>\n",
       "      <td>35000</td>\n",
       "      <td>Высшее</td>\n",
       "      <td>NaN</td>\n",
       "      <td>NaN</td>\n",
       "      <td>Мужской</td>\n",
       "      <td>2020-04-21</td>\n",
       "      <td>NaN</td>\n",
       "      <td>NaN</td>\n",
       "    </tr>\n",
       "    <tr>\n",
       "      <th>32682</th>\n",
       "      <td>30000</td>\n",
       "      <td>NaN</td>\n",
       "      <td>NaN</td>\n",
       "      <td>NaN</td>\n",
       "      <td>Мужской</td>\n",
       "      <td>2021-06-20</td>\n",
       "      <td>NaN</td>\n",
       "      <td>NaN</td>\n",
       "    </tr>\n",
       "  </tbody>\n",
       "</table>\n",
       "<p>32683 rows × 8 columns</p>\n",
       "</div>"
      ],
      "text/plain": [
       "       salary             educationType                    jobTitle  \\\n",
       "0       60000                    Высшее     Специалист пресс-службы   \n",
       "1       85000                    Высшее           менеджер проектов   \n",
       "2       15000  Среднее профессиональное                        ....   \n",
       "3       30000                       NaN                         NaN   \n",
       "4       45000                       NaN                         NaN   \n",
       "...       ...                       ...                         ...   \n",
       "32678   15000                       NaN                         NaN   \n",
       "32679   13000                   Среднее                    уборщица   \n",
       "32680   16000  Среднее профессиональное  кочегар машинист котельной   \n",
       "32681   35000                    Высшее                         NaN   \n",
       "32682   30000                       NaN                         NaN   \n",
       "\n",
       "      qualification   gender  dateModify  \\\n",
       "0           Магистр  Мужской  2021-04-01   \n",
       "1               NaN  Мужской  2021-04-01   \n",
       "2               NaN  Женский  2021-06-01   \n",
       "3               NaN  Женский  2021-04-03   \n",
       "4               NaN  Мужской  2021-06-28   \n",
       "...             ...      ...         ...   \n",
       "32678           NaN  Женский  2021-06-23   \n",
       "32679           NaN  Женский  2021-07-29   \n",
       "32680           NaN  Мужской  2021-11-11   \n",
       "32681           NaN  Мужской  2020-04-21   \n",
       "32682           NaN  Мужской  2021-06-20   \n",
       "\n",
       "                                                  skills otherInfo  \n",
       "0      <p>Аналитическое&nbsp;мышление,&nbsp;<span cla...       NaN  \n",
       "1                                                    NaN       NaN  \n",
       "2                                                    NaN       NaN  \n",
       "3                                                    NaN       NaN  \n",
       "4                                                    NaN       NaN  \n",
       "...                                                  ...       ...  \n",
       "32678                                                NaN       NaN  \n",
       "32679                                                NaN       NaN  \n",
       "32680                                                NaN       NaN  \n",
       "32681                                                NaN       NaN  \n",
       "32682                                                NaN       NaN  \n",
       "\n",
       "[32683 rows x 8 columns]"
      ]
     },
     "execution_count": 4,
     "metadata": {},
     "output_type": "execute_result"
    }
   ],
   "source": [
    "works = pd.read_csv(\"works.csv\")\n",
    "works"
   ]
  },
  {
   "cell_type": "code",
   "execution_count": 5,
   "id": "12a3d651",
   "metadata": {},
   "outputs": [],
   "source": [
    "# Удаление строк, где 'jobTitle' и 'qualification' NaN\n",
    "works.dropna(subset=['jobTitle'], inplace=True)\n",
    "works.dropna(subset=['qualification'], inplace=True)"
   ]
  },
  {
   "cell_type": "code",
   "execution_count": 7,
   "id": "8e43b441",
   "metadata": {},
   "outputs": [
    {
     "data": {
      "text/plain": [
       "10130"
      ]
     },
     "execution_count": 7,
     "metadata": {},
     "output_type": "execute_result"
    }
   ],
   "source": [
    "# После этого стало 10130 человек\n",
    "works.shape[0]"
   ]
  },
  {
   "cell_type": "markdown",
   "id": "c1be8a56",
   "metadata": {},
   "source": [
    "## Без случаев, когда \"jobTitle\" и \"qualification\" из нескольких слов"
   ]
  },
  {
   "cell_type": "code",
   "execution_count": 8,
   "id": "b3615a84",
   "metadata": {},
   "outputs": [],
   "source": [
    "# Привели все значения к нижнему регистру и заменили \"-\" на пробел\n",
    "works['qualification'] = works['qualification'].str.replace('-', ' ').str.lower()\n",
    "works[\"jobTitle\"] = works[\"jobTitle\"].str.replace('-', ' ').str.lower()"
   ]
  },
  {
   "cell_type": "code",
   "execution_count": 9,
   "id": "a04c83b8",
   "metadata": {},
   "outputs": [
    {
     "data": {
      "text/plain": [
       "False    9876\n",
       "True      254\n",
       "dtype: int64"
      ]
     },
     "execution_count": 9,
     "metadata": {},
     "output_type": "execute_result"
    }
   ],
   "source": [
    "# У 9876 человек должность и профессия не совпадают\n",
    "(works['jobTitle'] == works['qualification']).value_counts()"
   ]
  },
  {
   "cell_type": "markdown",
   "id": "98b5c24a",
   "metadata": {},
   "source": [
    "## Случаи когда \"jobTitle\" и \"qualification\" состоят из нескольких слов"
   ]
  },
  {
   "cell_type": "code",
   "execution_count": 10,
   "id": "c715f905",
   "metadata": {},
   "outputs": [],
   "source": [
    "def match(col1, col2):\n",
    "    list1 = col1.split()\n",
    "    for word in list1:\n",
    "        if word in col2:\n",
    "            return True\n",
    "    return False"
   ]
  },
  {
   "cell_type": "code",
   "execution_count": 12,
   "id": "018791e5",
   "metadata": {},
   "outputs": [
    {
     "data": {
      "text/plain": [
       "7714"
      ]
     },
     "execution_count": 12,
     "metadata": {},
     "output_type": "execute_result"
    }
   ],
   "source": [
    "# У 7714 человек профессия и должность не совпадают\n",
    "count = 0\n",
    "for (col1, col2) in zip(works[\"jobTitle\"], works[\"qualification\"]):\n",
    "    if match(col1, col2) or match(col2, col1):\n",
    "        count += 1\n",
    "\n",
    "works.shape[0] - count"
   ]
  },
  {
   "cell_type": "markdown",
   "id": "deee8b5e",
   "metadata": {},
   "source": [
    "## Топ-5 образований и их графики"
   ]
  },
  {
   "cell_type": "code",
   "execution_count": 13,
   "id": "70d3e27d",
   "metadata": {},
   "outputs": [
    {
     "data": {
      "text/plain": [
       "бакалавр              98\n",
       "экономист             86\n",
       "менеджер              79\n",
       "юрист                 41\n",
       "экономист менеджер    38\n",
       "Name: qualification, dtype: int64"
      ]
     },
     "execution_count": 13,
     "metadata": {},
     "output_type": "execute_result"
    }
   ],
   "source": [
    "# Топ-5 образований, после которых люди менеджеры\n",
    "managers = works[works[\"jobTitle\"].str.contains(\"менедж\")]\n",
    "managers['qualification'].value_counts().head(5)"
   ]
  },
  {
   "cell_type": "code",
   "execution_count": 14,
   "id": "fc4a8aa2",
   "metadata": {},
   "outputs": [
    {
     "data": {
      "text/plain": [
       "инженер            25\n",
       "главный инженер    23\n",
       "директор           21\n",
       "менеджер           13\n",
       "водитель           11\n",
       "Name: jobTitle, dtype: int64"
      ]
     },
     "execution_count": 14,
     "metadata": {},
     "output_type": "execute_result"
    }
   ],
   "source": [
    "# Топ-5 образований, после которых люди инженеры\n",
    "engineers = works[works[\"qualification\"].str.contains(\"инженер\")]\n",
    "engineers['jobTitle'].value_counts().head(5)"
   ]
  },
  {
   "cell_type": "code",
   "execution_count": 15,
   "id": "2e0b9d05",
   "metadata": {},
   "outputs": [],
   "source": [
    "managers_list = managers['qualification'].value_counts().head(5)\n",
    "engineers_list = engineers['jobTitle'].value_counts().head(5)"
   ]
  },
  {
   "cell_type": "code",
   "execution_count": 25,
   "id": "97c8ab94",
   "metadata": {},
   "outputs": [
    {
     "data": {
      "image/png": "[encoded data removed]",
      "text/plain": [
       "<Figure size 576x288 with 1 Axes>"
      ]
     },
     "metadata": {
      "needs_background": "light"
     },
     "output_type": "display_data"
    }
   ],
   "source": [
    "names = managers_list.index.tolist()\n",
    "values = managers_list.tolist()\n",
    "\n",
    "fig = plt.figure()\n",
    "fig.set_figwidth(8)\n",
    "plt.bar(names, values, color ='orange')\n",
    "plt.title('ТОП-5 образований, после которых становятся менеджерами') \n",
    "plt.xlabel('Должность') \n",
    "plt.ylabel('Количество человек') \n",
    "\n",
    "plt.show()"
   ]
  },
  {
   "cell_type": "code",
   "execution_count": 26,
   "id": "7350ba48",
   "metadata": {},
   "outputs": [
    {
     "data": {
      "image/png": "[encoded data removed]",
      "text/plain": [
       "<Figure size 576x288 with 1 Axes>"
      ]
     },
     "metadata": {
      "needs_background": "light"
     },
     "output_type": "display_data"
    }
   ],
   "source": [
    "names = engineers_list.index.tolist()\n",
    "values = engineers_list.tolist()\n",
    "\n",
    "fig = plt.figure()\n",
    "fig.set_figwidth(8)\n",
    "plt.bar(names, values, color = 'purple')\n",
    "plt.title('ТОП-5 образований, после которых становятся инженерами') \n",
    "plt.xlabel('Должность') \n",
    "plt.ylabel('Количество человек') \n",
    "\n",
    "plt.show()"
   ]
  }
 ],
 "metadata": {
  "kernelspec": {
   "display_name": "Python 3",
   "language": "python",
   "name": "python3"
  },
  "language_info": {
   "codemirror_mode": {
    "name": "ipython",
    "version": 3
   },
   "file_extension": ".py",
   "mimetype": "text/x-python",
   "name": "python",
   "nbconvert_exporter": "python",
   "pygments_lexer": "ipython3",
   "version": "3.8.8"
  }
 },
 "nbformat": 4,
 "nbformat_minor": 5
}
